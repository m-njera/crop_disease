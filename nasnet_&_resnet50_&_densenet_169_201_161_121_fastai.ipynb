{
  "nbformat": 4,
  "nbformat_minor": 0,
  "metadata": {
    "colab": {
      "name": "nasnet_&_resnet50_&_densenet_169/201/161/121_fastai.ipynb",
      "provenance": [],
      "collapsed_sections": [],
      "machine_shape": "hm",
      "include_colab_link": true
    },
    "kernelspec": {
      "name": "python3",
      "display_name": "Python 3"
    },
    "accelerator": "GPU",
    "widgets": {
      "application/vnd.jupyter.widget-state+json": {
        "a09f04db75294ea983f96247ca1b37ff": {
          "model_module": "@jupyter-widgets/controls",
          "model_name": "HBoxModel",
          "state": {
            "_view_name": "HBoxView",
            "_dom_classes": [],
            "_model_name": "HBoxModel",
            "_view_module": "@jupyter-widgets/controls",
            "_model_module_version": "1.5.0",
            "_view_count": null,
            "_view_module_version": "1.5.0",
            "box_style": "",
            "layout": "IPY_MODEL_326bfc397d5a409aa8feeeeb26c50fc2",
            "_model_module": "@jupyter-widgets/controls",
            "children": [
              "IPY_MODEL_1accfc6897cb49819dc7448b540817db",
              "IPY_MODEL_13fd95ce1c3248cda8d1f179c28f82a6"
            ]
          }
        },
        "326bfc397d5a409aa8feeeeb26c50fc2": {
          "model_module": "@jupyter-widgets/base",
          "model_name": "LayoutModel",
          "state": {
            "_view_name": "LayoutView",
            "grid_template_rows": null,
            "right": null,
            "justify_content": null,
            "_view_module": "@jupyter-widgets/base",
            "overflow": null,
            "_model_module_version": "1.2.0",
            "_view_count": null,
            "flex_flow": null,
            "width": null,
            "min_width": null,
            "border": null,
            "align_items": null,
            "bottom": null,
            "_model_module": "@jupyter-widgets/base",
            "top": null,
            "grid_column": null,
            "overflow_y": null,
            "overflow_x": null,
            "grid_auto_flow": null,
            "grid_area": null,
            "grid_template_columns": null,
            "flex": null,
            "_model_name": "LayoutModel",
            "justify_items": null,
            "grid_row": null,
            "max_height": null,
            "align_content": null,
            "visibility": null,
            "align_self": null,
            "height": null,
            "min_height": null,
            "padding": null,
            "grid_auto_rows": null,
            "grid_gap": null,
            "max_width": null,
            "order": null,
            "_view_module_version": "1.2.0",
            "grid_template_areas": null,
            "object_position": null,
            "object_fit": null,
            "grid_auto_columns": null,
            "margin": null,
            "display": null,
            "left": null
          }
        },
        "1accfc6897cb49819dc7448b540817db": {
          "model_module": "@jupyter-widgets/controls",
          "model_name": "IntProgressModel",
          "state": {
            "_view_name": "ProgressView",
            "style": "IPY_MODEL_c00124d5667c47c78daf09b35f55ad79",
            "_dom_classes": [],
            "description": "100%",
            "_model_name": "IntProgressModel",
            "bar_style": "success",
            "max": 87306240,
            "_view_module": "@jupyter-widgets/controls",
            "_model_module_version": "1.5.0",
            "value": 87306240,
            "_view_count": null,
            "_view_module_version": "1.5.0",
            "orientation": "horizontal",
            "min": 0,
            "description_tooltip": null,
            "_model_module": "@jupyter-widgets/controls",
            "layout": "IPY_MODEL_23963509fc6d4487a0dbc9c8279e4396"
          }
        },
        "13fd95ce1c3248cda8d1f179c28f82a6": {
          "model_module": "@jupyter-widgets/controls",
          "model_name": "HTMLModel",
          "state": {
            "_view_name": "HTMLView",
            "style": "IPY_MODEL_7c5b456a6d1947dba45bdc37a57331fe",
            "_dom_classes": [],
            "description": "",
            "_model_name": "HTMLModel",
            "placeholder": "​",
            "_view_module": "@jupyter-widgets/controls",
            "_model_module_version": "1.5.0",
            "value": " 83.3M/83.3M [05:02&lt;00:00, 289kB/s]",
            "_view_count": null,
            "_view_module_version": "1.5.0",
            "description_tooltip": null,
            "_model_module": "@jupyter-widgets/controls",
            "layout": "IPY_MODEL_b1e992568cbe42b0b43d918cfe805f9f"
          }
        },
        "c00124d5667c47c78daf09b35f55ad79": {
          "model_module": "@jupyter-widgets/controls",
          "model_name": "ProgressStyleModel",
          "state": {
            "_view_name": "StyleView",
            "_model_name": "ProgressStyleModel",
            "description_width": "initial",
            "_view_module": "@jupyter-widgets/base",
            "_model_module_version": "1.5.0",
            "_view_count": null,
            "_view_module_version": "1.2.0",
            "bar_color": null,
            "_model_module": "@jupyter-widgets/controls"
          }
        },
        "23963509fc6d4487a0dbc9c8279e4396": {
          "model_module": "@jupyter-widgets/base",
          "model_name": "LayoutModel",
          "state": {
            "_view_name": "LayoutView",
            "grid_template_rows": null,
            "right": null,
            "justify_content": null,
            "_view_module": "@jupyter-widgets/base",
            "overflow": null,
            "_model_module_version": "1.2.0",
            "_view_count": null,
            "flex_flow": null,
            "width": null,
            "min_width": null,
            "border": null,
            "align_items": null,
            "bottom": null,
            "_model_module": "@jupyter-widgets/base",
            "top": null,
            "grid_column": null,
            "overflow_y": null,
            "overflow_x": null,
            "grid_auto_flow": null,
            "grid_area": null,
            "grid_template_columns": null,
            "flex": null,
            "_model_name": "LayoutModel",
            "justify_items": null,
            "grid_row": null,
            "max_height": null,
            "align_content": null,
            "visibility": null,
            "align_self": null,
            "height": null,
            "min_height": null,
            "padding": null,
            "grid_auto_rows": null,
            "grid_gap": null,
            "max_width": null,
            "order": null,
            "_view_module_version": "1.2.0",
            "grid_template_areas": null,
            "object_position": null,
            "object_fit": null,
            "grid_auto_columns": null,
            "margin": null,
            "display": null,
            "left": null
          }
        },
        "7c5b456a6d1947dba45bdc37a57331fe": {
          "model_module": "@jupyter-widgets/controls",
          "model_name": "DescriptionStyleModel",
          "state": {
            "_view_name": "StyleView",
            "_model_name": "DescriptionStyleModel",
            "description_width": "",
            "_view_module": "@jupyter-widgets/base",
            "_model_module_version": "1.5.0",
            "_view_count": null,
            "_view_module_version": "1.2.0",
            "_model_module": "@jupyter-widgets/controls"
          }
        },
        "b1e992568cbe42b0b43d918cfe805f9f": {
          "model_module": "@jupyter-widgets/base",
          "model_name": "LayoutModel",
          "state": {
            "_view_name": "LayoutView",
            "grid_template_rows": null,
            "right": null,
            "justify_content": null,
            "_view_module": "@jupyter-widgets/base",
            "overflow": null,
            "_model_module_version": "1.2.0",
            "_view_count": null,
            "flex_flow": null,
            "width": null,
            "min_width": null,
            "border": null,
            "align_items": null,
            "bottom": null,
            "_model_module": "@jupyter-widgets/base",
            "top": null,
            "grid_column": null,
            "overflow_y": null,
            "overflow_x": null,
            "grid_auto_flow": null,
            "grid_area": null,
            "grid_template_columns": null,
            "flex": null,
            "_model_name": "LayoutModel",
            "justify_items": null,
            "grid_row": null,
            "max_height": null,
            "align_content": null,
            "visibility": null,
            "align_self": null,
            "height": null,
            "min_height": null,
            "padding": null,
            "grid_auto_rows": null,
            "grid_gap": null,
            "max_width": null,
            "order": null,
            "_view_module_version": "1.2.0",
            "grid_template_areas": null,
            "object_position": null,
            "object_fit": null,
            "grid_auto_columns": null,
            "margin": null,
            "display": null,
            "left": null
          }
        },
        "87990c479f304c15b8b7ad2294a4948b": {
          "model_module": "@jupyter-widgets/controls",
          "model_name": "HBoxModel",
          "state": {
            "_view_name": "HBoxView",
            "_dom_classes": [],
            "_model_name": "HBoxModel",
            "_view_module": "@jupyter-widgets/controls",
            "_model_module_version": "1.5.0",
            "_view_count": null,
            "_view_module_version": "1.5.0",
            "box_style": "",
            "layout": "IPY_MODEL_0319f7c499a34c69b484b1f3b0dcf4ea",
            "_model_module": "@jupyter-widgets/controls",
            "children": [
              "IPY_MODEL_663b4eb695cc4facad01a3b081dd263e",
              "IPY_MODEL_d972cedf393b43e4b2990986f7f0e859"
            ]
          }
        },
        "0319f7c499a34c69b484b1f3b0dcf4ea": {
          "model_module": "@jupyter-widgets/base",
          "model_name": "LayoutModel",
          "state": {
            "_view_name": "LayoutView",
            "grid_template_rows": null,
            "right": null,
            "justify_content": null,
            "_view_module": "@jupyter-widgets/base",
            "overflow": null,
            "_model_module_version": "1.2.0",
            "_view_count": null,
            "flex_flow": null,
            "width": null,
            "min_width": null,
            "border": null,
            "align_items": null,
            "bottom": null,
            "_model_module": "@jupyter-widgets/base",
            "top": null,
            "grid_column": null,
            "overflow_y": null,
            "overflow_x": null,
            "grid_auto_flow": null,
            "grid_area": null,
            "grid_template_columns": null,
            "flex": null,
            "_model_name": "LayoutModel",
            "justify_items": null,
            "grid_row": null,
            "max_height": null,
            "align_content": null,
            "visibility": null,
            "align_self": null,
            "height": null,
            "min_height": null,
            "padding": null,
            "grid_auto_rows": null,
            "grid_gap": null,
            "max_width": null,
            "order": null,
            "_view_module_version": "1.2.0",
            "grid_template_areas": null,
            "object_position": null,
            "object_fit": null,
            "grid_auto_columns": null,
            "margin": null,
            "display": null,
            "left": null
          }
        },
        "663b4eb695cc4facad01a3b081dd263e": {
          "model_module": "@jupyter-widgets/controls",
          "model_name": "IntProgressModel",
          "state": {
            "_view_name": "ProgressView",
            "style": "IPY_MODEL_baaa4e630b954e83a21c1dac983e0f2f",
            "_dom_classes": [],
            "description": "100%",
            "_model_name": "IntProgressModel",
            "bar_style": "success",
            "max": 32342954,
            "_view_module": "@jupyter-widgets/controls",
            "_model_module_version": "1.5.0",
            "value": 32342954,
            "_view_count": null,
            "_view_module_version": "1.5.0",
            "orientation": "horizontal",
            "min": 0,
            "description_tooltip": null,
            "_model_module": "@jupyter-widgets/controls",
            "layout": "IPY_MODEL_b59f871fdf684f308954ccf4a1fb7634"
          }
        },
        "d972cedf393b43e4b2990986f7f0e859": {
          "model_module": "@jupyter-widgets/controls",
          "model_name": "HTMLModel",
          "state": {
            "_view_name": "HTMLView",
            "style": "IPY_MODEL_00dc55f1092a490ea56e5fe39c9108f2",
            "_dom_classes": [],
            "description": "",
            "_model_name": "HTMLModel",
            "placeholder": "​",
            "_view_module": "@jupyter-widgets/controls",
            "_model_module_version": "1.5.0",
            "value": " 30.8M/30.8M [00:10&lt;00:00, 3.16MB/s]",
            "_view_count": null,
            "_view_module_version": "1.5.0",
            "description_tooltip": null,
            "_model_module": "@jupyter-widgets/controls",
            "layout": "IPY_MODEL_b9631be9152645a0a94ec5baa87feee3"
          }
        },
        "baaa4e630b954e83a21c1dac983e0f2f": {
          "model_module": "@jupyter-widgets/controls",
          "model_name": "ProgressStyleModel",
          "state": {
            "_view_name": "StyleView",
            "_model_name": "ProgressStyleModel",
            "description_width": "initial",
            "_view_module": "@jupyter-widgets/base",
            "_model_module_version": "1.5.0",
            "_view_count": null,
            "_view_module_version": "1.2.0",
            "bar_color": null,
            "_model_module": "@jupyter-widgets/controls"
          }
        },
        "b59f871fdf684f308954ccf4a1fb7634": {
          "model_module": "@jupyter-widgets/base",
          "model_name": "LayoutModel",
          "state": {
            "_view_name": "LayoutView",
            "grid_template_rows": null,
            "right": null,
            "justify_content": null,
            "_view_module": "@jupyter-widgets/base",
            "overflow": null,
            "_model_module_version": "1.2.0",
            "_view_count": null,
            "flex_flow": null,
            "width": null,
            "min_width": null,
            "border": null,
            "align_items": null,
            "bottom": null,
            "_model_module": "@jupyter-widgets/base",
            "top": null,
            "grid_column": null,
            "overflow_y": null,
            "overflow_x": null,
            "grid_auto_flow": null,
            "grid_area": null,
            "grid_template_columns": null,
            "flex": null,
            "_model_name": "LayoutModel",
            "justify_items": null,
            "grid_row": null,
            "max_height": null,
            "align_content": null,
            "visibility": null,
            "align_self": null,
            "height": null,
            "min_height": null,
            "padding": null,
            "grid_auto_rows": null,
            "grid_gap": null,
            "max_width": null,
            "order": null,
            "_view_module_version": "1.2.0",
            "grid_template_areas": null,
            "object_position": null,
            "object_fit": null,
            "grid_auto_columns": null,
            "margin": null,
            "display": null,
            "left": null
          }
        },
        "00dc55f1092a490ea56e5fe39c9108f2": {
          "model_module": "@jupyter-widgets/controls",
          "model_name": "DescriptionStyleModel",
          "state": {
            "_view_name": "StyleView",
            "_model_name": "DescriptionStyleModel",
            "description_width": "",
            "_view_module": "@jupyter-widgets/base",
            "_model_module_version": "1.5.0",
            "_view_count": null,
            "_view_module_version": "1.2.0",
            "_model_module": "@jupyter-widgets/controls"
          }
        },
        "b9631be9152645a0a94ec5baa87feee3": {
          "model_module": "@jupyter-widgets/base",
          "model_name": "LayoutModel",
          "state": {
            "_view_name": "LayoutView",
            "grid_template_rows": null,
            "right": null,
            "justify_content": null,
            "_view_module": "@jupyter-widgets/base",
            "overflow": null,
            "_model_module_version": "1.2.0",
            "_view_count": null,
            "flex_flow": null,
            "width": null,
            "min_width": null,
            "border": null,
            "align_items": null,
            "bottom": null,
            "_model_module": "@jupyter-widgets/base",
            "top": null,
            "grid_column": null,
            "overflow_y": null,
            "overflow_x": null,
            "grid_auto_flow": null,
            "grid_area": null,
            "grid_template_columns": null,
            "flex": null,
            "_model_name": "LayoutModel",
            "justify_items": null,
            "grid_row": null,
            "max_height": null,
            "align_content": null,
            "visibility": null,
            "align_self": null,
            "height": null,
            "min_height": null,
            "padding": null,
            "grid_auto_rows": null,
            "grid_gap": null,
            "max_width": null,
            "order": null,
            "_view_module_version": "1.2.0",
            "grid_template_areas": null,
            "object_position": null,
            "object_fit": null,
            "grid_auto_columns": null,
            "margin": null,
            "display": null,
            "left": null
          }
        },
        "275499ea59de473a801a0c46739316f1": {
          "model_module": "@jupyter-widgets/controls",
          "model_name": "HBoxModel",
          "state": {
            "_view_name": "HBoxView",
            "_dom_classes": [],
            "_model_name": "HBoxModel",
            "_view_module": "@jupyter-widgets/controls",
            "_model_module_version": "1.5.0",
            "_view_count": null,
            "_view_module_version": "1.5.0",
            "box_style": "",
            "layout": "IPY_MODEL_43fd541f8a8e4bf6971b2afe4b1b9169",
            "_model_module": "@jupyter-widgets/controls",
            "children": [
              "IPY_MODEL_e1f0498181d945f096b2d1a075f9e892",
              "IPY_MODEL_c47a8573399c4ae4ae766463a09ef73b"
            ]
          }
        },
        "43fd541f8a8e4bf6971b2afe4b1b9169": {
          "model_module": "@jupyter-widgets/base",
          "model_name": "LayoutModel",
          "state": {
            "_view_name": "LayoutView",
            "grid_template_rows": null,
            "right": null,
            "justify_content": null,
            "_view_module": "@jupyter-widgets/base",
            "overflow": null,
            "_model_module_version": "1.2.0",
            "_view_count": null,
            "flex_flow": null,
            "width": null,
            "min_width": null,
            "border": null,
            "align_items": null,
            "bottom": null,
            "_model_module": "@jupyter-widgets/base",
            "top": null,
            "grid_column": null,
            "overflow_y": null,
            "overflow_x": null,
            "grid_auto_flow": null,
            "grid_area": null,
            "grid_template_columns": null,
            "flex": null,
            "_model_name": "LayoutModel",
            "justify_items": null,
            "grid_row": null,
            "max_height": null,
            "align_content": null,
            "visibility": null,
            "align_self": null,
            "height": null,
            "min_height": null,
            "padding": null,
            "grid_auto_rows": null,
            "grid_gap": null,
            "max_width": null,
            "order": null,
            "_view_module_version": "1.2.0",
            "grid_template_areas": null,
            "object_position": null,
            "object_fit": null,
            "grid_auto_columns": null,
            "margin": null,
            "display": null,
            "left": null
          }
        },
        "e1f0498181d945f096b2d1a075f9e892": {
          "model_module": "@jupyter-widgets/controls",
          "model_name": "IntProgressModel",
          "state": {
            "_view_name": "ProgressView",
            "style": "IPY_MODEL_b62e6504a4654199b68e789d8e12fb86",
            "_dom_classes": [],
            "description": "100%",
            "_model_name": "IntProgressModel",
            "bar_style": "success",
            "max": 115730790,
            "_view_module": "@jupyter-widgets/controls",
            "_model_module_version": "1.5.0",
            "value": 115730790,
            "_view_count": null,
            "_view_module_version": "1.5.0",
            "orientation": "horizontal",
            "min": 0,
            "description_tooltip": null,
            "_model_module": "@jupyter-widgets/controls",
            "layout": "IPY_MODEL_08bfedda69894eb0ac5adc541aad1a36"
          }
        },
        "c47a8573399c4ae4ae766463a09ef73b": {
          "model_module": "@jupyter-widgets/controls",
          "model_name": "HTMLModel",
          "state": {
            "_view_name": "HTMLView",
            "style": "IPY_MODEL_15e39bebab89410582e5249846bc8f93",
            "_dom_classes": [],
            "description": "",
            "_model_name": "HTMLModel",
            "placeholder": "​",
            "_view_module": "@jupyter-widgets/controls",
            "_model_module_version": "1.5.0",
            "value": " 110M/110M [00:01&lt;00:00, 78.7MB/s]",
            "_view_count": null,
            "_view_module_version": "1.5.0",
            "description_tooltip": null,
            "_model_module": "@jupyter-widgets/controls",
            "layout": "IPY_MODEL_1eb711e90b164358bee44b3a0afe749b"
          }
        },
        "b62e6504a4654199b68e789d8e12fb86": {
          "model_module": "@jupyter-widgets/controls",
          "model_name": "ProgressStyleModel",
          "state": {
            "_view_name": "StyleView",
            "_model_name": "ProgressStyleModel",
            "description_width": "initial",
            "_view_module": "@jupyter-widgets/base",
            "_model_module_version": "1.5.0",
            "_view_count": null,
            "_view_module_version": "1.2.0",
            "bar_color": null,
            "_model_module": "@jupyter-widgets/controls"
          }
        },
        "08bfedda69894eb0ac5adc541aad1a36": {
          "model_module": "@jupyter-widgets/base",
          "model_name": "LayoutModel",
          "state": {
            "_view_name": "LayoutView",
            "grid_template_rows": null,
            "right": null,
            "justify_content": null,
            "_view_module": "@jupyter-widgets/base",
            "overflow": null,
            "_model_module_version": "1.2.0",
            "_view_count": null,
            "flex_flow": null,
            "width": null,
            "min_width": null,
            "border": null,
            "align_items": null,
            "bottom": null,
            "_model_module": "@jupyter-widgets/base",
            "top": null,
            "grid_column": null,
            "overflow_y": null,
            "overflow_x": null,
            "grid_auto_flow": null,
            "grid_area": null,
            "grid_template_columns": null,
            "flex": null,
            "_model_name": "LayoutModel",
            "justify_items": null,
            "grid_row": null,
            "max_height": null,
            "align_content": null,
            "visibility": null,
            "align_self": null,
            "height": null,
            "min_height": null,
            "padding": null,
            "grid_auto_rows": null,
            "grid_gap": null,
            "max_width": null,
            "order": null,
            "_view_module_version": "1.2.0",
            "grid_template_areas": null,
            "object_position": null,
            "object_fit": null,
            "grid_auto_columns": null,
            "margin": null,
            "display": null,
            "left": null
          }
        },
        "15e39bebab89410582e5249846bc8f93": {
          "model_module": "@jupyter-widgets/controls",
          "model_name": "DescriptionStyleModel",
          "state": {
            "_view_name": "StyleView",
            "_model_name": "DescriptionStyleModel",
            "description_width": "",
            "_view_module": "@jupyter-widgets/base",
            "_model_module_version": "1.5.0",
            "_view_count": null,
            "_view_module_version": "1.2.0",
            "_model_module": "@jupyter-widgets/controls"
          }
        },
        "1eb711e90b164358bee44b3a0afe749b": {
          "model_module": "@jupyter-widgets/base",
          "model_name": "LayoutModel",
          "state": {
            "_view_name": "LayoutView",
            "grid_template_rows": null,
            "right": null,
            "justify_content": null,
            "_view_module": "@jupyter-widgets/base",
            "overflow": null,
            "_model_module_version": "1.2.0",
            "_view_count": null,
            "flex_flow": null,
            "width": null,
            "min_width": null,
            "border": null,
            "align_items": null,
            "bottom": null,
            "_model_module": "@jupyter-widgets/base",
            "top": null,
            "grid_column": null,
            "overflow_y": null,
            "overflow_x": null,
            "grid_auto_flow": null,
            "grid_area": null,
            "grid_template_columns": null,
            "flex": null,
            "_model_name": "LayoutModel",
            "justify_items": null,
            "grid_row": null,
            "max_height": null,
            "align_content": null,
            "visibility": null,
            "align_self": null,
            "height": null,
            "min_height": null,
            "padding": null,
            "grid_auto_rows": null,
            "grid_gap": null,
            "max_width": null,
            "order": null,
            "_view_module_version": "1.2.0",
            "grid_template_areas": null,
            "object_position": null,
            "object_fit": null,
            "grid_auto_columns": null,
            "margin": null,
            "display": null,
            "left": null
          }
        },
        "e4b6ab2e9ef1498395643767e1ea699f": {
          "model_module": "@jupyter-widgets/controls",
          "model_name": "HBoxModel",
          "state": {
            "_view_name": "HBoxView",
            "_dom_classes": [],
            "_model_name": "HBoxModel",
            "_view_module": "@jupyter-widgets/controls",
            "_model_module_version": "1.5.0",
            "_view_count": null,
            "_view_module_version": "1.5.0",
            "box_style": "",
            "layout": "IPY_MODEL_fb291329ee5a46fca9db14133ec39386",
            "_model_module": "@jupyter-widgets/controls",
            "children": [
              "IPY_MODEL_6175689261aa4b0c9a008fc1545d738b",
              "IPY_MODEL_92516a0837374d529ddd0e2f6d267f06"
            ]
          }
        },
        "fb291329ee5a46fca9db14133ec39386": {
          "model_module": "@jupyter-widgets/base",
          "model_name": "LayoutModel",
          "state": {
            "_view_name": "LayoutView",
            "grid_template_rows": null,
            "right": null,
            "justify_content": null,
            "_view_module": "@jupyter-widgets/base",
            "overflow": null,
            "_model_module_version": "1.2.0",
            "_view_count": null,
            "flex_flow": null,
            "width": null,
            "min_width": null,
            "border": null,
            "align_items": null,
            "bottom": null,
            "_model_module": "@jupyter-widgets/base",
            "top": null,
            "grid_column": null,
            "overflow_y": null,
            "overflow_x": null,
            "grid_auto_flow": null,
            "grid_area": null,
            "grid_template_columns": null,
            "flex": null,
            "_model_name": "LayoutModel",
            "justify_items": null,
            "grid_row": null,
            "max_height": null,
            "align_content": null,
            "visibility": null,
            "align_self": null,
            "height": null,
            "min_height": null,
            "padding": null,
            "grid_auto_rows": null,
            "grid_gap": null,
            "max_width": null,
            "order": null,
            "_view_module_version": "1.2.0",
            "grid_template_areas": null,
            "object_position": null,
            "object_fit": null,
            "grid_auto_columns": null,
            "margin": null,
            "display": null,
            "left": null
          }
        },
        "6175689261aa4b0c9a008fc1545d738b": {
          "model_module": "@jupyter-widgets/controls",
          "model_name": "IntProgressModel",
          "state": {
            "_view_name": "ProgressView",
            "style": "IPY_MODEL_466bbbc477da4adc9054d36a3e2ed7fc",
            "_dom_classes": [],
            "description": "100%",
            "_model_name": "IntProgressModel",
            "bar_style": "success",
            "max": 57365526,
            "_view_module": "@jupyter-widgets/controls",
            "_model_module_version": "1.5.0",
            "value": 57365526,
            "_view_count": null,
            "_view_module_version": "1.5.0",
            "orientation": "horizontal",
            "min": 0,
            "description_tooltip": null,
            "_model_module": "@jupyter-widgets/controls",
            "layout": "IPY_MODEL_1488fa6a505b476b89fe80db69af740d"
          }
        },
        "92516a0837374d529ddd0e2f6d267f06": {
          "model_module": "@jupyter-widgets/controls",
          "model_name": "HTMLModel",
          "state": {
            "_view_name": "HTMLView",
            "style": "IPY_MODEL_56cc5db7ca0445e2a502079f53fb60bd",
            "_dom_classes": [],
            "description": "",
            "_model_name": "HTMLModel",
            "placeholder": "​",
            "_view_module": "@jupyter-widgets/controls",
            "_model_module_version": "1.5.0",
            "value": " 54.7M/54.7M [00:02&lt;00:00, 26.7MB/s]",
            "_view_count": null,
            "_view_module_version": "1.5.0",
            "description_tooltip": null,
            "_model_module": "@jupyter-widgets/controls",
            "layout": "IPY_MODEL_6b1cd8649d5c4dd0a940aa5f1bfc0102"
          }
        },
        "466bbbc477da4adc9054d36a3e2ed7fc": {
          "model_module": "@jupyter-widgets/controls",
          "model_name": "ProgressStyleModel",
          "state": {
            "_view_name": "StyleView",
            "_model_name": "ProgressStyleModel",
            "description_width": "initial",
            "_view_module": "@jupyter-widgets/base",
            "_model_module_version": "1.5.0",
            "_view_count": null,
            "_view_module_version": "1.2.0",
            "bar_color": null,
            "_model_module": "@jupyter-widgets/controls"
          }
        },
        "1488fa6a505b476b89fe80db69af740d": {
          "model_module": "@jupyter-widgets/base",
          "model_name": "LayoutModel",
          "state": {
            "_view_name": "LayoutView",
            "grid_template_rows": null,
            "right": null,
            "justify_content": null,
            "_view_module": "@jupyter-widgets/base",
            "overflow": null,
            "_model_module_version": "1.2.0",
            "_view_count": null,
            "flex_flow": null,
            "width": null,
            "min_width": null,
            "border": null,
            "align_items": null,
            "bottom": null,
            "_model_module": "@jupyter-widgets/base",
            "top": null,
            "grid_column": null,
            "overflow_y": null,
            "overflow_x": null,
            "grid_auto_flow": null,
            "grid_area": null,
            "grid_template_columns": null,
            "flex": null,
            "_model_name": "LayoutModel",
            "justify_items": null,
            "grid_row": null,
            "max_height": null,
            "align_content": null,
            "visibility": null,
            "align_self": null,
            "height": null,
            "min_height": null,
            "padding": null,
            "grid_auto_rows": null,
            "grid_gap": null,
            "max_width": null,
            "order": null,
            "_view_module_version": "1.2.0",
            "grid_template_areas": null,
            "object_position": null,
            "object_fit": null,
            "grid_auto_columns": null,
            "margin": null,
            "display": null,
            "left": null
          }
        },
        "56cc5db7ca0445e2a502079f53fb60bd": {
          "model_module": "@jupyter-widgets/controls",
          "model_name": "DescriptionStyleModel",
          "state": {
            "_view_name": "StyleView",
            "_model_name": "DescriptionStyleModel",
            "description_width": "",
            "_view_module": "@jupyter-widgets/base",
            "_model_module_version": "1.5.0",
            "_view_count": null,
            "_view_module_version": "1.2.0",
            "_model_module": "@jupyter-widgets/controls"
          }
        },
        "6b1cd8649d5c4dd0a940aa5f1bfc0102": {
          "model_module": "@jupyter-widgets/base",
          "model_name": "LayoutModel",
          "state": {
            "_view_name": "LayoutView",
            "grid_template_rows": null,
            "right": null,
            "justify_content": null,
            "_view_module": "@jupyter-widgets/base",
            "overflow": null,
            "_model_module_version": "1.2.0",
            "_view_count": null,
            "flex_flow": null,
            "width": null,
            "min_width": null,
            "border": null,
            "align_items": null,
            "bottom": null,
            "_model_module": "@jupyter-widgets/base",
            "top": null,
            "grid_column": null,
            "overflow_y": null,
            "overflow_x": null,
            "grid_auto_flow": null,
            "grid_area": null,
            "grid_template_columns": null,
            "flex": null,
            "_model_name": "LayoutModel",
            "justify_items": null,
            "grid_row": null,
            "max_height": null,
            "align_content": null,
            "visibility": null,
            "align_self": null,
            "height": null,
            "min_height": null,
            "padding": null,
            "grid_auto_rows": null,
            "grid_gap": null,
            "max_width": null,
            "order": null,
            "_view_module_version": "1.2.0",
            "grid_template_areas": null,
            "object_position": null,
            "object_fit": null,
            "grid_auto_columns": null,
            "margin": null,
            "display": null,
            "left": null
          }
        }
      }
    }
  },
  "cells": [
    {
      "cell_type": "markdown",
      "metadata": {
        "id": "view-in-github",
        "colab_type": "text"
      },
      "source": [
        "<a href=\"https://colab.research.google.com/github/m-njera/crop_disease/blob/master/nasnet_%26_resnet50_%26_densenet_169_201_161_121_fastai.ipynb\" target=\"_parent\"><img src=\"https://colab.research.google.com/assets/colab-badge.svg\" alt=\"Open In Colab\"/></a>"
      ]
    },
    {
      "cell_type": "markdown",
      "metadata": {
        "id": "YoCIkO72Ose5",
        "colab_type": "text"
      },
      "source": [
        "#Libraries"
      ]
    },
    {
      "cell_type": "code",
      "metadata": {
        "id": "n0SZEkYfots6",
        "colab_type": "code",
        "outputId": "30e7077b-7e40-49e9-b48d-5d2c95e7f732",
        "colab": {
          "base_uri": "https://localhost:8080/",
          "height": 125
        }
      },
      "source": [
        "from google.colab import drive\n",
        "drive.mount('/content/drive')"
      ],
      "execution_count": 0,
      "outputs": [
        {
          "output_type": "stream",
          "text": [
            "Go to this URL in a browser: https://accounts.google.com/o/oauth2/auth?client_id=947318989803-6bn6qk8qdgf4n4g3pfee6491hc0brc4i.apps.googleusercontent.com&redirect_uri=urn%3aietf%3awg%3aoauth%3a2.0%3aoob&response_type=code&scope=email%20https%3a%2f%2fwww.googleapis.com%2fauth%2fdocs.test%20https%3a%2f%2fwww.googleapis.com%2fauth%2fdrive%20https%3a%2f%2fwww.googleapis.com%2fauth%2fdrive.photos.readonly%20https%3a%2f%2fwww.googleapis.com%2fauth%2fpeopleapi.readonly\n",
            "\n",
            "Enter your authorization code:\n",
            "··········\n",
            "Mounted at /content/drive\n"
          ],
          "name": "stdout"
        }
      ]
    },
    {
      "cell_type": "code",
      "metadata": {
        "id": "fMg0VIq9xio9",
        "colab_type": "code",
        "colab": {}
      },
      "source": [
        "import numpy as np\n",
        "import pickle\n",
        "import os\n",
        "import glob\n",
        "import pandas as pd\n",
        "from google.colab import drive\n",
        "import cv2\n",
        "from PIL import Image\n",
        "from pathlib import Path\n",
        "import fastai\n",
        "\n",
        "from fastai.vision import *\n",
        "import torch\n",
        "import torchvision.models as TorchModels\n",
        "\n",
        "# create image data bunch\n",
        "# create image data bunch\n",
        "\n",
        "data = ImageDataBunch.from_folder('/content/drive/My Drive/crop', train=\"train/\", test='lot/test/',\n",
        "                              valid_pct=0.2,\n",
        "                              ds_tfms=get_transforms(max_zoom=0.2,do_flip=True, flip_vert= True),\n",
        "                              size=331, #331 resnet , 224 nasnetmobile, 331 xception\n",
        "                              bs=16, \n",
        "                              #num_workers=os.cpu_count()\n",
        "                             ).normalize(imagenet_stats)"
      ],
      "execution_count": 0,
      "outputs": []
    },
    {
      "cell_type": "code",
      "metadata": {
        "id": "9ONzNRQJ7KFU",
        "colab_type": "code",
        "outputId": "c084a31b-5d38-4fa9-a4d0-416d0ba7a2a1",
        "colab": {
          "base_uri": "https://localhost:8080/",
          "height": 104,
          "referenced_widgets": [
            "a09f04db75294ea983f96247ca1b37ff",
            "326bfc397d5a409aa8feeeeb26c50fc2",
            "1accfc6897cb49819dc7448b540817db",
            "13fd95ce1c3248cda8d1f179c28f82a6",
            "c00124d5667c47c78daf09b35f55ad79",
            "23963509fc6d4487a0dbc9c8279e4396",
            "7c5b456a6d1947dba45bdc37a57331fe",
            "b1e992568cbe42b0b43d918cfe805f9f"
          ]
        }
      },
      "source": [
        "learn = cnn_learner(data, models.resnet34, metrics=[error_rate,accuracy])\n",
        "#learn.fit_one_cycle(4)"
      ],
      "execution_count": 0,
      "outputs": [
        {
          "output_type": "stream",
          "text": [
            "Downloading: \"https://download.pytorch.org/models/resnet34-333f7ec4.pth\" to /root/.cache/torch/checkpoints/resnet34-333f7ec4.pth\n"
          ],
          "name": "stderr"
        },
        {
          "output_type": "display_data",
          "data": {
            "application/vnd.jupyter.widget-view+json": {
              "model_id": "a09f04db75294ea983f96247ca1b37ff",
              "version_minor": 0,
              "version_major": 2
            },
            "text/plain": [
              "HBox(children=(IntProgress(value=0, max=87306240), HTML(value='')))"
            ]
          },
          "metadata": {
            "tags": []
          }
        },
        {
          "output_type": "stream",
          "text": [
            "\n"
          ],
          "name": "stdout"
        }
      ]
    },
    {
      "cell_type": "code",
      "metadata": {
        "id": "WcMSxmpBFuCT",
        "colab_type": "code",
        "outputId": "d6d9bd1a-5135-4aa6-ee35-9232edeec5dd",
        "colab": {
          "base_uri": "https://localhost:8080/",
          "height": 468
        }
      },
      "source": [
        "learn.unfreeze()\n",
        "learn.lr_find()\n",
        "learn.recorder.plot(suggestion=True)"
      ],
      "execution_count": 0,
      "outputs": [
        {
          "output_type": "display_data",
          "data": {
            "text/html": [
              "\n",
              "    <div>\n",
              "        <style>\n",
              "            /* Turns off some styling */\n",
              "            progress {\n",
              "                /* gets rid of default border in Firefox and Opera. */\n",
              "                border: none;\n",
              "                /* Needs to be in here for Safari polyfill so background images work as expected. */\n",
              "                background-size: auto;\n",
              "            }\n",
              "            .progress-bar-interrupted, .progress-bar-interrupted::-webkit-progress-bar {\n",
              "                background: #F44336;\n",
              "            }\n",
              "        </style>\n",
              "      <progress value='2' class='' max='3', style='width:300px; height:20px; vertical-align: middle;'></progress>\n",
              "      66.67% [2/3 02:06<01:03]\n",
              "    </div>\n",
              "    \n",
              "<table border=\"1\" class=\"dataframe\">\n",
              "  <thead>\n",
              "    <tr style=\"text-align: left;\">\n",
              "      <th>epoch</th>\n",
              "      <th>train_loss</th>\n",
              "      <th>valid_loss</th>\n",
              "      <th>error_rate</th>\n",
              "      <th>accuracy</th>\n",
              "      <th>time</th>\n",
              "    </tr>\n",
              "  </thead>\n",
              "  <tbody>\n",
              "    <tr>\n",
              "      <td>0</td>\n",
              "      <td>0.704254</td>\n",
              "      <td>#na#</td>\n",
              "      <td>01:02</td>\n",
              "    </tr>\n",
              "    <tr>\n",
              "      <td>1</td>\n",
              "      <td>1.472914</td>\n",
              "      <td>#na#</td>\n",
              "      <td>01:03</td>\n",
              "    </tr>\n",
              "  </tbody>\n",
              "</table><p>\n",
              "\n",
              "    <div>\n",
              "        <style>\n",
              "            /* Turns off some styling */\n",
              "            progress {\n",
              "                /* gets rid of default border in Firefox and Opera. */\n",
              "                border: none;\n",
              "                /* Needs to be in here for Safari polyfill so background images work as expected. */\n",
              "                background-size: auto;\n",
              "            }\n",
              "            .progress-bar-interrupted, .progress-bar-interrupted::-webkit-progress-bar {\n",
              "                background: #F44336;\n",
              "            }\n",
              "        </style>\n",
              "      <progress value='6' class='' max='38', style='width:300px; height:20px; vertical-align: middle;'></progress>\n",
              "      15.79% [6/38 00:14<01:15 2.2635]\n",
              "    </div>\n",
              "    "
            ],
            "text/plain": [
              "<IPython.core.display.HTML object>"
            ]
          },
          "metadata": {
            "tags": []
          }
        },
        {
          "output_type": "stream",
          "text": [
            "LR Finder is complete, type {learner_name}.recorder.plot() to see the graph.\n",
            "Min numerical gradient: 2.29E-06\n",
            "Min loss divided by 10: 2.09E-06\n"
          ],
          "name": "stdout"
        },
        {
          "output_type": "display_data",
          "data": {
            "image/png": "[encoded data removed]",
            "text/plain": [
              "<Figure size 432x288 with 1 Axes>"
            ]
          },
          "metadata": {
            "tags": []
          }
        }
      ]
    },
    {
      "cell_type": "code",
      "metadata": {
        "id": "hUwWCQpm9UP2",
        "colab_type": "code",
        "outputId": "8728d6df-9b5d-4ff0-d5c8-fd3b9223f603",
        "colab": {
          "base_uri": "https://localhost:8080/",
          "height": 1000
        }
      },
      "source": [
        "from fastai.callbacks.tracker import *\n",
        "learn.unfreeze\n",
        "learn.fit_one_cycle(cyc_len=35, max_lr=slice(1e-4,1e-3), wd=0.01,callbacks=[SaveModelCallback(learn, monitor='accuracy', name='restnet35')])"
      ],
      "execution_count": 0,
      "outputs": [
        {
          "output_type": "display_data",
          "data": {
            "text/html": [
              "<table border=\"1\" class=\"dataframe\">\n",
              "  <thead>\n",
              "    <tr style=\"text-align: left;\">\n",
              "      <th>epoch</th>\n",
              "      <th>train_loss</th>\n",
              "      <th>valid_loss</th>\n",
              "      <th>error_rate</th>\n",
              "      <th>accuracy</th>\n",
              "      <th>time</th>\n",
              "    </tr>\n",
              "  </thead>\n",
              "  <tbody>\n",
              "    <tr>\n",
              "      <td>0</td>\n",
              "      <td>1.792859</td>\n",
              "      <td>1.123855</td>\n",
              "      <td>0.451429</td>\n",
              "      <td>0.548571</td>\n",
              "      <td>01:26</td>\n",
              "    </tr>\n",
              "    <tr>\n",
              "      <td>1</td>\n",
              "      <td>1.615406</td>\n",
              "      <td>0.948903</td>\n",
              "      <td>0.360000</td>\n",
              "      <td>0.640000</td>\n",
              "      <td>01:23</td>\n",
              "    </tr>\n",
              "    <tr>\n",
              "      <td>2</td>\n",
              "      <td>1.405523</td>\n",
              "      <td>0.790590</td>\n",
              "      <td>0.331429</td>\n",
              "      <td>0.668571</td>\n",
              "      <td>01:23</td>\n",
              "    </tr>\n",
              "    <tr>\n",
              "      <td>3</td>\n",
              "      <td>1.229772</td>\n",
              "      <td>0.662872</td>\n",
              "      <td>0.251429</td>\n",
              "      <td>0.748571</td>\n",
              "      <td>01:25</td>\n",
              "    </tr>\n",
              "    <tr>\n",
              "      <td>4</td>\n",
              "      <td>1.082851</td>\n",
              "      <td>0.556669</td>\n",
              "      <td>0.234286</td>\n",
              "      <td>0.765714</td>\n",
              "      <td>01:26</td>\n",
              "    </tr>\n",
              "    <tr>\n",
              "      <td>5</td>\n",
              "      <td>0.979950</td>\n",
              "      <td>0.520807</td>\n",
              "      <td>0.182857</td>\n",
              "      <td>0.817143</td>\n",
              "      <td>01:25</td>\n",
              "    </tr>\n",
              "    <tr>\n",
              "      <td>6</td>\n",
              "      <td>0.930754</td>\n",
              "      <td>0.441923</td>\n",
              "      <td>0.160000</td>\n",
              "      <td>0.840000</td>\n",
              "      <td>01:26</td>\n",
              "    </tr>\n",
              "    <tr>\n",
              "      <td>7</td>\n",
              "      <td>0.869558</td>\n",
              "      <td>0.534446</td>\n",
              "      <td>0.194286</td>\n",
              "      <td>0.805714</td>\n",
              "      <td>01:25</td>\n",
              "    </tr>\n",
              "    <tr>\n",
              "      <td>8</td>\n",
              "      <td>0.788439</td>\n",
              "      <td>0.475399</td>\n",
              "      <td>0.154286</td>\n",
              "      <td>0.845714</td>\n",
              "      <td>01:24</td>\n",
              "    </tr>\n",
              "    <tr>\n",
              "      <td>9</td>\n",
              "      <td>0.707348</td>\n",
              "      <td>0.471896</td>\n",
              "      <td>0.154286</td>\n",
              "      <td>0.845714</td>\n",
              "      <td>01:24</td>\n",
              "    </tr>\n",
              "    <tr>\n",
              "      <td>10</td>\n",
              "      <td>0.694592</td>\n",
              "      <td>0.422960</td>\n",
              "      <td>0.142857</td>\n",
              "      <td>0.857143</td>\n",
              "      <td>01:23</td>\n",
              "    </tr>\n",
              "    <tr>\n",
              "      <td>11</td>\n",
              "      <td>0.631749</td>\n",
              "      <td>0.490545</td>\n",
              "      <td>0.142857</td>\n",
              "      <td>0.857143</td>\n",
              "      <td>01:23</td>\n",
              "    </tr>\n",
              "    <tr>\n",
              "      <td>12</td>\n",
              "      <td>0.605468</td>\n",
              "      <td>0.457716</td>\n",
              "      <td>0.137143</td>\n",
              "      <td>0.862857</td>\n",
              "      <td>01:22</td>\n",
              "    </tr>\n",
              "    <tr>\n",
              "      <td>13</td>\n",
              "      <td>0.564816</td>\n",
              "      <td>0.460614</td>\n",
              "      <td>0.137143</td>\n",
              "      <td>0.862857</td>\n",
              "      <td>01:22</td>\n",
              "    </tr>\n",
              "    <tr>\n",
              "      <td>14</td>\n",
              "      <td>0.540259</td>\n",
              "      <td>0.418633</td>\n",
              "      <td>0.125714</td>\n",
              "      <td>0.874286</td>\n",
              "      <td>01:30</td>\n",
              "    </tr>\n",
              "    <tr>\n",
              "      <td>15</td>\n",
              "      <td>0.506936</td>\n",
              "      <td>0.375499</td>\n",
              "      <td>0.131429</td>\n",
              "      <td>0.868571</td>\n",
              "      <td>01:26</td>\n",
              "    </tr>\n",
              "    <tr>\n",
              "      <td>16</td>\n",
              "      <td>0.455871</td>\n",
              "      <td>0.428754</td>\n",
              "      <td>0.142857</td>\n",
              "      <td>0.857143</td>\n",
              "      <td>01:27</td>\n",
              "    </tr>\n",
              "    <tr>\n",
              "      <td>17</td>\n",
              "      <td>0.455243</td>\n",
              "      <td>0.347971</td>\n",
              "      <td>0.131429</td>\n",
              "      <td>0.868571</td>\n",
              "      <td>01:25</td>\n",
              "    </tr>\n",
              "    <tr>\n",
              "      <td>18</td>\n",
              "      <td>0.424915</td>\n",
              "      <td>0.379599</td>\n",
              "      <td>0.125714</td>\n",
              "      <td>0.874286</td>\n",
              "      <td>01:25</td>\n",
              "    </tr>\n",
              "    <tr>\n",
              "      <td>19</td>\n",
              "      <td>0.382090</td>\n",
              "      <td>0.365487</td>\n",
              "      <td>0.125714</td>\n",
              "      <td>0.874286</td>\n",
              "      <td>01:24</td>\n",
              "    </tr>\n",
              "    <tr>\n",
              "      <td>20</td>\n",
              "      <td>0.368289</td>\n",
              "      <td>0.409144</td>\n",
              "      <td>0.125714</td>\n",
              "      <td>0.874286</td>\n",
              "      <td>01:29</td>\n",
              "    </tr>\n",
              "    <tr>\n",
              "      <td>21</td>\n",
              "      <td>0.389718</td>\n",
              "      <td>0.418804</td>\n",
              "      <td>0.137143</td>\n",
              "      <td>0.862857</td>\n",
              "      <td>01:27</td>\n",
              "    </tr>\n",
              "    <tr>\n",
              "      <td>22</td>\n",
              "      <td>0.362946</td>\n",
              "      <td>0.395059</td>\n",
              "      <td>0.114286</td>\n",
              "      <td>0.885714</td>\n",
              "      <td>01:30</td>\n",
              "    </tr>\n",
              "    <tr>\n",
              "      <td>23</td>\n",
              "      <td>0.356106</td>\n",
              "      <td>0.374004</td>\n",
              "      <td>0.120000</td>\n",
              "      <td>0.880000</td>\n",
              "      <td>01:28</td>\n",
              "    </tr>\n",
              "    <tr>\n",
              "      <td>24</td>\n",
              "      <td>0.351839</td>\n",
              "      <td>0.386274</td>\n",
              "      <td>0.142857</td>\n",
              "      <td>0.857143</td>\n",
              "      <td>01:28</td>\n",
              "    </tr>\n",
              "    <tr>\n",
              "      <td>25</td>\n",
              "      <td>0.353510</td>\n",
              "      <td>0.384714</td>\n",
              "      <td>0.125714</td>\n",
              "      <td>0.874286</td>\n",
              "      <td>01:28</td>\n",
              "    </tr>\n",
              "    <tr>\n",
              "      <td>26</td>\n",
              "      <td>0.321711</td>\n",
              "      <td>0.356777</td>\n",
              "      <td>0.108571</td>\n",
              "      <td>0.891429</td>\n",
              "      <td>01:29</td>\n",
              "    </tr>\n",
              "    <tr>\n",
              "      <td>27</td>\n",
              "      <td>0.322022</td>\n",
              "      <td>0.361127</td>\n",
              "      <td>0.114286</td>\n",
              "      <td>0.885714</td>\n",
              "      <td>01:28</td>\n",
              "    </tr>\n",
              "    <tr>\n",
              "      <td>28</td>\n",
              "      <td>0.310836</td>\n",
              "      <td>0.372989</td>\n",
              "      <td>0.114286</td>\n",
              "      <td>0.885714</td>\n",
              "      <td>01:28</td>\n",
              "    </tr>\n",
              "    <tr>\n",
              "      <td>29</td>\n",
              "      <td>0.305287</td>\n",
              "      <td>0.354581</td>\n",
              "      <td>0.108571</td>\n",
              "      <td>0.891429</td>\n",
              "      <td>01:29</td>\n",
              "    </tr>\n",
              "    <tr>\n",
              "      <td>30</td>\n",
              "      <td>0.303257</td>\n",
              "      <td>0.382541</td>\n",
              "      <td>0.120000</td>\n",
              "      <td>0.880000</td>\n",
              "      <td>01:24</td>\n",
              "    </tr>\n",
              "    <tr>\n",
              "      <td>31</td>\n",
              "      <td>0.310280</td>\n",
              "      <td>0.379954</td>\n",
              "      <td>0.114286</td>\n",
              "      <td>0.885714</td>\n",
              "      <td>01:24</td>\n",
              "    </tr>\n",
              "    <tr>\n",
              "      <td>32</td>\n",
              "      <td>0.309079</td>\n",
              "      <td>0.387350</td>\n",
              "      <td>0.120000</td>\n",
              "      <td>0.880000</td>\n",
              "      <td>01:26</td>\n",
              "    </tr>\n",
              "    <tr>\n",
              "      <td>33</td>\n",
              "      <td>0.282264</td>\n",
              "      <td>0.383668</td>\n",
              "      <td>0.114286</td>\n",
              "      <td>0.885714</td>\n",
              "      <td>01:27</td>\n",
              "    </tr>\n",
              "    <tr>\n",
              "      <td>34</td>\n",
              "      <td>0.270336</td>\n",
              "      <td>0.362333</td>\n",
              "      <td>0.108571</td>\n",
              "      <td>0.891429</td>\n",
              "      <td>01:28</td>\n",
              "    </tr>\n",
              "  </tbody>\n",
              "</table>"
            ],
            "text/plain": [
              "<IPython.core.display.HTML object>"
            ]
          },
          "metadata": {
            "tags": []
          }
        },
        {
          "output_type": "stream",
          "text": [
            "Better model found at epoch 0 with accuracy value: 0.5485714077949524.\n",
            "Better model found at epoch 1 with accuracy value: 0.6399999856948853.\n",
            "Better model found at epoch 2 with accuracy value: 0.668571412563324.\n",
            "Better model found at epoch 3 with accuracy value: 0.7485714554786682.\n",
            "Better model found at epoch 4 with accuracy value: 0.7657142877578735.\n",
            "Better model found at epoch 5 with accuracy value: 0.8171428442001343.\n",
            "Better model found at epoch 6 with accuracy value: 0.8399999737739563.\n",
            "Better model found at epoch 8 with accuracy value: 0.845714271068573.\n",
            "Better model found at epoch 10 with accuracy value: 0.8571428656578064.\n",
            "Better model found at epoch 12 with accuracy value: 0.8628571629524231.\n",
            "Better model found at epoch 14 with accuracy value: 0.8742856979370117.\n",
            "Better model found at epoch 22 with accuracy value: 0.8857142925262451.\n",
            "Better model found at epoch 26 with accuracy value: 0.8914285898208618.\n"
          ],
          "name": "stdout"
        }
      ]
    },
    {
      "cell_type": "code",
      "metadata": {
        "id": "QPTjRup9BPzN",
        "colab_type": "code",
        "outputId": "a12517dd-de6d-4491-f636-f21071a46526",
        "colab": {
          "base_uri": "https://localhost:8080/",
          "height": 503
        }
      },
      "source": [
        "interp = ClassificationInterpretation.from_learner(learn)\n",
        "interp.plot_confusion_matrix(figsize=(8,8), dpi=60)"
      ],
      "execution_count": 0,
      "outputs": [
        {
          "output_type": "display_data",
          "data": {
            "text/html": [
              ""
            ],
            "text/plain": [
              "<IPython.core.display.HTML object>"
            ]
          },
          "metadata": {
            "tags": []
          }
        },
        {
          "output_type": "display_data",
          "data": {
            "image/png": "[encoded data removed]",
            "text/plain": [
              "<Figure size 480x480 with 1 Axes>"
            ]
          },
          "metadata": {
            "tags": []
          }
        }
      ]
    },
    {
      "cell_type": "code",
      "metadata": {
        "id": "sbl3qbP1oSz0",
        "colab_type": "code",
        "outputId": "991f9742-5698-4ac1-8d92-b09f71771e3f",
        "colab": {
          "base_uri": "https://localhost:8080/",
          "height": 438
        }
      },
      "source": [
        "learn.unfreeze()\n",
        "learn.lr_find()\n",
        "learn.recorder.plot(suggestion=True)"
      ],
      "execution_count": 0,
      "outputs": [
        {
          "output_type": "display_data",
          "data": {
            "text/html": [
              "\n",
              "    <div>\n",
              "        <style>\n",
              "            /* Turns off some styling */\n",
              "            progress {\n",
              "                /* gets rid of default border in Firefox and Opera. */\n",
              "                border: none;\n",
              "                /* Needs to be in here for Safari polyfill so background images work as expected. */\n",
              "                background-size: auto;\n",
              "            }\n",
              "            .progress-bar-interrupted, .progress-bar-interrupted::-webkit-progress-bar {\n",
              "                background: #F44336;\n",
              "            }\n",
              "        </style>\n",
              "      <progress value='1' class='' max='3', style='width:300px; height:20px; vertical-align: middle;'></progress>\n",
              "      33.33% [1/3 01:03<02:06]\n",
              "    </div>\n",
              "    \n",
              "<table border=\"1\" class=\"dataframe\">\n",
              "  <thead>\n",
              "    <tr style=\"text-align: left;\">\n",
              "      <th>epoch</th>\n",
              "      <th>train_loss</th>\n",
              "      <th>valid_loss</th>\n",
              "      <th>error_rate</th>\n",
              "      <th>accuracy</th>\n",
              "      <th>time</th>\n",
              "    </tr>\n",
              "  </thead>\n",
              "  <tbody>\n",
              "    <tr>\n",
              "      <td>0</td>\n",
              "      <td>0.164399</td>\n",
              "      <td>#na#</td>\n",
              "      <td>01:03</td>\n",
              "    </tr>\n",
              "  </tbody>\n",
              "</table><p>\n",
              "\n",
              "    <div>\n",
              "        <style>\n",
              "            /* Turns off some styling */\n",
              "            progress {\n",
              "                /* gets rid of default border in Firefox and Opera. */\n",
              "                border: none;\n",
              "                /* Needs to be in here for Safari polyfill so background images work as expected. */\n",
              "                background-size: auto;\n",
              "            }\n",
              "            .progress-bar-interrupted, .progress-bar-interrupted::-webkit-progress-bar {\n",
              "                background: #F44336;\n",
              "            }\n",
              "        </style>\n",
              "      <progress value='18' class='' max='38', style='width:300px; height:20px; vertical-align: middle;'></progress>\n",
              "      47.37% [18/38 00:30<00:33 0.3312]\n",
              "    </div>\n",
              "    "
            ],
            "text/plain": [
              "<IPython.core.display.HTML object>"
            ]
          },
          "metadata": {
            "tags": []
          }
        },
        {
          "output_type": "stream",
          "text": [
            "LR Finder is complete, type {learner_name}.recorder.plot() to see the graph.\n",
            "Min numerical gradient: 1.00E-05\n",
            "Min loss divided by 10: 7.59E-08\n"
          ],
          "name": "stdout"
        },
        {
          "output_type": "display_data",
          "data": {
            "image/png": "[encoded data removed]",
            "text/plain": [
              "<Figure size 432x288 with 1 Axes>"
            ]
          },
          "metadata": {
            "tags": []
          }
        }
      ]
    },
    {
      "cell_type": "code",
      "metadata": {
        "id": "g4H7q7uauY15",
        "colab_type": "code",
        "outputId": "989d6b0c-0afd-4482-e732-c3cd6ac7c171",
        "colab": {
          "base_uri": "https://localhost:8080/",
          "height": 1000
        }
      },
      "source": [
        "from fastai.callbacks.tracker import *\n",
        "learn.unfreeze\n",
        "learn.fit_one_cycle(cyc_len=30, max_lr=slice(1e-6,1e-5), wd=0.01,callbacks=[SaveModelCallback(learn, monitor='accuracy', name='resnet_final2')])"
      ],
      "execution_count": 0,
      "outputs": [
        {
          "output_type": "display_data",
          "data": {
            "text/html": [
              "<table border=\"1\" class=\"dataframe\">\n",
              "  <thead>\n",
              "    <tr style=\"text-align: left;\">\n",
              "      <th>epoch</th>\n",
              "      <th>train_loss</th>\n",
              "      <th>valid_loss</th>\n",
              "      <th>error_rate</th>\n",
              "      <th>accuracy</th>\n",
              "      <th>time</th>\n",
              "    </tr>\n",
              "  </thead>\n",
              "  <tbody>\n",
              "    <tr>\n",
              "      <td>0</td>\n",
              "      <td>0.284628</td>\n",
              "      <td>0.385160</td>\n",
              "      <td>0.114286</td>\n",
              "      <td>0.885714</td>\n",
              "      <td>01:27</td>\n",
              "    </tr>\n",
              "    <tr>\n",
              "      <td>1</td>\n",
              "      <td>0.311239</td>\n",
              "      <td>0.376028</td>\n",
              "      <td>0.108571</td>\n",
              "      <td>0.891429</td>\n",
              "      <td>01:26</td>\n",
              "    </tr>\n",
              "    <tr>\n",
              "      <td>2</td>\n",
              "      <td>0.312532</td>\n",
              "      <td>0.371998</td>\n",
              "      <td>0.114286</td>\n",
              "      <td>0.885714</td>\n",
              "      <td>01:27</td>\n",
              "    </tr>\n",
              "    <tr>\n",
              "      <td>3</td>\n",
              "      <td>0.320778</td>\n",
              "      <td>0.388002</td>\n",
              "      <td>0.114286</td>\n",
              "      <td>0.885714</td>\n",
              "      <td>01:30</td>\n",
              "    </tr>\n",
              "    <tr>\n",
              "      <td>4</td>\n",
              "      <td>0.297181</td>\n",
              "      <td>0.397915</td>\n",
              "      <td>0.120000</td>\n",
              "      <td>0.880000</td>\n",
              "      <td>01:29</td>\n",
              "    </tr>\n",
              "    <tr>\n",
              "      <td>5</td>\n",
              "      <td>0.315587</td>\n",
              "      <td>0.359673</td>\n",
              "      <td>0.108571</td>\n",
              "      <td>0.891429</td>\n",
              "      <td>01:31</td>\n",
              "    </tr>\n",
              "    <tr>\n",
              "      <td>6</td>\n",
              "      <td>0.308360</td>\n",
              "      <td>0.394062</td>\n",
              "      <td>0.125714</td>\n",
              "      <td>0.874286</td>\n",
              "      <td>01:30</td>\n",
              "    </tr>\n",
              "    <tr>\n",
              "      <td>7</td>\n",
              "      <td>0.300031</td>\n",
              "      <td>0.365881</td>\n",
              "      <td>0.114286</td>\n",
              "      <td>0.885714</td>\n",
              "      <td>01:29</td>\n",
              "    </tr>\n",
              "    <tr>\n",
              "      <td>8</td>\n",
              "      <td>0.294996</td>\n",
              "      <td>0.390623</td>\n",
              "      <td>0.114286</td>\n",
              "      <td>0.885714</td>\n",
              "      <td>01:29</td>\n",
              "    </tr>\n",
              "    <tr>\n",
              "      <td>9</td>\n",
              "      <td>0.303731</td>\n",
              "      <td>0.366918</td>\n",
              "      <td>0.114286</td>\n",
              "      <td>0.885714</td>\n",
              "      <td>01:27</td>\n",
              "    </tr>\n",
              "    <tr>\n",
              "      <td>10</td>\n",
              "      <td>0.308067</td>\n",
              "      <td>0.370399</td>\n",
              "      <td>0.108571</td>\n",
              "      <td>0.891429</td>\n",
              "      <td>01:27</td>\n",
              "    </tr>\n",
              "    <tr>\n",
              "      <td>11</td>\n",
              "      <td>0.300663</td>\n",
              "      <td>0.374010</td>\n",
              "      <td>0.120000</td>\n",
              "      <td>0.880000</td>\n",
              "      <td>01:24</td>\n",
              "    </tr>\n",
              "    <tr>\n",
              "      <td>12</td>\n",
              "      <td>0.300396</td>\n",
              "      <td>0.375877</td>\n",
              "      <td>0.114286</td>\n",
              "      <td>0.885714</td>\n",
              "      <td>01:27</td>\n",
              "    </tr>\n",
              "    <tr>\n",
              "      <td>13</td>\n",
              "      <td>0.309365</td>\n",
              "      <td>0.380184</td>\n",
              "      <td>0.114286</td>\n",
              "      <td>0.885714</td>\n",
              "      <td>01:27</td>\n",
              "    </tr>\n",
              "    <tr>\n",
              "      <td>14</td>\n",
              "      <td>0.328530</td>\n",
              "      <td>0.384013</td>\n",
              "      <td>0.114286</td>\n",
              "      <td>0.885714</td>\n",
              "      <td>01:25</td>\n",
              "    </tr>\n",
              "    <tr>\n",
              "      <td>15</td>\n",
              "      <td>0.306218</td>\n",
              "      <td>0.359354</td>\n",
              "      <td>0.108571</td>\n",
              "      <td>0.891429</td>\n",
              "      <td>01:26</td>\n",
              "    </tr>\n",
              "    <tr>\n",
              "      <td>16</td>\n",
              "      <td>0.290392</td>\n",
              "      <td>0.386546</td>\n",
              "      <td>0.120000</td>\n",
              "      <td>0.880000</td>\n",
              "      <td>01:25</td>\n",
              "    </tr>\n",
              "    <tr>\n",
              "      <td>17</td>\n",
              "      <td>0.315065</td>\n",
              "      <td>0.356507</td>\n",
              "      <td>0.102857</td>\n",
              "      <td>0.897143</td>\n",
              "      <td>01:26</td>\n",
              "    </tr>\n",
              "    <tr>\n",
              "      <td>18</td>\n",
              "      <td>0.312489</td>\n",
              "      <td>0.390530</td>\n",
              "      <td>0.114286</td>\n",
              "      <td>0.885714</td>\n",
              "      <td>01:27</td>\n",
              "    </tr>\n",
              "    <tr>\n",
              "      <td>19</td>\n",
              "      <td>0.309690</td>\n",
              "      <td>0.358573</td>\n",
              "      <td>0.108571</td>\n",
              "      <td>0.891429</td>\n",
              "      <td>01:25</td>\n",
              "    </tr>\n",
              "    <tr>\n",
              "      <td>20</td>\n",
              "      <td>0.302867</td>\n",
              "      <td>0.384002</td>\n",
              "      <td>0.114286</td>\n",
              "      <td>0.885714</td>\n",
              "      <td>01:30</td>\n",
              "    </tr>\n",
              "    <tr>\n",
              "      <td>21</td>\n",
              "      <td>0.308603</td>\n",
              "      <td>0.394575</td>\n",
              "      <td>0.125714</td>\n",
              "      <td>0.874286</td>\n",
              "      <td>01:26</td>\n",
              "    </tr>\n",
              "    <tr>\n",
              "      <td>22</td>\n",
              "      <td>0.316700</td>\n",
              "      <td>0.362063</td>\n",
              "      <td>0.102857</td>\n",
              "      <td>0.897143</td>\n",
              "      <td>01:27</td>\n",
              "    </tr>\n",
              "    <tr>\n",
              "      <td>23</td>\n",
              "      <td>0.321281</td>\n",
              "      <td>0.367278</td>\n",
              "      <td>0.120000</td>\n",
              "      <td>0.880000</td>\n",
              "      <td>01:28</td>\n",
              "    </tr>\n",
              "    <tr>\n",
              "      <td>24</td>\n",
              "      <td>0.306927</td>\n",
              "      <td>0.393804</td>\n",
              "      <td>0.120000</td>\n",
              "      <td>0.880000</td>\n",
              "      <td>01:26</td>\n",
              "    </tr>\n",
              "    <tr>\n",
              "      <td>25</td>\n",
              "      <td>0.298946</td>\n",
              "      <td>0.368324</td>\n",
              "      <td>0.114286</td>\n",
              "      <td>0.885714</td>\n",
              "      <td>01:28</td>\n",
              "    </tr>\n",
              "    <tr>\n",
              "      <td>26</td>\n",
              "      <td>0.263560</td>\n",
              "      <td>0.354038</td>\n",
              "      <td>0.108571</td>\n",
              "      <td>0.891429</td>\n",
              "      <td>01:27</td>\n",
              "    </tr>\n",
              "    <tr>\n",
              "      <td>27</td>\n",
              "      <td>0.284832</td>\n",
              "      <td>0.385851</td>\n",
              "      <td>0.120000</td>\n",
              "      <td>0.880000</td>\n",
              "      <td>01:26</td>\n",
              "    </tr>\n",
              "    <tr>\n",
              "      <td>28</td>\n",
              "      <td>0.264667</td>\n",
              "      <td>0.364382</td>\n",
              "      <td>0.114286</td>\n",
              "      <td>0.885714</td>\n",
              "      <td>01:27</td>\n",
              "    </tr>\n",
              "    <tr>\n",
              "      <td>29</td>\n",
              "      <td>0.312640</td>\n",
              "      <td>0.351962</td>\n",
              "      <td>0.108571</td>\n",
              "      <td>0.891429</td>\n",
              "      <td>01:25</td>\n",
              "    </tr>\n",
              "  </tbody>\n",
              "</table>"
            ],
            "text/plain": [
              "<IPython.core.display.HTML object>"
            ]
          },
          "metadata": {
            "tags": []
          }
        },
        {
          "output_type": "stream",
          "text": [
            "Better model found at epoch 0 with accuracy value: 0.8857142925262451.\n",
            "Better model found at epoch 1 with accuracy value: 0.8914285898208618.\n",
            "Better model found at epoch 17 with accuracy value: 0.8971428275108337.\n"
          ],
          "name": "stdout"
        }
      ]
    },
    {
      "cell_type": "code",
      "metadata": {
        "id": "wQWa4y77ypcK",
        "colab_type": "code",
        "outputId": "bd577467-a685-49da-96fc-52001e2a48ec",
        "colab": {
          "base_uri": "https://localhost:8080/",
          "height": 356
        }
      },
      "source": [
        "!pip install pretrainedmodels"
      ],
      "execution_count": 0,
      "outputs": [
        {
          "output_type": "stream",
          "text": [
            "Collecting pretrainedmodels\n",
            "\u001b[?25l  Downloading https://files.pythonhosted.org/packages/84/0e/be6a0e58447ac16c938799d49bfb5fb7a80ac35e137547fc6cee2c08c4cf/pretrainedmodels-0.7.4.tar.gz (58kB)\n",
            "\r\u001b[K     |█████▋                          | 10kB 27.7MB/s eta 0:00:01\r\u001b[K     |███████████▏                    | 20kB 3.1MB/s eta 0:00:01\r\u001b[K     |████████████████▊               | 30kB 4.4MB/s eta 0:00:01\r\u001b[K     |██████████████████████▎         | 40kB 3.0MB/s eta 0:00:01\r\u001b[K     |███████████████████████████▉    | 51kB 3.7MB/s eta 0:00:01\r\u001b[K     |████████████████████████████████| 61kB 3.3MB/s \n",
            "\u001b[?25hRequirement already satisfied: torch in /usr/local/lib/python3.6/dist-packages (from pretrainedmodels) (1.4.0)\n",
            "Requirement already satisfied: torchvision in /usr/local/lib/python3.6/dist-packages (from pretrainedmodels) (0.5.0)\n",
            "Collecting munch\n",
            "  Downloading https://files.pythonhosted.org/packages/cc/ab/85d8da5c9a45e072301beb37ad7f833cd344e04c817d97e0cc75681d248f/munch-2.5.0-py2.py3-none-any.whl\n",
            "Requirement already satisfied: tqdm in /usr/local/lib/python3.6/dist-packages (from pretrainedmodels) (4.38.0)\n",
            "Requirement already satisfied: six in /usr/local/lib/python3.6/dist-packages (from torchvision->pretrainedmodels) (1.12.0)\n",
            "Requirement already satisfied: pillow>=4.1.1 in /usr/local/lib/python3.6/dist-packages (from torchvision->pretrainedmodels) (7.0.0)\n",
            "Requirement already satisfied: numpy in /usr/local/lib/python3.6/dist-packages (from torchvision->pretrainedmodels) (1.18.2)\n",
            "Building wheels for collected packages: pretrainedmodels\n",
            "  Building wheel for pretrainedmodels (setup.py) ... \u001b[?25l\u001b[?25hdone\n",
            "  Created wheel for pretrainedmodels: filename=pretrainedmodels-0.7.4-cp36-none-any.whl size=60962 sha256=48e4b9f4b538844003c55a7a02de7a07ac3296b594e3a7d8d2226048ae2e2243\n",
            "  Stored in directory: /root/.cache/pip/wheels/69/df/63/62583c096289713f22db605aa2334de5b591d59861a02c2ecd\n",
            "Successfully built pretrainedmodels\n",
            "Installing collected packages: munch, pretrainedmodels\n",
            "Successfully installed munch-2.5.0 pretrainedmodels-0.7.4\n"
          ],
          "name": "stdout"
        }
      ]
    },
    {
      "cell_type": "code",
      "metadata": {
        "id": "8CNDtiTVx6hN",
        "colab_type": "code",
        "colab": {}
      },
      "source": [
        "from fastai.vision.models.cadene_models import nasnetamobile\n",
        "from fastai.callbacks.tracker import *"
      ],
      "execution_count": 0,
      "outputs": []
    },
    {
      "cell_type": "code",
      "metadata": {
        "id": "bvbCnhrRhv1p",
        "colab_type": "code",
        "colab": {}
      },
      "source": [
        "learn = cnn_learner(data,nasnetamobile, metrics=[error_rate, accuracy], pretrained=True, path='/content/nasnet.pth', ps=0.5, callback_fns=ShowGraph)\n",
        "#learn.fit_one_cycle(4)"
      ],
      "execution_count": 0,
      "outputs": []
    },
    {
      "cell_type": "code",
      "metadata": {
        "id": "L4j4_guBnomR",
        "colab_type": "code",
        "outputId": "9c20afe5-2632-45d0-b7a2-5b86aa871a02",
        "colab": {
          "base_uri": "https://localhost:8080/",
          "height": 468
        }
      },
      "source": [
        "learn.unfreeze()\n",
        "learn.lr_find()\n",
        "learn.recorder.plot(suggestion=True)"
      ],
      "execution_count": 0,
      "outputs": [
        {
          "output_type": "display_data",
          "data": {
            "text/html": [
              "\n",
              "    <div>\n",
              "        <style>\n",
              "            /* Turns off some styling */\n",
              "            progress {\n",
              "                /* gets rid of default border in Firefox and Opera. */\n",
              "                border: none;\n",
              "                /* Needs to be in here for Safari polyfill so background images work as expected. */\n",
              "                background-size: auto;\n",
              "            }\n",
              "            .progress-bar-interrupted, .progress-bar-interrupted::-webkit-progress-bar {\n",
              "                background: #F44336;\n",
              "            }\n",
              "        </style>\n",
              "      <progress value='2' class='' max='3', style='width:300px; height:20px; vertical-align: middle;'></progress>\n",
              "      66.67% [2/3 01:44<00:52]\n",
              "    </div>\n",
              "    \n",
              "<table border=\"1\" class=\"dataframe\">\n",
              "  <thead>\n",
              "    <tr style=\"text-align: left;\">\n",
              "      <th>epoch</th>\n",
              "      <th>train_loss</th>\n",
              "      <th>valid_loss</th>\n",
              "      <th>error_rate</th>\n",
              "      <th>accuracy</th>\n",
              "      <th>time</th>\n",
              "    </tr>\n",
              "  </thead>\n",
              "  <tbody>\n",
              "    <tr>\n",
              "      <td>0</td>\n",
              "      <td>0.812773</td>\n",
              "      <td>#na#</td>\n",
              "      <td>00:52</td>\n",
              "    </tr>\n",
              "    <tr>\n",
              "      <td>1</td>\n",
              "      <td>1.227232</td>\n",
              "      <td>#na#</td>\n",
              "      <td>00:51</td>\n",
              "    </tr>\n",
              "  </tbody>\n",
              "</table><p>\n",
              "\n",
              "    <div>\n",
              "        <style>\n",
              "            /* Turns off some styling */\n",
              "            progress {\n",
              "                /* gets rid of default border in Firefox and Opera. */\n",
              "                border: none;\n",
              "                /* Needs to be in here for Safari polyfill so background images work as expected. */\n",
              "                background-size: auto;\n",
              "            }\n",
              "            .progress-bar-interrupted, .progress-bar-interrupted::-webkit-progress-bar {\n",
              "                background: #F44336;\n",
              "            }\n",
              "        </style>\n",
              "      <progress value='8' class='' max='38', style='width:300px; height:20px; vertical-align: middle;'></progress>\n",
              "      21.05% [8/38 00:12<00:46 2.6429]\n",
              "    </div>\n",
              "    "
            ],
            "text/plain": [
              "<IPython.core.display.HTML object>"
            ]
          },
          "metadata": {
            "tags": []
          }
        },
        {
          "output_type": "stream",
          "text": [
            "LR Finder is complete, type {learner_name}.recorder.plot() to see the graph.\n",
            "Min numerical gradient: 6.31E-07\n",
            "Min loss divided by 10: 1.00E-04\n"
          ],
          "name": "stdout"
        },
        {
          "output_type": "display_data",
          "data": {
            "image/png": "[encoded data removed]",
            "text/plain": [
              "<Figure size 432x288 with 1 Axes>"
            ]
          },
          "metadata": {
            "tags": []
          }
        }
      ]
    },
    {
      "cell_type": "code",
      "metadata": {
        "id": "tqlvzHqWAF4D",
        "colab_type": "code",
        "outputId": "4bb422c3-2073-4136-9447-313839ce5689",
        "colab": {
          "base_uri": "https://localhost:8080/",
          "height": 1000
        }
      },
      "source": [
        "#learner_one_cycle.fit_one_cycle(cyc_len=35)\n",
        "#learn.unfreeze\n",
        "learn.fit_one_cycle(cyc_len=35, callbacks=[SaveModelCallback(learn, monitor='accuracy', name='nasnet_final')])"
      ],
      "execution_count": 0,
      "outputs": [
        {
          "output_type": "display_data",
          "data": {
            "text/html": [
              "<table border=\"1\" class=\"dataframe\">\n",
              "  <thead>\n",
              "    <tr style=\"text-align: left;\">\n",
              "      <th>epoch</th>\n",
              "      <th>train_loss</th>\n",
              "      <th>valid_loss</th>\n",
              "      <th>error_rate</th>\n",
              "      <th>accuracy</th>\n",
              "      <th>time</th>\n",
              "    </tr>\n",
              "  </thead>\n",
              "  <tbody>\n",
              "    <tr>\n",
              "      <td>0</td>\n",
              "      <td>1.799857</td>\n",
              "      <td>1.459266</td>\n",
              "      <td>0.501901</td>\n",
              "      <td>0.498099</td>\n",
              "      <td>01:13</td>\n",
              "    </tr>\n",
              "    <tr>\n",
              "      <td>1</td>\n",
              "      <td>1.635846</td>\n",
              "      <td>1.148290</td>\n",
              "      <td>0.460076</td>\n",
              "      <td>0.539924</td>\n",
              "      <td>01:13</td>\n",
              "    </tr>\n",
              "    <tr>\n",
              "      <td>2</td>\n",
              "      <td>1.505387</td>\n",
              "      <td>1.297762</td>\n",
              "      <td>0.326996</td>\n",
              "      <td>0.673004</td>\n",
              "      <td>01:12</td>\n",
              "    </tr>\n",
              "    <tr>\n",
              "      <td>3</td>\n",
              "      <td>1.323141</td>\n",
              "      <td>1.006480</td>\n",
              "      <td>0.326996</td>\n",
              "      <td>0.673004</td>\n",
              "      <td>01:12</td>\n",
              "    </tr>\n",
              "    <tr>\n",
              "      <td>4</td>\n",
              "      <td>1.283056</td>\n",
              "      <td>1.594895</td>\n",
              "      <td>0.319392</td>\n",
              "      <td>0.680608</td>\n",
              "      <td>01:12</td>\n",
              "    </tr>\n",
              "    <tr>\n",
              "      <td>5</td>\n",
              "      <td>1.173275</td>\n",
              "      <td>0.715780</td>\n",
              "      <td>0.273764</td>\n",
              "      <td>0.726236</td>\n",
              "      <td>01:13</td>\n",
              "    </tr>\n",
              "    <tr>\n",
              "      <td>6</td>\n",
              "      <td>1.105183</td>\n",
              "      <td>0.807987</td>\n",
              "      <td>0.273764</td>\n",
              "      <td>0.726236</td>\n",
              "      <td>01:14</td>\n",
              "    </tr>\n",
              "    <tr>\n",
              "      <td>7</td>\n",
              "      <td>0.995748</td>\n",
              "      <td>0.829770</td>\n",
              "      <td>0.288973</td>\n",
              "      <td>0.711027</td>\n",
              "      <td>01:13</td>\n",
              "    </tr>\n",
              "    <tr>\n",
              "      <td>8</td>\n",
              "      <td>0.927951</td>\n",
              "      <td>0.987577</td>\n",
              "      <td>0.315589</td>\n",
              "      <td>0.684411</td>\n",
              "      <td>01:13</td>\n",
              "    </tr>\n",
              "    <tr>\n",
              "      <td>9</td>\n",
              "      <td>0.905670</td>\n",
              "      <td>0.767564</td>\n",
              "      <td>0.262357</td>\n",
              "      <td>0.737643</td>\n",
              "      <td>01:13</td>\n",
              "    </tr>\n",
              "    <tr>\n",
              "      <td>10</td>\n",
              "      <td>0.858885</td>\n",
              "      <td>1.121917</td>\n",
              "      <td>0.300380</td>\n",
              "      <td>0.699620</td>\n",
              "      <td>01:15</td>\n",
              "    </tr>\n",
              "    <tr>\n",
              "      <td>11</td>\n",
              "      <td>0.829142</td>\n",
              "      <td>1.955190</td>\n",
              "      <td>0.269962</td>\n",
              "      <td>0.730038</td>\n",
              "      <td>01:13</td>\n",
              "    </tr>\n",
              "    <tr>\n",
              "      <td>12</td>\n",
              "      <td>0.805257</td>\n",
              "      <td>0.961456</td>\n",
              "      <td>0.266160</td>\n",
              "      <td>0.733840</td>\n",
              "      <td>01:12</td>\n",
              "    </tr>\n",
              "    <tr>\n",
              "      <td>13</td>\n",
              "      <td>0.811848</td>\n",
              "      <td>0.923210</td>\n",
              "      <td>0.247148</td>\n",
              "      <td>0.752852</td>\n",
              "      <td>01:13</td>\n",
              "    </tr>\n",
              "    <tr>\n",
              "      <td>14</td>\n",
              "      <td>0.771798</td>\n",
              "      <td>0.941146</td>\n",
              "      <td>0.220532</td>\n",
              "      <td>0.779468</td>\n",
              "      <td>01:14</td>\n",
              "    </tr>\n",
              "    <tr>\n",
              "      <td>15</td>\n",
              "      <td>0.685742</td>\n",
              "      <td>0.745100</td>\n",
              "      <td>0.250951</td>\n",
              "      <td>0.749049</td>\n",
              "      <td>01:13</td>\n",
              "    </tr>\n",
              "    <tr>\n",
              "      <td>16</td>\n",
              "      <td>0.692810</td>\n",
              "      <td>1.054791</td>\n",
              "      <td>0.224335</td>\n",
              "      <td>0.775665</td>\n",
              "      <td>01:14</td>\n",
              "    </tr>\n",
              "    <tr>\n",
              "      <td>17</td>\n",
              "      <td>0.678766</td>\n",
              "      <td>0.712051</td>\n",
              "      <td>0.243346</td>\n",
              "      <td>0.756654</td>\n",
              "      <td>01:13</td>\n",
              "    </tr>\n",
              "    <tr>\n",
              "      <td>18</td>\n",
              "      <td>0.663743</td>\n",
              "      <td>0.866223</td>\n",
              "      <td>0.231939</td>\n",
              "      <td>0.768061</td>\n",
              "      <td>01:13</td>\n",
              "    </tr>\n",
              "    <tr>\n",
              "      <td>19</td>\n",
              "      <td>0.662438</td>\n",
              "      <td>1.212252</td>\n",
              "      <td>0.254753</td>\n",
              "      <td>0.745247</td>\n",
              "      <td>01:14</td>\n",
              "    </tr>\n",
              "    <tr>\n",
              "      <td>20</td>\n",
              "      <td>0.637832</td>\n",
              "      <td>0.892638</td>\n",
              "      <td>0.212928</td>\n",
              "      <td>0.787072</td>\n",
              "      <td>01:13</td>\n",
              "    </tr>\n",
              "    <tr>\n",
              "      <td>21</td>\n",
              "      <td>0.599476</td>\n",
              "      <td>0.814440</td>\n",
              "      <td>0.209125</td>\n",
              "      <td>0.790875</td>\n",
              "      <td>01:12</td>\n",
              "    </tr>\n",
              "    <tr>\n",
              "      <td>22</td>\n",
              "      <td>0.603190</td>\n",
              "      <td>0.737665</td>\n",
              "      <td>0.197719</td>\n",
              "      <td>0.802281</td>\n",
              "      <td>01:13</td>\n",
              "    </tr>\n",
              "    <tr>\n",
              "      <td>23</td>\n",
              "      <td>0.597128</td>\n",
              "      <td>1.846055</td>\n",
              "      <td>0.197719</td>\n",
              "      <td>0.802281</td>\n",
              "      <td>01:14</td>\n",
              "    </tr>\n",
              "    <tr>\n",
              "      <td>24</td>\n",
              "      <td>0.557002</td>\n",
              "      <td>0.805670</td>\n",
              "      <td>0.182510</td>\n",
              "      <td>0.817491</td>\n",
              "      <td>01:14</td>\n",
              "    </tr>\n",
              "    <tr>\n",
              "      <td>25</td>\n",
              "      <td>0.549268</td>\n",
              "      <td>0.959305</td>\n",
              "      <td>0.174905</td>\n",
              "      <td>0.825095</td>\n",
              "      <td>01:12</td>\n",
              "    </tr>\n",
              "    <tr>\n",
              "      <td>26</td>\n",
              "      <td>0.564209</td>\n",
              "      <td>0.653671</td>\n",
              "      <td>0.182510</td>\n",
              "      <td>0.817491</td>\n",
              "      <td>01:14</td>\n",
              "    </tr>\n",
              "    <tr>\n",
              "      <td>27</td>\n",
              "      <td>0.557297</td>\n",
              "      <td>0.649267</td>\n",
              "      <td>0.182510</td>\n",
              "      <td>0.817491</td>\n",
              "      <td>01:14</td>\n",
              "    </tr>\n",
              "    <tr>\n",
              "      <td>28</td>\n",
              "      <td>0.527112</td>\n",
              "      <td>0.636941</td>\n",
              "      <td>0.193916</td>\n",
              "      <td>0.806084</td>\n",
              "      <td>01:12</td>\n",
              "    </tr>\n",
              "    <tr>\n",
              "      <td>29</td>\n",
              "      <td>0.510674</td>\n",
              "      <td>0.533630</td>\n",
              "      <td>0.209125</td>\n",
              "      <td>0.790875</td>\n",
              "      <td>01:13</td>\n",
              "    </tr>\n",
              "    <tr>\n",
              "      <td>30</td>\n",
              "      <td>0.518166</td>\n",
              "      <td>0.648908</td>\n",
              "      <td>0.209125</td>\n",
              "      <td>0.790875</td>\n",
              "      <td>01:12</td>\n",
              "    </tr>\n",
              "    <tr>\n",
              "      <td>31</td>\n",
              "      <td>0.473191</td>\n",
              "      <td>0.615606</td>\n",
              "      <td>0.182510</td>\n",
              "      <td>0.817491</td>\n",
              "      <td>01:10</td>\n",
              "    </tr>\n",
              "    <tr>\n",
              "      <td>32</td>\n",
              "      <td>0.445728</td>\n",
              "      <td>0.845645</td>\n",
              "      <td>0.197719</td>\n",
              "      <td>0.802281</td>\n",
              "      <td>01:14</td>\n",
              "    </tr>\n",
              "    <tr>\n",
              "      <td>33</td>\n",
              "      <td>0.445024</td>\n",
              "      <td>0.604336</td>\n",
              "      <td>0.197719</td>\n",
              "      <td>0.802281</td>\n",
              "      <td>01:13</td>\n",
              "    </tr>\n",
              "    <tr>\n",
              "      <td>34</td>\n",
              "      <td>0.451823</td>\n",
              "      <td>0.676715</td>\n",
              "      <td>0.186312</td>\n",
              "      <td>0.813688</td>\n",
              "      <td>01:13</td>\n",
              "    </tr>\n",
              "  </tbody>\n",
              "</table>"
            ],
            "text/plain": [
              "<IPython.core.display.HTML object>"
            ]
          },
          "metadata": {
            "tags": []
          }
        },
        {
          "output_type": "stream",
          "text": [
            "ERROR! Session/line number was not unique in database. History logging moved to new session 64\n"
          ],
          "name": "stdout"
        },
        {
          "output_type": "display_data",
          "data": {
            "image/png": "[encoded data removed]",
            "text/plain": [
              "<Figure size 432x288 with 1 Axes>"
            ]
          },
          "metadata": {
            "tags": []
          }
        },
        {
          "output_type": "stream",
          "text": [
            "Better model found at epoch 0 with accuracy value: 0.49809885025024414.\n",
            "Better model found at epoch 1 with accuracy value: 0.5399239659309387.\n",
            "Better model found at epoch 2 with accuracy value: 0.6730037927627563.\n",
            "Better model found at epoch 4 with accuracy value: 0.6806083917617798.\n",
            "Better model found at epoch 5 with accuracy value: 0.7262357473373413.\n",
            "Better model found at epoch 9 with accuracy value: 0.7376425862312317.\n",
            "Better model found at epoch 13 with accuracy value: 0.7528517246246338.\n",
            "Better model found at epoch 14 with accuracy value: 0.7794677019119263.\n",
            "Better model found at epoch 20 with accuracy value: 0.7870722413063049.\n",
            "Better model found at epoch 21 with accuracy value: 0.7908745408058167.\n",
            "Better model found at epoch 22 with accuracy value: 0.802281379699707.\n",
            "Better model found at epoch 24 with accuracy value: 0.8174905180931091.\n",
            "Better model found at epoch 25 with accuracy value: 0.8250950574874878.\n"
          ],
          "name": "stdout"
        }
      ]
    },
    {
      "cell_type": "code",
      "metadata": {
        "id": "X3NeEVccx0na",
        "colab_type": "code",
        "outputId": "ee53e1c2-d7c6-4ceb-ad42-34f8541f4696",
        "colab": {
          "base_uri": "https://localhost:8080/",
          "height": 468
        }
      },
      "source": [
        "learn.unfreeze()\n",
        "learn.lr_find()\n",
        "learn.recorder.plot(suggestion=True)"
      ],
      "execution_count": 0,
      "outputs": [
        {
          "output_type": "display_data",
          "data": {
            "text/html": [
              "\n",
              "    <div>\n",
              "        <style>\n",
              "            /* Turns off some styling */\n",
              "            progress {\n",
              "                /* gets rid of default border in Firefox and Opera. */\n",
              "                border: none;\n",
              "                /* Needs to be in here for Safari polyfill so background images work as expected. */\n",
              "                background-size: auto;\n",
              "            }\n",
              "            .progress-bar-interrupted, .progress-bar-interrupted::-webkit-progress-bar {\n",
              "                background: #F44336;\n",
              "            }\n",
              "        </style>\n",
              "      <progress value='2' class='' max='3', style='width:300px; height:20px; vertical-align: middle;'></progress>\n",
              "      66.67% [2/3 01:41<00:50]\n",
              "    </div>\n",
              "    \n",
              "<table border=\"1\" class=\"dataframe\">\n",
              "  <thead>\n",
              "    <tr style=\"text-align: left;\">\n",
              "      <th>epoch</th>\n",
              "      <th>train_loss</th>\n",
              "      <th>valid_loss</th>\n",
              "      <th>error_rate</th>\n",
              "      <th>accuracy</th>\n",
              "      <th>time</th>\n",
              "    </tr>\n",
              "  </thead>\n",
              "  <tbody>\n",
              "    <tr>\n",
              "      <td>0</td>\n",
              "      <td>0.526989</td>\n",
              "      <td>#na#</td>\n",
              "      <td>00:50</td>\n",
              "    </tr>\n",
              "    <tr>\n",
              "      <td>1</td>\n",
              "      <td>1.095649</td>\n",
              "      <td>#na#</td>\n",
              "      <td>00:51</td>\n",
              "    </tr>\n",
              "  </tbody>\n",
              "</table><p>\n",
              "\n",
              "    <div>\n",
              "        <style>\n",
              "            /* Turns off some styling */\n",
              "            progress {\n",
              "                /* gets rid of default border in Firefox and Opera. */\n",
              "                border: none;\n",
              "                /* Needs to be in here for Safari polyfill so background images work as expected. */\n",
              "                background-size: auto;\n",
              "            }\n",
              "            .progress-bar-interrupted, .progress-bar-interrupted::-webkit-progress-bar {\n",
              "                background: #F44336;\n",
              "            }\n",
              "        </style>\n",
              "      <progress value='5' class='' max='38', style='width:300px; height:20px; vertical-align: middle;'></progress>\n",
              "      13.16% [5/38 00:10<01:11 1.8387]\n",
              "    </div>\n",
              "    "
            ],
            "text/plain": [
              "<IPython.core.display.HTML object>"
            ]
          },
          "metadata": {
            "tags": []
          }
        },
        {
          "output_type": "stream",
          "text": [
            "LR Finder is complete, type {learner_name}.recorder.plot() to see the graph.\n",
            "Min numerical gradient: 1.10E-06\n",
            "Min loss divided by 10: 4.79E-05\n"
          ],
          "name": "stdout"
        },
        {
          "output_type": "display_data",
          "data": {
            "image/png": "[encoded data removed]",
            "text/plain": [
              "<Figure size 432x288 with 1 Axes>"
            ]
          },
          "metadata": {
            "tags": []
          }
        }
      ]
    },
    {
      "cell_type": "code",
      "metadata": {
        "id": "TqOzUG14AjN6",
        "colab_type": "code",
        "outputId": "dc81bf9c-c23b-4e1f-fa2c-644567f48ceb",
        "colab": {
          "base_uri": "https://localhost:8080/",
          "height": 968
        }
      },
      "source": [
        "#learner_one_cycle.fit_one_cycle(cyc_len=35)\n",
        "learn.unfreeze\n",
        "learn.fit_one_cycle(cyc_len=20, max_lr=slice(1e-6), wd=0.01,callbacks=[SaveModelCallback(learn, monitor='accuracy', name='nasnet_final2')])"
      ],
      "execution_count": 0,
      "outputs": [
        {
          "output_type": "display_data",
          "data": {
            "text/html": [
              "<table border=\"1\" class=\"dataframe\">\n",
              "  <thead>\n",
              "    <tr style=\"text-align: left;\">\n",
              "      <th>epoch</th>\n",
              "      <th>train_loss</th>\n",
              "      <th>valid_loss</th>\n",
              "      <th>error_rate</th>\n",
              "      <th>accuracy</th>\n",
              "      <th>time</th>\n",
              "    </tr>\n",
              "  </thead>\n",
              "  <tbody>\n",
              "    <tr>\n",
              "      <td>0</td>\n",
              "      <td>0.542565</td>\n",
              "      <td>1.510026</td>\n",
              "      <td>0.190114</td>\n",
              "      <td>0.809886</td>\n",
              "      <td>01:15</td>\n",
              "    </tr>\n",
              "    <tr>\n",
              "      <td>1</td>\n",
              "      <td>0.542131</td>\n",
              "      <td>1.130683</td>\n",
              "      <td>0.178707</td>\n",
              "      <td>0.821293</td>\n",
              "      <td>01:15</td>\n",
              "    </tr>\n",
              "    <tr>\n",
              "      <td>2</td>\n",
              "      <td>0.535470</td>\n",
              "      <td>1.465481</td>\n",
              "      <td>0.174905</td>\n",
              "      <td>0.825095</td>\n",
              "      <td>01:14</td>\n",
              "    </tr>\n",
              "    <tr>\n",
              "      <td>3</td>\n",
              "      <td>0.521416</td>\n",
              "      <td>1.386571</td>\n",
              "      <td>0.159696</td>\n",
              "      <td>0.840304</td>\n",
              "      <td>01:13</td>\n",
              "    </tr>\n",
              "    <tr>\n",
              "      <td>4</td>\n",
              "      <td>0.550673</td>\n",
              "      <td>0.796397</td>\n",
              "      <td>0.163498</td>\n",
              "      <td>0.836502</td>\n",
              "      <td>01:13</td>\n",
              "    </tr>\n",
              "    <tr>\n",
              "      <td>5</td>\n",
              "      <td>0.530982</td>\n",
              "      <td>2.022040</td>\n",
              "      <td>0.190114</td>\n",
              "      <td>0.809886</td>\n",
              "      <td>01:14</td>\n",
              "    </tr>\n",
              "    <tr>\n",
              "      <td>6</td>\n",
              "      <td>0.505930</td>\n",
              "      <td>0.720618</td>\n",
              "      <td>0.163498</td>\n",
              "      <td>0.836502</td>\n",
              "      <td>01:13</td>\n",
              "    </tr>\n",
              "    <tr>\n",
              "      <td>7</td>\n",
              "      <td>0.517650</td>\n",
              "      <td>1.178123</td>\n",
              "      <td>0.190114</td>\n",
              "      <td>0.809886</td>\n",
              "      <td>01:12</td>\n",
              "    </tr>\n",
              "    <tr>\n",
              "      <td>8</td>\n",
              "      <td>0.507424</td>\n",
              "      <td>0.955967</td>\n",
              "      <td>0.178707</td>\n",
              "      <td>0.821293</td>\n",
              "      <td>01:13</td>\n",
              "    </tr>\n",
              "    <tr>\n",
              "      <td>9</td>\n",
              "      <td>0.526239</td>\n",
              "      <td>1.437931</td>\n",
              "      <td>0.186312</td>\n",
              "      <td>0.813688</td>\n",
              "      <td>01:12</td>\n",
              "    </tr>\n",
              "    <tr>\n",
              "      <td>10</td>\n",
              "      <td>0.555571</td>\n",
              "      <td>1.575786</td>\n",
              "      <td>0.201521</td>\n",
              "      <td>0.798479</td>\n",
              "      <td>01:13</td>\n",
              "    </tr>\n",
              "    <tr>\n",
              "      <td>11</td>\n",
              "      <td>0.552002</td>\n",
              "      <td>1.229193</td>\n",
              "      <td>0.163498</td>\n",
              "      <td>0.836502</td>\n",
              "      <td>01:13</td>\n",
              "    </tr>\n",
              "    <tr>\n",
              "      <td>12</td>\n",
              "      <td>0.533053</td>\n",
              "      <td>1.154838</td>\n",
              "      <td>0.201521</td>\n",
              "      <td>0.798479</td>\n",
              "      <td>01:12</td>\n",
              "    </tr>\n",
              "    <tr>\n",
              "      <td>13</td>\n",
              "      <td>0.506206</td>\n",
              "      <td>1.862660</td>\n",
              "      <td>0.205323</td>\n",
              "      <td>0.794677</td>\n",
              "      <td>01:14</td>\n",
              "    </tr>\n",
              "    <tr>\n",
              "      <td>14</td>\n",
              "      <td>0.517360</td>\n",
              "      <td>1.274866</td>\n",
              "      <td>0.182510</td>\n",
              "      <td>0.817491</td>\n",
              "      <td>01:15</td>\n",
              "    </tr>\n",
              "    <tr>\n",
              "      <td>15</td>\n",
              "      <td>0.530054</td>\n",
              "      <td>1.937624</td>\n",
              "      <td>0.190114</td>\n",
              "      <td>0.809886</td>\n",
              "      <td>01:12</td>\n",
              "    </tr>\n",
              "    <tr>\n",
              "      <td>16</td>\n",
              "      <td>0.547438</td>\n",
              "      <td>1.396152</td>\n",
              "      <td>0.193916</td>\n",
              "      <td>0.806084</td>\n",
              "      <td>01:14</td>\n",
              "    </tr>\n",
              "    <tr>\n",
              "      <td>17</td>\n",
              "      <td>0.550698</td>\n",
              "      <td>1.323155</td>\n",
              "      <td>0.178707</td>\n",
              "      <td>0.821293</td>\n",
              "      <td>01:12</td>\n",
              "    </tr>\n",
              "    <tr>\n",
              "      <td>18</td>\n",
              "      <td>0.538116</td>\n",
              "      <td>1.603201</td>\n",
              "      <td>0.178707</td>\n",
              "      <td>0.821293</td>\n",
              "      <td>01:15</td>\n",
              "    </tr>\n",
              "    <tr>\n",
              "      <td>19</td>\n",
              "      <td>0.553696</td>\n",
              "      <td>1.548636</td>\n",
              "      <td>0.193916</td>\n",
              "      <td>0.806084</td>\n",
              "      <td>01:13</td>\n",
              "    </tr>\n",
              "  </tbody>\n",
              "</table>"
            ],
            "text/plain": [
              "<IPython.core.display.HTML object>"
            ]
          },
          "metadata": {
            "tags": []
          }
        },
        {
          "output_type": "display_data",
          "data": {
            "image/png": "[encoded data removed]",
            "text/plain": [
              "<Figure size 432x288 with 1 Axes>"
            ]
          },
          "metadata": {
            "tags": []
          }
        },
        {
          "output_type": "stream",
          "text": [
            "Better model found at epoch 0 with accuracy value: 0.8098859190940857.\n",
            "Better model found at epoch 1 with accuracy value: 0.8212927579879761.\n",
            "Better model found at epoch 2 with accuracy value: 0.8250950574874878.\n",
            "Better model found at epoch 3 with accuracy value: 0.8403041958808899.\n"
          ],
          "name": "stdout"
        }
      ]
    },
    {
      "cell_type": "code",
      "metadata": {
        "id": "rFo2EcZGTrKC",
        "colab_type": "code",
        "outputId": "922f9a5c-8bb6-4861-eff1-dc58fba7c215",
        "colab": {
          "base_uri": "https://localhost:8080/",
          "height": 503
        }
      },
      "source": [
        "interp = ClassificationInterpretation.from_learner(learn)\n",
        "interp.plot_confusion_matrix(figsize=(8,8), dpi=60)"
      ],
      "execution_count": 0,
      "outputs": [
        {
          "output_type": "display_data",
          "data": {
            "text/html": [
              ""
            ],
            "text/plain": [
              "<IPython.core.display.HTML object>"
            ]
          },
          "metadata": {
            "tags": []
          }
        },
        {
          "output_type": "display_data",
          "data": {
            "image/png": "[encoded data removed]",
            "text/plain": [
              "<Figure size 480x480 with 1 Axes>"
            ]
          },
          "metadata": {
            "tags": []
          }
        }
      ]
    },
    {
      "cell_type": "markdown",
      "metadata": {
        "id": "UgfDkr_PTuXx",
        "colab_type": "text"
      },
      "source": [
        "#Resnet50"
      ]
    },
    {
      "cell_type": "code",
      "metadata": {
        "id": "7I66XvNiTy9o",
        "colab_type": "code",
        "colab": {}
      },
      "source": [
        "from fastai.vision.models import resnet50"
      ],
      "execution_count": 0,
      "outputs": []
    },
    {
      "cell_type": "code",
      "metadata": {
        "id": "9RATiIOC1iLR",
        "colab_type": "code",
        "outputId": "d61fa01e-3549-48a1-a7a6-87d897024602",
        "colab": {
          "base_uri": "https://localhost:8080/",
          "height": 415
        }
      },
      "source": [
        "learn = cnn_learner(data,resnet50, metrics=[error_rate, accuracy], pretrained=True, ps=0.5, callback_fns=ShowGraph)\n",
        "learn.fit_one_cycle(4)"
      ],
      "execution_count": 0,
      "outputs": [
        {
          "output_type": "display_data",
          "data": {
            "text/html": [
              "<table border=\"1\" class=\"dataframe\">\n",
              "  <thead>\n",
              "    <tr style=\"text-align: left;\">\n",
              "      <th>epoch</th>\n",
              "      <th>train_loss</th>\n",
              "      <th>valid_loss</th>\n",
              "      <th>error_rate</th>\n",
              "      <th>accuracy</th>\n",
              "      <th>time</th>\n",
              "    </tr>\n",
              "  </thead>\n",
              "  <tbody>\n",
              "    <tr>\n",
              "      <td>0</td>\n",
              "      <td>1.476832</td>\n",
              "      <td>1.004871</td>\n",
              "      <td>0.269962</td>\n",
              "      <td>0.730038</td>\n",
              "      <td>01:13</td>\n",
              "    </tr>\n",
              "    <tr>\n",
              "      <td>1</td>\n",
              "      <td>1.147689</td>\n",
              "      <td>0.771939</td>\n",
              "      <td>0.250951</td>\n",
              "      <td>0.749049</td>\n",
              "      <td>01:12</td>\n",
              "    </tr>\n",
              "    <tr>\n",
              "      <td>2</td>\n",
              "      <td>0.905988</td>\n",
              "      <td>0.511891</td>\n",
              "      <td>0.186312</td>\n",
              "      <td>0.813688</td>\n",
              "      <td>01:12</td>\n",
              "    </tr>\n",
              "    <tr>\n",
              "      <td>3</td>\n",
              "      <td>0.729808</td>\n",
              "      <td>0.501413</td>\n",
              "      <td>0.201521</td>\n",
              "      <td>0.798479</td>\n",
              "      <td>01:12</td>\n",
              "    </tr>\n",
              "  </tbody>\n",
              "</table>"
            ],
            "text/plain": [
              "<IPython.core.display.HTML object>"
            ]
          },
          "metadata": {
            "tags": []
          }
        },
        {
          "output_type": "display_data",
          "data": {
            "image/png": "[encoded data removed]",
            "text/plain": [
              "<Figure size 432x288 with 1 Axes>"
            ]
          },
          "metadata": {
            "tags": []
          }
        }
      ]
    },
    {
      "cell_type": "code",
      "metadata": {
        "id": "oYPvYiYLqOBi",
        "colab_type": "code",
        "outputId": "699c282e-1908-4c56-c60c-d761a07c6a99",
        "colab": {
          "base_uri": "https://localhost:8080/",
          "height": 438
        }
      },
      "source": [
        "learn.unfreeze()\n",
        "learn.lr_find()\n",
        "learn.recorder.plot(suggestion=True)"
      ],
      "execution_count": 0,
      "outputs": [
        {
          "output_type": "display_data",
          "data": {
            "text/html": [
              "\n",
              "    <div>\n",
              "        <style>\n",
              "            /* Turns off some styling */\n",
              "            progress {\n",
              "                /* gets rid of default border in Firefox and Opera. */\n",
              "                border: none;\n",
              "                /* Needs to be in here for Safari polyfill so background images work as expected. */\n",
              "                background-size: auto;\n",
              "            }\n",
              "            .progress-bar-interrupted, .progress-bar-interrupted::-webkit-progress-bar {\n",
              "                background: #F44336;\n",
              "            }\n",
              "        </style>\n",
              "      <progress value='1' class='' max='3', style='width:300px; height:20px; vertical-align: middle;'></progress>\n",
              "      33.33% [1/3 00:50<01:41]\n",
              "    </div>\n",
              "    \n",
              "<table border=\"1\" class=\"dataframe\">\n",
              "  <thead>\n",
              "    <tr style=\"text-align: left;\">\n",
              "      <th>epoch</th>\n",
              "      <th>train_loss</th>\n",
              "      <th>valid_loss</th>\n",
              "      <th>error_rate</th>\n",
              "      <th>accuracy</th>\n",
              "      <th>time</th>\n",
              "    </tr>\n",
              "  </thead>\n",
              "  <tbody>\n",
              "    <tr>\n",
              "      <td>0</td>\n",
              "      <td>0.572590</td>\n",
              "      <td>#na#</td>\n",
              "      <td>00:50</td>\n",
              "    </tr>\n",
              "  </tbody>\n",
              "</table><p>\n",
              "\n",
              "    <div>\n",
              "        <style>\n",
              "            /* Turns off some styling */\n",
              "            progress {\n",
              "                /* gets rid of default border in Firefox and Opera. */\n",
              "                border: none;\n",
              "                /* Needs to be in here for Safari polyfill so background images work as expected. */\n",
              "                background-size: auto;\n",
              "            }\n",
              "            .progress-bar-interrupted, .progress-bar-interrupted::-webkit-progress-bar {\n",
              "                background: #F44336;\n",
              "            }\n",
              "        </style>\n",
              "      <progress value='36' class='' max='38', style='width:300px; height:20px; vertical-align: middle;'></progress>\n",
              "      94.74% [36/38 00:49<00:02 1.4403]\n",
              "    </div>\n",
              "    "
            ],
            "text/plain": [
              "<IPython.core.display.HTML object>"
            ]
          },
          "metadata": {
            "tags": []
          }
        },
        {
          "output_type": "stream",
          "text": [
            "LR Finder is complete, type {learner_name}.recorder.plot() to see the graph.\n",
            "Min numerical gradient: 2.75E-06\n",
            "Min loss divided by 10: 6.31E-08\n"
          ],
          "name": "stdout"
        },
        {
          "output_type": "display_data",
          "data": {
            "image/png": "[encoded data removed]",
            "text/plain": [
              "<Figure size 432x288 with 1 Axes>"
            ]
          },
          "metadata": {
            "tags": []
          }
        }
      ]
    },
    {
      "cell_type": "code",
      "metadata": {
        "id": "x7AAjoCzjkAi",
        "colab_type": "code",
        "outputId": "5d89473a-3c2e-4375-8b8f-dff4c29e2a9e",
        "colab": {
          "base_uri": "https://localhost:8080/",
          "height": 1000
        }
      },
      "source": [
        "#learner_one_cycle.fit_one_cycle(cyc_len=35)\n",
        "from fastai.callbacks.tracker import *\n",
        "learn.unfreeze\n",
        "learn.fit_one_cycle(cyc_len=25, max_lr=slice(1e-4), wd=0.01,callbacks=[SaveModelCallback(learn, monitor='accuracy', name='xpection')])"
      ],
      "execution_count": 0,
      "outputs": [
        {
          "output_type": "display_data",
          "data": {
            "text/html": [
              "<table border=\"1\" class=\"dataframe\">\n",
              "  <thead>\n",
              "    <tr style=\"text-align: left;\">\n",
              "      <th>epoch</th>\n",
              "      <th>train_loss</th>\n",
              "      <th>valid_loss</th>\n",
              "      <th>error_rate</th>\n",
              "      <th>accuracy</th>\n",
              "      <th>time</th>\n",
              "    </tr>\n",
              "  </thead>\n",
              "  <tbody>\n",
              "    <tr>\n",
              "      <td>0</td>\n",
              "      <td>0.543714</td>\n",
              "      <td>0.469168</td>\n",
              "      <td>0.209125</td>\n",
              "      <td>0.790875</td>\n",
              "      <td>01:12</td>\n",
              "    </tr>\n",
              "    <tr>\n",
              "      <td>1</td>\n",
              "      <td>0.516426</td>\n",
              "      <td>0.484193</td>\n",
              "      <td>0.186312</td>\n",
              "      <td>0.813688</td>\n",
              "      <td>01:11</td>\n",
              "    </tr>\n",
              "    <tr>\n",
              "      <td>2</td>\n",
              "      <td>0.529515</td>\n",
              "      <td>0.458925</td>\n",
              "      <td>0.193916</td>\n",
              "      <td>0.806084</td>\n",
              "      <td>01:15</td>\n",
              "    </tr>\n",
              "    <tr>\n",
              "      <td>3</td>\n",
              "      <td>0.529435</td>\n",
              "      <td>0.425119</td>\n",
              "      <td>0.171103</td>\n",
              "      <td>0.828897</td>\n",
              "      <td>01:12</td>\n",
              "    </tr>\n",
              "    <tr>\n",
              "      <td>4</td>\n",
              "      <td>0.542105</td>\n",
              "      <td>0.441120</td>\n",
              "      <td>0.167300</td>\n",
              "      <td>0.832700</td>\n",
              "      <td>01:13</td>\n",
              "    </tr>\n",
              "    <tr>\n",
              "      <td>5</td>\n",
              "      <td>0.516690</td>\n",
              "      <td>0.437284</td>\n",
              "      <td>0.159696</td>\n",
              "      <td>0.840304</td>\n",
              "      <td>01:15</td>\n",
              "    </tr>\n",
              "    <tr>\n",
              "      <td>6</td>\n",
              "      <td>0.474673</td>\n",
              "      <td>0.415388</td>\n",
              "      <td>0.148289</td>\n",
              "      <td>0.851711</td>\n",
              "      <td>01:12</td>\n",
              "    </tr>\n",
              "    <tr>\n",
              "      <td>7</td>\n",
              "      <td>0.454155</td>\n",
              "      <td>0.340939</td>\n",
              "      <td>0.133080</td>\n",
              "      <td>0.866920</td>\n",
              "      <td>01:14</td>\n",
              "    </tr>\n",
              "    <tr>\n",
              "      <td>8</td>\n",
              "      <td>0.457797</td>\n",
              "      <td>0.358342</td>\n",
              "      <td>0.121673</td>\n",
              "      <td>0.878327</td>\n",
              "      <td>01:11</td>\n",
              "    </tr>\n",
              "    <tr>\n",
              "      <td>9</td>\n",
              "      <td>0.420331</td>\n",
              "      <td>0.344573</td>\n",
              "      <td>0.114068</td>\n",
              "      <td>0.885932</td>\n",
              "      <td>01:14</td>\n",
              "    </tr>\n",
              "    <tr>\n",
              "      <td>10</td>\n",
              "      <td>0.411039</td>\n",
              "      <td>0.340584</td>\n",
              "      <td>0.106464</td>\n",
              "      <td>0.893536</td>\n",
              "      <td>01:13</td>\n",
              "    </tr>\n",
              "    <tr>\n",
              "      <td>11</td>\n",
              "      <td>0.380008</td>\n",
              "      <td>0.306102</td>\n",
              "      <td>0.114068</td>\n",
              "      <td>0.885932</td>\n",
              "      <td>01:11</td>\n",
              "    </tr>\n",
              "    <tr>\n",
              "      <td>12</td>\n",
              "      <td>0.377999</td>\n",
              "      <td>0.322260</td>\n",
              "      <td>0.098859</td>\n",
              "      <td>0.901141</td>\n",
              "      <td>01:12</td>\n",
              "    </tr>\n",
              "    <tr>\n",
              "      <td>13</td>\n",
              "      <td>0.322900</td>\n",
              "      <td>0.322461</td>\n",
              "      <td>0.114068</td>\n",
              "      <td>0.885932</td>\n",
              "      <td>01:12</td>\n",
              "    </tr>\n",
              "    <tr>\n",
              "      <td>14</td>\n",
              "      <td>0.302118</td>\n",
              "      <td>0.313010</td>\n",
              "      <td>0.114068</td>\n",
              "      <td>0.885932</td>\n",
              "      <td>01:13</td>\n",
              "    </tr>\n",
              "    <tr>\n",
              "      <td>15</td>\n",
              "      <td>0.299962</td>\n",
              "      <td>0.324754</td>\n",
              "      <td>0.106464</td>\n",
              "      <td>0.893536</td>\n",
              "      <td>01:11</td>\n",
              "    </tr>\n",
              "    <tr>\n",
              "      <td>16</td>\n",
              "      <td>0.293543</td>\n",
              "      <td>0.299928</td>\n",
              "      <td>0.121673</td>\n",
              "      <td>0.878327</td>\n",
              "      <td>01:14</td>\n",
              "    </tr>\n",
              "    <tr>\n",
              "      <td>17</td>\n",
              "      <td>0.277307</td>\n",
              "      <td>0.315133</td>\n",
              "      <td>0.102662</td>\n",
              "      <td>0.897338</td>\n",
              "      <td>01:13</td>\n",
              "    </tr>\n",
              "    <tr>\n",
              "      <td>18</td>\n",
              "      <td>0.269877</td>\n",
              "      <td>0.324444</td>\n",
              "      <td>0.114068</td>\n",
              "      <td>0.885932</td>\n",
              "      <td>01:12</td>\n",
              "    </tr>\n",
              "    <tr>\n",
              "      <td>19</td>\n",
              "      <td>0.269786</td>\n",
              "      <td>0.307032</td>\n",
              "      <td>0.117871</td>\n",
              "      <td>0.882129</td>\n",
              "      <td>01:13</td>\n",
              "    </tr>\n",
              "    <tr>\n",
              "      <td>20</td>\n",
              "      <td>0.257762</td>\n",
              "      <td>0.321209</td>\n",
              "      <td>0.106464</td>\n",
              "      <td>0.893536</td>\n",
              "      <td>01:13</td>\n",
              "    </tr>\n",
              "    <tr>\n",
              "      <td>21</td>\n",
              "      <td>0.265487</td>\n",
              "      <td>0.317551</td>\n",
              "      <td>0.114068</td>\n",
              "      <td>0.885932</td>\n",
              "      <td>01:13</td>\n",
              "    </tr>\n",
              "    <tr>\n",
              "      <td>22</td>\n",
              "      <td>0.286334</td>\n",
              "      <td>0.306472</td>\n",
              "      <td>0.106464</td>\n",
              "      <td>0.893536</td>\n",
              "      <td>01:14</td>\n",
              "    </tr>\n",
              "    <tr>\n",
              "      <td>23</td>\n",
              "      <td>0.266279</td>\n",
              "      <td>0.322335</td>\n",
              "      <td>0.106464</td>\n",
              "      <td>0.893536</td>\n",
              "      <td>01:14</td>\n",
              "    </tr>\n",
              "    <tr>\n",
              "      <td>24</td>\n",
              "      <td>0.265156</td>\n",
              "      <td>0.324077</td>\n",
              "      <td>0.117871</td>\n",
              "      <td>0.882129</td>\n",
              "      <td>01:12</td>\n",
              "    </tr>\n",
              "  </tbody>\n",
              "</table>"
            ],
            "text/plain": [
              "<IPython.core.display.HTML object>"
            ]
          },
          "metadata": {
            "tags": []
          }
        },
        {
          "output_type": "display_data",
          "data": {
            "image/png": "[encoded data removed]",
            "text/plain": [
              "<Figure size 432x288 with 1 Axes>"
            ]
          },
          "metadata": {
            "tags": []
          }
        },
        {
          "output_type": "stream",
          "text": [
            "Better model found at epoch 0 with accuracy value: 0.7908745408058167.\n",
            "Better model found at epoch 1 with accuracy value: 0.8136882185935974.\n",
            "Better model found at epoch 3 with accuracy value: 0.8288973569869995.\n",
            "Better model found at epoch 4 with accuracy value: 0.8326995968818665.\n",
            "Better model found at epoch 5 with accuracy value: 0.8403041958808899.\n",
            "Better model found at epoch 6 with accuracy value: 0.8517110347747803.\n",
            "Better model found at epoch 7 with accuracy value: 0.8669201731681824.\n",
            "Better model found at epoch 8 with accuracy value: 0.8783270120620728.\n",
            "Better model found at epoch 9 with accuracy value: 0.8859315514564514.\n",
            "Better model found at epoch 10 with accuracy value: 0.8935361504554749.\n",
            "Better model found at epoch 12 with accuracy value: 0.9011406898498535.\n"
          ],
          "name": "stdout"
        }
      ]
    },
    {
      "cell_type": "code",
      "metadata": {
        "id": "nvb8UzSe3-BH",
        "colab_type": "code",
        "outputId": "26c77ad6-5924-4db0-b477-8460cb629b6f",
        "colab": {
          "base_uri": "https://localhost:8080/",
          "height": 438
        }
      },
      "source": [
        "learn.unfreeze()\n",
        "learn.lr_find()\n",
        "learn.recorder.plot(suggestion=True)\n"
      ],
      "execution_count": 0,
      "outputs": [
        {
          "output_type": "display_data",
          "data": {
            "text/html": [
              "\n",
              "    <div>\n",
              "        <style>\n",
              "            /* Turns off some styling */\n",
              "            progress {\n",
              "                /* gets rid of default border in Firefox and Opera. */\n",
              "                border: none;\n",
              "                /* Needs to be in here for Safari polyfill so background images work as expected. */\n",
              "                background-size: auto;\n",
              "            }\n",
              "            .progress-bar-interrupted, .progress-bar-interrupted::-webkit-progress-bar {\n",
              "                background: #F44336;\n",
              "            }\n",
              "        </style>\n",
              "      <progress value='1' class='' max='3', style='width:300px; height:20px; vertical-align: middle;'></progress>\n",
              "      33.33% [1/3 00:52<01:45]\n",
              "    </div>\n",
              "    \n",
              "<table border=\"1\" class=\"dataframe\">\n",
              "  <thead>\n",
              "    <tr style=\"text-align: left;\">\n",
              "      <th>epoch</th>\n",
              "      <th>train_loss</th>\n",
              "      <th>valid_loss</th>\n",
              "      <th>error_rate</th>\n",
              "      <th>accuracy</th>\n",
              "      <th>time</th>\n",
              "    </tr>\n",
              "  </thead>\n",
              "  <tbody>\n",
              "    <tr>\n",
              "      <td>0</td>\n",
              "      <td>0.326496</td>\n",
              "      <td>#na#</td>\n",
              "      <td>00:52</td>\n",
              "    </tr>\n",
              "  </tbody>\n",
              "</table><p>\n",
              "\n",
              "    <div>\n",
              "        <style>\n",
              "            /* Turns off some styling */\n",
              "            progress {\n",
              "                /* gets rid of default border in Firefox and Opera. */\n",
              "                border: none;\n",
              "                /* Needs to be in here for Safari polyfill so background images work as expected. */\n",
              "                background-size: auto;\n",
              "            }\n",
              "            .progress-bar-interrupted, .progress-bar-interrupted::-webkit-progress-bar {\n",
              "                background: #F44336;\n",
              "            }\n",
              "        </style>\n",
              "      <progress value='25' class='' max='38', style='width:300px; height:20px; vertical-align: middle;'></progress>\n",
              "      65.79% [25/38 00:35<00:18 0.8849]\n",
              "    </div>\n",
              "    "
            ],
            "text/plain": [
              "<IPython.core.display.HTML object>"
            ]
          },
          "metadata": {
            "tags": []
          }
        },
        {
          "output_type": "stream",
          "text": [
            "LR Finder is complete, type {learner_name}.recorder.plot() to see the graph.\n",
            "Min numerical gradient: 8.32E-06\n",
            "Min loss divided by 10: 6.31E-08\n"
          ],
          "name": "stdout"
        },
        {
          "output_type": "display_data",
          "data": {
            "image/png": "[encoded data removed]",
            "text/plain": [
              "<Figure size 432x288 with 1 Axes>"
            ]
          },
          "metadata": {
            "tags": []
          }
        }
      ]
    },
    {
      "cell_type": "code",
      "metadata": {
        "id": "PF86r8RuJ6Xk",
        "colab_type": "code",
        "outputId": "29778fc0-3245-4fef-8915-fffd3eb4d6cc",
        "colab": {
          "base_uri": "https://localhost:8080/",
          "height": 558
        }
      },
      "source": [
        "learn.unfreeze\n",
        "learn.fit_one_cycle(cyc_len=7, max_lr=slice(1e-5), wd=0.01,callbacks=[SaveModelCallback(learn, monitor='accuracy', name='resnet50')])"
      ],
      "execution_count": 0,
      "outputs": [
        {
          "output_type": "display_data",
          "data": {
            "text/html": [
              "<table border=\"1\" class=\"dataframe\">\n",
              "  <thead>\n",
              "    <tr style=\"text-align: left;\">\n",
              "      <th>epoch</th>\n",
              "      <th>train_loss</th>\n",
              "      <th>valid_loss</th>\n",
              "      <th>error_rate</th>\n",
              "      <th>accuracy</th>\n",
              "      <th>time</th>\n",
              "    </tr>\n",
              "  </thead>\n",
              "  <tbody>\n",
              "    <tr>\n",
              "      <td>0</td>\n",
              "      <td>0.342605</td>\n",
              "      <td>0.311491</td>\n",
              "      <td>0.106464</td>\n",
              "      <td>0.893536</td>\n",
              "      <td>01:11</td>\n",
              "    </tr>\n",
              "    <tr>\n",
              "      <td>1</td>\n",
              "      <td>0.331182</td>\n",
              "      <td>0.320899</td>\n",
              "      <td>0.117871</td>\n",
              "      <td>0.882129</td>\n",
              "      <td>01:12</td>\n",
              "    </tr>\n",
              "    <tr>\n",
              "      <td>2</td>\n",
              "      <td>0.320038</td>\n",
              "      <td>0.306103</td>\n",
              "      <td>0.125475</td>\n",
              "      <td>0.874525</td>\n",
              "      <td>01:13</td>\n",
              "    </tr>\n",
              "    <tr>\n",
              "      <td>3</td>\n",
              "      <td>0.342431</td>\n",
              "      <td>0.324552</td>\n",
              "      <td>0.102662</td>\n",
              "      <td>0.897338</td>\n",
              "      <td>01:11</td>\n",
              "    </tr>\n",
              "    <tr>\n",
              "      <td>4</td>\n",
              "      <td>0.368367</td>\n",
              "      <td>0.306555</td>\n",
              "      <td>0.098859</td>\n",
              "      <td>0.901141</td>\n",
              "      <td>01:11</td>\n",
              "    </tr>\n",
              "    <tr>\n",
              "      <td>5</td>\n",
              "      <td>0.332429</td>\n",
              "      <td>0.318429</td>\n",
              "      <td>0.102662</td>\n",
              "      <td>0.897338</td>\n",
              "      <td>01:13</td>\n",
              "    </tr>\n",
              "    <tr>\n",
              "      <td>6</td>\n",
              "      <td>0.349717</td>\n",
              "      <td>0.324275</td>\n",
              "      <td>0.106464</td>\n",
              "      <td>0.893536</td>\n",
              "      <td>01:14</td>\n",
              "    </tr>\n",
              "  </tbody>\n",
              "</table>"
            ],
            "text/plain": [
              "<IPython.core.display.HTML object>"
            ]
          },
          "metadata": {
            "tags": []
          }
        },
        {
          "output_type": "display_data",
          "data": {
            "image/png": "[encoded data removed]",
            "text/plain": [
              "<Figure size 432x288 with 1 Axes>"
            ]
          },
          "metadata": {
            "tags": []
          }
        },
        {
          "output_type": "stream",
          "text": [
            "Better model found at epoch 0 with accuracy value: 0.8935361504554749.\n",
            "Better model found at epoch 3 with accuracy value: 0.8973383903503418.\n",
            "Better model found at epoch 4 with accuracy value: 0.9011406898498535.\n"
          ],
          "name": "stdout"
        }
      ]
    },
    {
      "cell_type": "code",
      "metadata": {
        "id": "AKYiB1RjpD99",
        "colab_type": "code",
        "outputId": "a8d0e9b9-9f0a-4151-e4ae-37967bac1d20",
        "colab": {
          "base_uri": "https://localhost:8080/",
          "height": 503
        }
      },
      "source": [
        "interp = ClassificationInterpretation.from_learner(learn)\n",
        "interp.plot_confusion_matrix(figsize=(8,8), dpi=60)"
      ],
      "execution_count": 0,
      "outputs": [
        {
          "output_type": "display_data",
          "data": {
            "text/html": [
              ""
            ],
            "text/plain": [
              "<IPython.core.display.HTML object>"
            ]
          },
          "metadata": {
            "tags": []
          }
        },
        {
          "output_type": "display_data",
          "data": {
            "image/png": "[encoded data removed]",
            "text/plain": [
              "<Figure size 480x480 with 1 Axes>"
            ]
          },
          "metadata": {
            "tags": []
          }
        }
      ]
    },
    {
      "cell_type": "markdown",
      "metadata": {
        "id": "HXtNSZqv9sEM",
        "colab_type": "text"
      },
      "source": [
        "#DenseNet"
      ]
    },
    {
      "cell_type": "code",
      "metadata": {
        "id": "SqhGHatj9rlV",
        "colab_type": "code",
        "colab": {}
      },
      "source": [
        "from fastai.vision.models import densenet121"
      ],
      "execution_count": 0,
      "outputs": []
    },
    {
      "cell_type": "code",
      "metadata": {
        "id": "G-w9uzvT-AMm",
        "colab_type": "code",
        "outputId": "aa799ddd-d83d-4d19-ee23-8365b0844256",
        "colab": {
          "base_uri": "https://localhost:8080/",
          "height": 483,
          "referenced_widgets": [
            "87990c479f304c15b8b7ad2294a4948b",
            "0319f7c499a34c69b484b1f3b0dcf4ea",
            "663b4eb695cc4facad01a3b081dd263e",
            "d972cedf393b43e4b2990986f7f0e859",
            "baaa4e630b954e83a21c1dac983e0f2f",
            "b59f871fdf684f308954ccf4a1fb7634",
            "00dc55f1092a490ea56e5fe39c9108f2",
            "b9631be9152645a0a94ec5baa87feee3"
          ]
        }
      },
      "source": [
        "learn = cnn_learner(data,densenet121, metrics=[error_rate, accuracy], pretrained=True, ps=0.5, callback_fns=ShowGraph)\n",
        "learn.fit_one_cycle(4)"
      ],
      "execution_count": 0,
      "outputs": [
        {
          "output_type": "stream",
          "text": [
            "Downloading: \"https://download.pytorch.org/models/densenet121-a639ec97.pth\" to /root/.cache/torch/checkpoints/densenet121-a639ec97.pth\n"
          ],
          "name": "stderr"
        },
        {
          "output_type": "display_data",
          "data": {
            "application/vnd.jupyter.widget-view+json": {
              "model_id": "87990c479f304c15b8b7ad2294a4948b",
              "version_minor": 0,
              "version_major": 2
            },
            "text/plain": [
              "HBox(children=(IntProgress(value=0, max=32342954), HTML(value='')))"
            ]
          },
          "metadata": {
            "tags": []
          }
        },
        {
          "output_type": "stream",
          "text": [
            "\n"
          ],
          "name": "stdout"
        },
        {
          "output_type": "display_data",
          "data": {
            "text/html": [
              "<table border=\"1\" class=\"dataframe\">\n",
              "  <thead>\n",
              "    <tr style=\"text-align: left;\">\n",
              "      <th>epoch</th>\n",
              "      <th>train_loss</th>\n",
              "      <th>valid_loss</th>\n",
              "      <th>error_rate</th>\n",
              "      <th>accuracy</th>\n",
              "      <th>time</th>\n",
              "    </tr>\n",
              "  </thead>\n",
              "  <tbody>\n",
              "    <tr>\n",
              "      <td>0</td>\n",
              "      <td>1.321208</td>\n",
              "      <td>0.713926</td>\n",
              "      <td>0.273764</td>\n",
              "      <td>0.726236</td>\n",
              "      <td>03:23</td>\n",
              "    </tr>\n",
              "    <tr>\n",
              "      <td>1</td>\n",
              "      <td>1.082208</td>\n",
              "      <td>0.642151</td>\n",
              "      <td>0.209125</td>\n",
              "      <td>0.790875</td>\n",
              "      <td>01:15</td>\n",
              "    </tr>\n",
              "    <tr>\n",
              "      <td>2</td>\n",
              "      <td>0.872605</td>\n",
              "      <td>0.495842</td>\n",
              "      <td>0.201521</td>\n",
              "      <td>0.798479</td>\n",
              "      <td>01:16</td>\n",
              "    </tr>\n",
              "    <tr>\n",
              "      <td>3</td>\n",
              "      <td>0.683053</td>\n",
              "      <td>0.435348</td>\n",
              "      <td>0.178707</td>\n",
              "      <td>0.821293</td>\n",
              "      <td>01:18</td>\n",
              "    </tr>\n",
              "  </tbody>\n",
              "</table>"
            ],
            "text/plain": [
              "<IPython.core.display.HTML object>"
            ]
          },
          "metadata": {
            "tags": []
          }
        },
        {
          "output_type": "display_data",
          "data": {
            "image/png": "[encoded data removed]",
            "text/plain": [
              "<Figure size 432x288 with 1 Axes>"
            ]
          },
          "metadata": {
            "tags": []
          }
        }
      ]
    },
    {
      "cell_type": "code",
      "metadata": {
        "id": "LE39BhE3UHVq",
        "colab_type": "code",
        "outputId": "b2f15941-00a8-4cdf-ef08-033762fe4dbe",
        "colab": {
          "base_uri": "https://localhost:8080/",
          "height": 438
        }
      },
      "source": [
        "learn.unfreeze()\n",
        "learn.lr_find()\n",
        "learn.recorder.plot(suggestion=True)"
      ],
      "execution_count": 0,
      "outputs": [
        {
          "output_type": "display_data",
          "data": {
            "text/html": [
              "\n",
              "    <div>\n",
              "        <style>\n",
              "            /* Turns off some styling */\n",
              "            progress {\n",
              "                /* gets rid of default border in Firefox and Opera. */\n",
              "                border: none;\n",
              "                /* Needs to be in here for Safari polyfill so background images work as expected. */\n",
              "                background-size: auto;\n",
              "            }\n",
              "            .progress-bar-interrupted, .progress-bar-interrupted::-webkit-progress-bar {\n",
              "                background: #F44336;\n",
              "            }\n",
              "        </style>\n",
              "      <progress value='1' class='' max='3', style='width:300px; height:20px; vertical-align: middle;'></progress>\n",
              "      33.33% [1/3 00:53<01:47]\n",
              "    </div>\n",
              "    \n",
              "<table border=\"1\" class=\"dataframe\">\n",
              "  <thead>\n",
              "    <tr style=\"text-align: left;\">\n",
              "      <th>epoch</th>\n",
              "      <th>train_loss</th>\n",
              "      <th>valid_loss</th>\n",
              "      <th>error_rate</th>\n",
              "      <th>accuracy</th>\n",
              "      <th>time</th>\n",
              "    </tr>\n",
              "  </thead>\n",
              "  <tbody>\n",
              "    <tr>\n",
              "      <td>0</td>\n",
              "      <td>0.572000</td>\n",
              "      <td>#na#</td>\n",
              "      <td>00:53</td>\n",
              "    </tr>\n",
              "  </tbody>\n",
              "</table><p>\n",
              "\n",
              "    <div>\n",
              "        <style>\n",
              "            /* Turns off some styling */\n",
              "            progress {\n",
              "                /* gets rid of default border in Firefox and Opera. */\n",
              "                border: none;\n",
              "                /* Needs to be in here for Safari polyfill so background images work as expected. */\n",
              "                background-size: auto;\n",
              "            }\n",
              "            .progress-bar-interrupted, .progress-bar-interrupted::-webkit-progress-bar {\n",
              "                background: #F44336;\n",
              "            }\n",
              "        </style>\n",
              "      <progress value='33' class='' max='38', style='width:300px; height:20px; vertical-align: middle;'></progress>\n",
              "      86.84% [33/38 00:49<00:07 1.1230]\n",
              "    </div>\n",
              "    "
            ],
            "text/plain": [
              "<IPython.core.display.HTML object>"
            ]
          },
          "metadata": {
            "tags": []
          }
        },
        {
          "output_type": "stream",
          "text": [
            "LR Finder is complete, type {learner_name}.recorder.plot() to see the graph.\n",
            "Min numerical gradient: 6.31E-07\n",
            "Min loss divided by 10: 2.75E-07\n"
          ],
          "name": "stdout"
        },
        {
          "output_type": "display_data",
          "data": {
            "image/png": "[encoded data removed]",
            "text/plain": [
              "<Figure size 432x288 with 1 Axes>"
            ]
          },
          "metadata": {
            "tags": []
          }
        }
      ]
    },
    {
      "cell_type": "code",
      "metadata": {
        "id": "x0lEqB4bCVto",
        "colab_type": "code",
        "outputId": "15062f59-fb11-4184-dc42-4b8685ac6b08",
        "colab": {
          "base_uri": "https://localhost:8080/",
          "height": 1000
        }
      },
      "source": [
        "#learner_one_cycle.fit_one_cycle(cyc_len=35)\n",
        "from fastai.callbacks.tracker import *\n",
        "learn.unfreeze\n",
        "learn.fit_one_cycle(cyc_len=25,wd=0.01,callbacks=[SaveModelCallback(learn, monitor='accuracy', name='densenet1')])"
      ],
      "execution_count": 0,
      "outputs": [
        {
          "output_type": "display_data",
          "data": {
            "text/html": [
              "<table border=\"1\" class=\"dataframe\">\n",
              "  <thead>\n",
              "    <tr style=\"text-align: left;\">\n",
              "      <th>epoch</th>\n",
              "      <th>train_loss</th>\n",
              "      <th>valid_loss</th>\n",
              "      <th>error_rate</th>\n",
              "      <th>accuracy</th>\n",
              "      <th>time</th>\n",
              "    </tr>\n",
              "  </thead>\n",
              "  <tbody>\n",
              "    <tr>\n",
              "      <td>0</td>\n",
              "      <td>0.506045</td>\n",
              "      <td>0.373233</td>\n",
              "      <td>0.144487</td>\n",
              "      <td>0.855513</td>\n",
              "      <td>01:16</td>\n",
              "    </tr>\n",
              "    <tr>\n",
              "      <td>1</td>\n",
              "      <td>0.496351</td>\n",
              "      <td>0.333750</td>\n",
              "      <td>0.117871</td>\n",
              "      <td>0.882129</td>\n",
              "      <td>01:19</td>\n",
              "    </tr>\n",
              "    <tr>\n",
              "      <td>2</td>\n",
              "      <td>0.444256</td>\n",
              "      <td>0.491928</td>\n",
              "      <td>0.148289</td>\n",
              "      <td>0.851711</td>\n",
              "      <td>01:17</td>\n",
              "    </tr>\n",
              "    <tr>\n",
              "      <td>3</td>\n",
              "      <td>0.482517</td>\n",
              "      <td>0.526222</td>\n",
              "      <td>0.163498</td>\n",
              "      <td>0.836502</td>\n",
              "      <td>01:16</td>\n",
              "    </tr>\n",
              "    <tr>\n",
              "      <td>4</td>\n",
              "      <td>0.523010</td>\n",
              "      <td>0.675635</td>\n",
              "      <td>0.178707</td>\n",
              "      <td>0.821293</td>\n",
              "      <td>01:15</td>\n",
              "    </tr>\n",
              "    <tr>\n",
              "      <td>5</td>\n",
              "      <td>0.576758</td>\n",
              "      <td>0.573280</td>\n",
              "      <td>0.155894</td>\n",
              "      <td>0.844106</td>\n",
              "      <td>01:16</td>\n",
              "    </tr>\n",
              "    <tr>\n",
              "      <td>6</td>\n",
              "      <td>0.532752</td>\n",
              "      <td>0.647554</td>\n",
              "      <td>0.197719</td>\n",
              "      <td>0.802281</td>\n",
              "      <td>01:16</td>\n",
              "    </tr>\n",
              "    <tr>\n",
              "      <td>7</td>\n",
              "      <td>0.528059</td>\n",
              "      <td>0.513044</td>\n",
              "      <td>0.174905</td>\n",
              "      <td>0.825095</td>\n",
              "      <td>01:18</td>\n",
              "    </tr>\n",
              "    <tr>\n",
              "      <td>8</td>\n",
              "      <td>0.506258</td>\n",
              "      <td>0.332268</td>\n",
              "      <td>0.117871</td>\n",
              "      <td>0.882129</td>\n",
              "      <td>01:17</td>\n",
              "    </tr>\n",
              "    <tr>\n",
              "      <td>9</td>\n",
              "      <td>0.458624</td>\n",
              "      <td>0.298468</td>\n",
              "      <td>0.102662</td>\n",
              "      <td>0.897338</td>\n",
              "      <td>01:17</td>\n",
              "    </tr>\n",
              "    <tr>\n",
              "      <td>10</td>\n",
              "      <td>0.391470</td>\n",
              "      <td>0.269843</td>\n",
              "      <td>0.083650</td>\n",
              "      <td>0.916350</td>\n",
              "      <td>01:16</td>\n",
              "    </tr>\n",
              "    <tr>\n",
              "      <td>11</td>\n",
              "      <td>0.345063</td>\n",
              "      <td>0.408002</td>\n",
              "      <td>0.110266</td>\n",
              "      <td>0.889734</td>\n",
              "      <td>01:16</td>\n",
              "    </tr>\n",
              "    <tr>\n",
              "      <td>12</td>\n",
              "      <td>0.324132</td>\n",
              "      <td>0.442025</td>\n",
              "      <td>0.152091</td>\n",
              "      <td>0.847909</td>\n",
              "      <td>01:17</td>\n",
              "    </tr>\n",
              "    <tr>\n",
              "      <td>13</td>\n",
              "      <td>0.312082</td>\n",
              "      <td>0.273270</td>\n",
              "      <td>0.087452</td>\n",
              "      <td>0.912548</td>\n",
              "      <td>01:20</td>\n",
              "    </tr>\n",
              "    <tr>\n",
              "      <td>14</td>\n",
              "      <td>0.312921</td>\n",
              "      <td>0.437892</td>\n",
              "      <td>0.129278</td>\n",
              "      <td>0.870722</td>\n",
              "      <td>01:19</td>\n",
              "    </tr>\n",
              "    <tr>\n",
              "      <td>15</td>\n",
              "      <td>0.275683</td>\n",
              "      <td>0.265521</td>\n",
              "      <td>0.076046</td>\n",
              "      <td>0.923954</td>\n",
              "      <td>01:19</td>\n",
              "    </tr>\n",
              "    <tr>\n",
              "      <td>16</td>\n",
              "      <td>0.261006</td>\n",
              "      <td>0.292221</td>\n",
              "      <td>0.087452</td>\n",
              "      <td>0.912548</td>\n",
              "      <td>01:19</td>\n",
              "    </tr>\n",
              "    <tr>\n",
              "      <td>17</td>\n",
              "      <td>0.238387</td>\n",
              "      <td>0.275494</td>\n",
              "      <td>0.079848</td>\n",
              "      <td>0.920152</td>\n",
              "      <td>01:20</td>\n",
              "    </tr>\n",
              "    <tr>\n",
              "      <td>18</td>\n",
              "      <td>0.204199</td>\n",
              "      <td>0.243019</td>\n",
              "      <td>0.076046</td>\n",
              "      <td>0.923954</td>\n",
              "      <td>01:19</td>\n",
              "    </tr>\n",
              "    <tr>\n",
              "      <td>19</td>\n",
              "      <td>0.188669</td>\n",
              "      <td>0.288594</td>\n",
              "      <td>0.106464</td>\n",
              "      <td>0.893536</td>\n",
              "      <td>01:19</td>\n",
              "    </tr>\n",
              "    <tr>\n",
              "      <td>20</td>\n",
              "      <td>0.151370</td>\n",
              "      <td>0.282990</td>\n",
              "      <td>0.091255</td>\n",
              "      <td>0.908745</td>\n",
              "      <td>01:17</td>\n",
              "    </tr>\n",
              "    <tr>\n",
              "      <td>21</td>\n",
              "      <td>0.134781</td>\n",
              "      <td>0.269405</td>\n",
              "      <td>0.095057</td>\n",
              "      <td>0.904943</td>\n",
              "      <td>01:19</td>\n",
              "    </tr>\n",
              "    <tr>\n",
              "      <td>22</td>\n",
              "      <td>0.113838</td>\n",
              "      <td>0.255510</td>\n",
              "      <td>0.079848</td>\n",
              "      <td>0.920152</td>\n",
              "      <td>01:20</td>\n",
              "    </tr>\n",
              "    <tr>\n",
              "      <td>23</td>\n",
              "      <td>0.115467</td>\n",
              "      <td>0.253746</td>\n",
              "      <td>0.076046</td>\n",
              "      <td>0.923954</td>\n",
              "      <td>01:19</td>\n",
              "    </tr>\n",
              "    <tr>\n",
              "      <td>24</td>\n",
              "      <td>0.114157</td>\n",
              "      <td>0.264442</td>\n",
              "      <td>0.091255</td>\n",
              "      <td>0.908745</td>\n",
              "      <td>01:17</td>\n",
              "    </tr>\n",
              "  </tbody>\n",
              "</table>"
            ],
            "text/plain": [
              "<IPython.core.display.HTML object>"
            ]
          },
          "metadata": {
            "tags": []
          }
        },
        {
          "output_type": "display_data",
          "data": {
            "image/png": "[encoded data removed]",
            "text/plain": [
              "<Figure size 432x288 with 1 Axes>"
            ]
          },
          "metadata": {
            "tags": []
          }
        },
        {
          "output_type": "stream",
          "text": [
            "Better model found at epoch 0 with accuracy value: 0.855513334274292.\n",
            "Better model found at epoch 1 with accuracy value: 0.8821292519569397.\n",
            "Better model found at epoch 9 with accuracy value: 0.8973383903503418.\n",
            "Better model found at epoch 10 with accuracy value: 0.9163498282432556.\n",
            "Better model found at epoch 15 with accuracy value: 0.9239543676376343.\n"
          ],
          "name": "stdout"
        }
      ]
    },
    {
      "cell_type": "code",
      "metadata": {
        "id": "AtUY5ZnZLWDa",
        "colab_type": "code",
        "outputId": "86eac155-fbbe-49f3-ce22-e90ef73586fe",
        "colab": {
          "base_uri": "https://localhost:8080/",
          "height": 503
        }
      },
      "source": [
        "interp = ClassificationInterpretation.from_learner(learn)\n",
        "interp.plot_confusion_matrix(figsize=(8,8), dpi=60)"
      ],
      "execution_count": 0,
      "outputs": [
        {
          "output_type": "display_data",
          "data": {
            "text/html": [
              ""
            ],
            "text/plain": [
              "<IPython.core.display.HTML object>"
            ]
          },
          "metadata": {
            "tags": []
          }
        },
        {
          "output_type": "display_data",
          "data": {
            "image/png": "[encoded data removed]",
            "text/plain": [
              "<Figure size 480x480 with 1 Axes>"
            ]
          },
          "metadata": {
            "tags": []
          }
        }
      ]
    },
    {
      "cell_type": "code",
      "metadata": {
        "id": "Lrglbu-IOhOs",
        "colab_type": "code",
        "outputId": "cdb8f594-fe72-4097-a6c5-4a6cd2e26133",
        "colab": {
          "base_uri": "https://localhost:8080/",
          "height": 441
        }
      },
      "source": [
        "learn.unfreeze()\n",
        "learn.lr_find()\n",
        "learn.recorder.plot(suggestion=True)"
      ],
      "execution_count": 0,
      "outputs": [
        {
          "output_type": "display_data",
          "data": {
            "text/html": [
              "\n",
              "    <div>\n",
              "        <style>\n",
              "            /* Turns off some styling */\n",
              "            progress {\n",
              "                /* gets rid of default border in Firefox and Opera. */\n",
              "                border: none;\n",
              "                /* Needs to be in here for Safari polyfill so background images work as expected. */\n",
              "                background-size: auto;\n",
              "            }\n",
              "            .progress-bar-interrupted, .progress-bar-interrupted::-webkit-progress-bar {\n",
              "                background: #F44336;\n",
              "            }\n",
              "        </style>\n",
              "      <progress value='1' class='' max='3', style='width:300px; height:20px; vertical-align: middle;'></progress>\n",
              "      33.33% [1/3 00:56<01:52]\n",
              "    </div>\n",
              "    \n",
              "<table border=\"1\" class=\"dataframe\">\n",
              "  <thead>\n",
              "    <tr style=\"text-align: left;\">\n",
              "      <th>epoch</th>\n",
              "      <th>train_loss</th>\n",
              "      <th>valid_loss</th>\n",
              "      <th>error_rate</th>\n",
              "      <th>accuracy</th>\n",
              "      <th>time</th>\n",
              "    </tr>\n",
              "  </thead>\n",
              "  <tbody>\n",
              "    <tr>\n",
              "      <td>0</td>\n",
              "      <td>0.200374</td>\n",
              "      <td>#na#</td>\n",
              "      <td>00:56</td>\n",
              "    </tr>\n",
              "  </tbody>\n",
              "</table><p>\n",
              "\n",
              "    <div>\n",
              "        <style>\n",
              "            /* Turns off some styling */\n",
              "            progress {\n",
              "                /* gets rid of default border in Firefox and Opera. */\n",
              "                border: none;\n",
              "                /* Needs to be in here for Safari polyfill so background images work as expected. */\n",
              "                background-size: auto;\n",
              "            }\n",
              "            .progress-bar-interrupted, .progress-bar-interrupted::-webkit-progress-bar {\n",
              "                background: #F44336;\n",
              "            }\n",
              "        </style>\n",
              "      <progress value='31' class='' max='38', style='width:300px; height:20px; vertical-align: middle;'></progress>\n",
              "      81.58% [31/38 00:48<00:10 0.6872]\n",
              "    </div>\n",
              "    "
            ],
            "text/plain": [
              "<IPython.core.display.HTML object>"
            ]
          },
          "metadata": {
            "tags": []
          }
        },
        {
          "output_type": "stream",
          "text": [
            "LR Finder is complete, type {learner_name}.recorder.plot() to see the graph.\n",
            "Min numerical gradient: 9.12E-07\n",
            "Min loss divided by 10: 5.75E-05\n"
          ],
          "name": "stdout"
        },
        {
          "output_type": "display_data",
          "data": {
            "image/png": "[encoded data removed]",
            "text/plain": [
              "<Figure size 432x288 with 1 Axes>"
            ]
          },
          "metadata": {
            "tags": []
          }
        }
      ]
    },
    {
      "cell_type": "code",
      "metadata": {
        "id": "-zE8Qc7MOY4I",
        "colab_type": "code",
        "outputId": "9b3d94a5-2849-4591-f072-8981bf93925c",
        "colab": {
          "base_uri": "https://localhost:8080/",
          "height": 541
        }
      },
      "source": [
        "#learner_one_cycle.fit_one_cycle(cyc_len=35)\n",
        "learn.unfreeze\n",
        "learn.fit_one_cycle(cyc_len=7, max_lr=slice(1e-6), wd=0.01,callbacks=[SaveModelCallback(learn, monitor='accuracy', name='densenet2')])"
      ],
      "execution_count": 0,
      "outputs": [
        {
          "output_type": "display_data",
          "data": {
            "text/html": [
              "<table border=\"1\" class=\"dataframe\">\n",
              "  <thead>\n",
              "    <tr style=\"text-align: left;\">\n",
              "      <th>epoch</th>\n",
              "      <th>train_loss</th>\n",
              "      <th>valid_loss</th>\n",
              "      <th>error_rate</th>\n",
              "      <th>accuracy</th>\n",
              "      <th>time</th>\n",
              "    </tr>\n",
              "  </thead>\n",
              "  <tbody>\n",
              "    <tr>\n",
              "      <td>0</td>\n",
              "      <td>0.196854</td>\n",
              "      <td>0.300827</td>\n",
              "      <td>0.083650</td>\n",
              "      <td>0.916350</td>\n",
              "      <td>01:19</td>\n",
              "    </tr>\n",
              "    <tr>\n",
              "      <td>1</td>\n",
              "      <td>0.175680</td>\n",
              "      <td>0.272167</td>\n",
              "      <td>0.079848</td>\n",
              "      <td>0.920152</td>\n",
              "      <td>01:16</td>\n",
              "    </tr>\n",
              "    <tr>\n",
              "      <td>2</td>\n",
              "      <td>0.195947</td>\n",
              "      <td>0.292014</td>\n",
              "      <td>0.087452</td>\n",
              "      <td>0.912548</td>\n",
              "      <td>01:16</td>\n",
              "    </tr>\n",
              "    <tr>\n",
              "      <td>3</td>\n",
              "      <td>0.224522</td>\n",
              "      <td>0.291225</td>\n",
              "      <td>0.083650</td>\n",
              "      <td>0.916350</td>\n",
              "      <td>01:20</td>\n",
              "    </tr>\n",
              "    <tr>\n",
              "      <td>4</td>\n",
              "      <td>0.228520</td>\n",
              "      <td>0.321882</td>\n",
              "      <td>0.098859</td>\n",
              "      <td>0.901141</td>\n",
              "      <td>01:16</td>\n",
              "    </tr>\n",
              "    <tr>\n",
              "      <td>5</td>\n",
              "      <td>0.266844</td>\n",
              "      <td>0.285101</td>\n",
              "      <td>0.087452</td>\n",
              "      <td>0.912548</td>\n",
              "      <td>01:15</td>\n",
              "    </tr>\n",
              "    <tr>\n",
              "      <td>6</td>\n",
              "      <td>0.243240</td>\n",
              "      <td>0.285537</td>\n",
              "      <td>0.079848</td>\n",
              "      <td>0.920152</td>\n",
              "      <td>01:17</td>\n",
              "    </tr>\n",
              "  </tbody>\n",
              "</table>"
            ],
            "text/plain": [
              "<IPython.core.display.HTML object>"
            ]
          },
          "metadata": {
            "tags": []
          }
        },
        {
          "output_type": "display_data",
          "data": {
            "image/png": "[encoded data removed]",
            "text/plain": [
              "<Figure size 432x288 with 1 Axes>"
            ]
          },
          "metadata": {
            "tags": []
          }
        },
        {
          "output_type": "stream",
          "text": [
            "Better model found at epoch 0 with accuracy value: 0.9163498282432556.\n",
            "Better model found at epoch 1 with accuracy value: 0.9201520681381226.\n"
          ],
          "name": "stdout"
        }
      ]
    },
    {
      "cell_type": "code",
      "metadata": {
        "id": "j89a8vIISqui",
        "colab_type": "code",
        "outputId": "df07ab3d-f004-4e68-90ab-9509ba5995a6",
        "colab": {
          "base_uri": "https://localhost:8080/",
          "height": 503
        }
      },
      "source": [
        "interp = ClassificationInterpretation.from_learner(learn)\n",
        "interp.plot_confusion_matrix(figsize=(8,8), dpi=60)"
      ],
      "execution_count": 0,
      "outputs": [
        {
          "output_type": "display_data",
          "data": {
            "text/html": [
              ""
            ],
            "text/plain": [
              "<IPython.core.display.HTML object>"
            ]
          },
          "metadata": {
            "tags": []
          }
        },
        {
          "output_type": "display_data",
          "data": {
            "image/png": "[encoded data removed]",
            "text/plain": [
              "<Figure size 480x480 with 1 Axes>"
            ]
          },
          "metadata": {
            "tags": []
          }
        }
      ]
    },
    {
      "cell_type": "markdown",
      "metadata": {
        "id": "Vp_TU-9aTo9v",
        "colab_type": "text"
      },
      "source": [
        "#DenseNet"
      ]
    },
    {
      "cell_type": "code",
      "metadata": {
        "id": "4PHclYq8Teyp",
        "colab_type": "code",
        "colab": {}
      },
      "source": [
        "from fastai.vision.models import densenet161"
      ],
      "execution_count": 0,
      "outputs": []
    },
    {
      "cell_type": "code",
      "metadata": {
        "id": "H_p4NnQoUTgP",
        "colab_type": "code",
        "outputId": "e4e20e2e-59e9-459c-be78-ce4b09d05ed5",
        "colab": {
          "base_uri": "https://localhost:8080/",
          "height": 483,
          "referenced_widgets": [
            "275499ea59de473a801a0c46739316f1",
            "43fd541f8a8e4bf6971b2afe4b1b9169",
            "e1f0498181d945f096b2d1a075f9e892",
            "c47a8573399c4ae4ae766463a09ef73b",
            "b62e6504a4654199b68e789d8e12fb86",
            "08bfedda69894eb0ac5adc541aad1a36",
            "15e39bebab89410582e5249846bc8f93",
            "1eb711e90b164358bee44b3a0afe749b"
          ]
        }
      },
      "source": [
        "learn = cnn_learner(data,densenet161, metrics=[error_rate, accuracy], pretrained=True, ps=0.5, callback_fns=ShowGraph)\n",
        "learn.fit_one_cycle(4)"
      ],
      "execution_count": 0,
      "outputs": [
        {
          "output_type": "stream",
          "text": [
            "Downloading: \"https://download.pytorch.org/models/densenet161-8d451a50.pth\" to /root/.cache/torch/checkpoints/densenet161-8d451a50.pth\n"
          ],
          "name": "stderr"
        },
        {
          "output_type": "display_data",
          "data": {
            "application/vnd.jupyter.widget-view+json": {
              "model_id": "275499ea59de473a801a0c46739316f1",
              "version_minor": 0,
              "version_major": 2
            },
            "text/plain": [
              "HBox(children=(IntProgress(value=0, max=115730790), HTML(value='')))"
            ]
          },
          "metadata": {
            "tags": []
          }
        },
        {
          "output_type": "stream",
          "text": [
            "\n"
          ],
          "name": "stdout"
        },
        {
          "output_type": "display_data",
          "data": {
            "text/html": [
              "<table border=\"1\" class=\"dataframe\">\n",
              "  <thead>\n",
              "    <tr style=\"text-align: left;\">\n",
              "      <th>epoch</th>\n",
              "      <th>train_loss</th>\n",
              "      <th>valid_loss</th>\n",
              "      <th>error_rate</th>\n",
              "      <th>accuracy</th>\n",
              "      <th>time</th>\n",
              "    </tr>\n",
              "  </thead>\n",
              "  <tbody>\n",
              "    <tr>\n",
              "      <td>0</td>\n",
              "      <td>1.504147</td>\n",
              "      <td>0.637484</td>\n",
              "      <td>0.186312</td>\n",
              "      <td>0.813688</td>\n",
              "      <td>01:32</td>\n",
              "    </tr>\n",
              "    <tr>\n",
              "      <td>1</td>\n",
              "      <td>1.213684</td>\n",
              "      <td>0.547455</td>\n",
              "      <td>0.197719</td>\n",
              "      <td>0.802281</td>\n",
              "      <td>01:14</td>\n",
              "    </tr>\n",
              "    <tr>\n",
              "      <td>2</td>\n",
              "      <td>0.936856</td>\n",
              "      <td>0.378748</td>\n",
              "      <td>0.121673</td>\n",
              "      <td>0.878327</td>\n",
              "      <td>01:17</td>\n",
              "    </tr>\n",
              "    <tr>\n",
              "      <td>3</td>\n",
              "      <td>0.717147</td>\n",
              "      <td>0.383111</td>\n",
              "      <td>0.133080</td>\n",
              "      <td>0.866920</td>\n",
              "      <td>01:15</td>\n",
              "    </tr>\n",
              "  </tbody>\n",
              "</table>"
            ],
            "text/plain": [
              "<IPython.core.display.HTML object>"
            ]
          },
          "metadata": {
            "tags": []
          }
        },
        {
          "output_type": "display_data",
          "data": {
            "image/png": "[encoded data removed]",
            "text/plain": [
              "<Figure size 432x288 with 1 Axes>"
            ]
          },
          "metadata": {
            "tags": []
          }
        }
      ]
    },
    {
      "cell_type": "code",
      "metadata": {
        "id": "3-Up3gJsYzsA",
        "colab_type": "code",
        "outputId": "d28c2aa1-a22f-405d-df68-a894d56ca113",
        "colab": {
          "base_uri": "https://localhost:8080/",
          "height": 1000
        }
      },
      "source": [
        "from fastai.callbacks.tracker import *\n",
        "learn.unfreeze\n",
        "learn.fit_one_cycle(cyc_len=25,wd=0.01,callbacks=[SaveModelCallback(learn, monitor='accuracy', name='densenet161_1')])"
      ],
      "execution_count": 0,
      "outputs": [
        {
          "output_type": "display_data",
          "data": {
            "text/html": [
              "<table border=\"1\" class=\"dataframe\">\n",
              "  <thead>\n",
              "    <tr style=\"text-align: left;\">\n",
              "      <th>epoch</th>\n",
              "      <th>train_loss</th>\n",
              "      <th>valid_loss</th>\n",
              "      <th>error_rate</th>\n",
              "      <th>accuracy</th>\n",
              "      <th>time</th>\n",
              "    </tr>\n",
              "  </thead>\n",
              "  <tbody>\n",
              "    <tr>\n",
              "      <td>0</td>\n",
              "      <td>0.482199</td>\n",
              "      <td>0.363102</td>\n",
              "      <td>0.140684</td>\n",
              "      <td>0.859316</td>\n",
              "      <td>01:14</td>\n",
              "    </tr>\n",
              "    <tr>\n",
              "      <td>1</td>\n",
              "      <td>0.477474</td>\n",
              "      <td>0.323492</td>\n",
              "      <td>0.098859</td>\n",
              "      <td>0.901141</td>\n",
              "      <td>01:15</td>\n",
              "    </tr>\n",
              "    <tr>\n",
              "      <td>2</td>\n",
              "      <td>0.495252</td>\n",
              "      <td>0.329297</td>\n",
              "      <td>0.091255</td>\n",
              "      <td>0.908745</td>\n",
              "      <td>01:15</td>\n",
              "    </tr>\n",
              "    <tr>\n",
              "      <td>3</td>\n",
              "      <td>0.478573</td>\n",
              "      <td>0.361933</td>\n",
              "      <td>0.106464</td>\n",
              "      <td>0.893536</td>\n",
              "      <td>01:16</td>\n",
              "    </tr>\n",
              "    <tr>\n",
              "      <td>4</td>\n",
              "      <td>0.489640</td>\n",
              "      <td>0.467763</td>\n",
              "      <td>0.129278</td>\n",
              "      <td>0.870722</td>\n",
              "      <td>01:18</td>\n",
              "    </tr>\n",
              "    <tr>\n",
              "      <td>5</td>\n",
              "      <td>0.505497</td>\n",
              "      <td>0.412727</td>\n",
              "      <td>0.136882</td>\n",
              "      <td>0.863118</td>\n",
              "      <td>01:16</td>\n",
              "    </tr>\n",
              "    <tr>\n",
              "      <td>6</td>\n",
              "      <td>0.507417</td>\n",
              "      <td>0.476991</td>\n",
              "      <td>0.155894</td>\n",
              "      <td>0.844106</td>\n",
              "      <td>01:17</td>\n",
              "    </tr>\n",
              "    <tr>\n",
              "      <td>7</td>\n",
              "      <td>0.473019</td>\n",
              "      <td>0.310329</td>\n",
              "      <td>0.106464</td>\n",
              "      <td>0.893536</td>\n",
              "      <td>01:16</td>\n",
              "    </tr>\n",
              "    <tr>\n",
              "      <td>8</td>\n",
              "      <td>0.435607</td>\n",
              "      <td>0.307507</td>\n",
              "      <td>0.095057</td>\n",
              "      <td>0.904943</td>\n",
              "      <td>01:18</td>\n",
              "    </tr>\n",
              "    <tr>\n",
              "      <td>9</td>\n",
              "      <td>0.401246</td>\n",
              "      <td>0.466133</td>\n",
              "      <td>0.155894</td>\n",
              "      <td>0.844106</td>\n",
              "      <td>01:16</td>\n",
              "    </tr>\n",
              "    <tr>\n",
              "      <td>10</td>\n",
              "      <td>0.375243</td>\n",
              "      <td>0.335454</td>\n",
              "      <td>0.121673</td>\n",
              "      <td>0.878327</td>\n",
              "      <td>01:15</td>\n",
              "    </tr>\n",
              "    <tr>\n",
              "      <td>11</td>\n",
              "      <td>0.336101</td>\n",
              "      <td>0.398480</td>\n",
              "      <td>0.117871</td>\n",
              "      <td>0.882129</td>\n",
              "      <td>01:15</td>\n",
              "    </tr>\n",
              "    <tr>\n",
              "      <td>12</td>\n",
              "      <td>0.289807</td>\n",
              "      <td>0.323807</td>\n",
              "      <td>0.098859</td>\n",
              "      <td>0.901141</td>\n",
              "      <td>01:16</td>\n",
              "    </tr>\n",
              "    <tr>\n",
              "      <td>13</td>\n",
              "      <td>0.240547</td>\n",
              "      <td>0.309063</td>\n",
              "      <td>0.117871</td>\n",
              "      <td>0.882129</td>\n",
              "      <td>01:18</td>\n",
              "    </tr>\n",
              "    <tr>\n",
              "      <td>14</td>\n",
              "      <td>0.251159</td>\n",
              "      <td>0.345857</td>\n",
              "      <td>0.125475</td>\n",
              "      <td>0.874525</td>\n",
              "      <td>01:17</td>\n",
              "    </tr>\n",
              "    <tr>\n",
              "      <td>15</td>\n",
              "      <td>0.227292</td>\n",
              "      <td>0.307386</td>\n",
              "      <td>0.098859</td>\n",
              "      <td>0.901141</td>\n",
              "      <td>01:18</td>\n",
              "    </tr>\n",
              "    <tr>\n",
              "      <td>16</td>\n",
              "      <td>0.193282</td>\n",
              "      <td>0.372835</td>\n",
              "      <td>0.095057</td>\n",
              "      <td>0.904943</td>\n",
              "      <td>01:18</td>\n",
              "    </tr>\n",
              "    <tr>\n",
              "      <td>17</td>\n",
              "      <td>0.164677</td>\n",
              "      <td>0.296842</td>\n",
              "      <td>0.091255</td>\n",
              "      <td>0.908745</td>\n",
              "      <td>01:16</td>\n",
              "    </tr>\n",
              "    <tr>\n",
              "      <td>18</td>\n",
              "      <td>0.160465</td>\n",
              "      <td>0.324735</td>\n",
              "      <td>0.095057</td>\n",
              "      <td>0.904943</td>\n",
              "      <td>01:16</td>\n",
              "    </tr>\n",
              "    <tr>\n",
              "      <td>19</td>\n",
              "      <td>0.148175</td>\n",
              "      <td>0.278296</td>\n",
              "      <td>0.087452</td>\n",
              "      <td>0.912548</td>\n",
              "      <td>01:18</td>\n",
              "    </tr>\n",
              "    <tr>\n",
              "      <td>20</td>\n",
              "      <td>0.136665</td>\n",
              "      <td>0.290095</td>\n",
              "      <td>0.083650</td>\n",
              "      <td>0.916350</td>\n",
              "      <td>01:17</td>\n",
              "    </tr>\n",
              "    <tr>\n",
              "      <td>21</td>\n",
              "      <td>0.108906</td>\n",
              "      <td>0.276072</td>\n",
              "      <td>0.076046</td>\n",
              "      <td>0.923954</td>\n",
              "      <td>01:17</td>\n",
              "    </tr>\n",
              "    <tr>\n",
              "      <td>22</td>\n",
              "      <td>0.120431</td>\n",
              "      <td>0.273979</td>\n",
              "      <td>0.079848</td>\n",
              "      <td>0.920152</td>\n",
              "      <td>01:18</td>\n",
              "    </tr>\n",
              "    <tr>\n",
              "      <td>23</td>\n",
              "      <td>0.134195</td>\n",
              "      <td>0.263322</td>\n",
              "      <td>0.083650</td>\n",
              "      <td>0.916350</td>\n",
              "      <td>01:16</td>\n",
              "    </tr>\n",
              "    <tr>\n",
              "      <td>24</td>\n",
              "      <td>0.108626</td>\n",
              "      <td>0.278981</td>\n",
              "      <td>0.079848</td>\n",
              "      <td>0.920152</td>\n",
              "      <td>01:17</td>\n",
              "    </tr>\n",
              "  </tbody>\n",
              "</table>"
            ],
            "text/plain": [
              "<IPython.core.display.HTML object>"
            ]
          },
          "metadata": {
            "tags": []
          }
        },
        {
          "output_type": "display_data",
          "data": {
            "image/png": "[encoded data removed]",
            "text/plain": [
              "<Figure size 432x288 with 1 Axes>"
            ]
          },
          "metadata": {
            "tags": []
          }
        },
        {
          "output_type": "stream",
          "text": [
            "Better model found at epoch 0 with accuracy value: 0.8593155741691589.\n",
            "Better model found at epoch 1 with accuracy value: 0.9011406898498535.\n",
            "Better model found at epoch 2 with accuracy value: 0.9087452292442322.\n",
            "Better model found at epoch 19 with accuracy value: 0.9125475287437439.\n",
            "Better model found at epoch 20 with accuracy value: 0.9163498282432556.\n",
            "Better model found at epoch 21 with accuracy value: 0.9239543676376343.\n"
          ],
          "name": "stdout"
        }
      ]
    },
    {
      "cell_type": "code",
      "metadata": {
        "id": "hWidGLXLiGEF",
        "colab_type": "code",
        "outputId": "af1ea641-ebc1-4169-8ea4-aaeb407eeadd",
        "colab": {
          "base_uri": "https://localhost:8080/",
          "height": 503
        }
      },
      "source": [
        "interp = ClassificationInterpretation.from_learner(learn)\n",
        "interp.plot_confusion_matrix(figsize=(8,8), dpi=60)"
      ],
      "execution_count": 0,
      "outputs": [
        {
          "output_type": "display_data",
          "data": {
            "text/html": [
              ""
            ],
            "text/plain": [
              "<IPython.core.display.HTML object>"
            ]
          },
          "metadata": {
            "tags": []
          }
        },
        {
          "output_type": "display_data",
          "data": {
            "image/png": "[encoded data removed]",
            "text/plain": [
              "<Figure size 480x480 with 1 Axes>"
            ]
          },
          "metadata": {
            "tags": []
          }
        }
      ]
    },
    {
      "cell_type": "code",
      "metadata": {
        "id": "31zfxeDEj-6e",
        "colab_type": "code",
        "outputId": "4c287539-4322-4ba6-f2ca-59437750a706",
        "colab": {
          "base_uri": "https://localhost:8080/",
          "height": 541
        }
      },
      "source": [
        "#learner_one_cycle.fit_one_cycle(cyc_len=35)\n",
        "learn.unfreeze\n",
        "learn.fit_one_cycle(cyc_len=7, max_lr=slice(1e-6), wd=0.01,callbacks=[SaveModelCallback(learn, monitor='accuracy', name='densenet161_2')])"
      ],
      "execution_count": 0,
      "outputs": [
        {
          "output_type": "display_data",
          "data": {
            "text/html": [
              "<table border=\"1\" class=\"dataframe\">\n",
              "  <thead>\n",
              "    <tr style=\"text-align: left;\">\n",
              "      <th>epoch</th>\n",
              "      <th>train_loss</th>\n",
              "      <th>valid_loss</th>\n",
              "      <th>error_rate</th>\n",
              "      <th>accuracy</th>\n",
              "      <th>time</th>\n",
              "    </tr>\n",
              "  </thead>\n",
              "  <tbody>\n",
              "    <tr>\n",
              "      <td>0</td>\n",
              "      <td>0.165663</td>\n",
              "      <td>0.282577</td>\n",
              "      <td>0.079848</td>\n",
              "      <td>0.920152</td>\n",
              "      <td>01:16</td>\n",
              "    </tr>\n",
              "    <tr>\n",
              "      <td>1</td>\n",
              "      <td>0.147567</td>\n",
              "      <td>0.272704</td>\n",
              "      <td>0.079848</td>\n",
              "      <td>0.920152</td>\n",
              "      <td>01:17</td>\n",
              "    </tr>\n",
              "    <tr>\n",
              "      <td>2</td>\n",
              "      <td>0.136689</td>\n",
              "      <td>0.262901</td>\n",
              "      <td>0.079848</td>\n",
              "      <td>0.920152</td>\n",
              "      <td>01:14</td>\n",
              "    </tr>\n",
              "    <tr>\n",
              "      <td>3</td>\n",
              "      <td>0.147438</td>\n",
              "      <td>0.272697</td>\n",
              "      <td>0.072243</td>\n",
              "      <td>0.927757</td>\n",
              "      <td>01:17</td>\n",
              "    </tr>\n",
              "    <tr>\n",
              "      <td>4</td>\n",
              "      <td>0.143130</td>\n",
              "      <td>0.267999</td>\n",
              "      <td>0.079848</td>\n",
              "      <td>0.920152</td>\n",
              "      <td>01:18</td>\n",
              "    </tr>\n",
              "    <tr>\n",
              "      <td>5</td>\n",
              "      <td>0.148492</td>\n",
              "      <td>0.287360</td>\n",
              "      <td>0.083650</td>\n",
              "      <td>0.916350</td>\n",
              "      <td>01:17</td>\n",
              "    </tr>\n",
              "    <tr>\n",
              "      <td>6</td>\n",
              "      <td>0.144242</td>\n",
              "      <td>0.272713</td>\n",
              "      <td>0.076046</td>\n",
              "      <td>0.923954</td>\n",
              "      <td>01:15</td>\n",
              "    </tr>\n",
              "  </tbody>\n",
              "</table>"
            ],
            "text/plain": [
              "<IPython.core.display.HTML object>"
            ]
          },
          "metadata": {
            "tags": []
          }
        },
        {
          "output_type": "display_data",
          "data": {
            "image/png": "[encoded data removed]",
            "text/plain": [
              "<Figure size 432x288 with 1 Axes>"
            ]
          },
          "metadata": {
            "tags": []
          }
        },
        {
          "output_type": "stream",
          "text": [
            "Better model found at epoch 0 with accuracy value: 0.9201520681381226.\n",
            "Better model found at epoch 3 with accuracy value: 0.927756667137146.\n"
          ],
          "name": "stdout"
        }
      ]
    },
    {
      "cell_type": "code",
      "metadata": {
        "id": "YTIDedmQn7OD",
        "colab_type": "code",
        "outputId": "fa610dae-6788-4269-d3ae-b604c76115e3",
        "colab": {
          "base_uri": "https://localhost:8080/",
          "height": 503
        }
      },
      "source": [
        "interp = ClassificationInterpretation.from_learner(learn)\n",
        "interp.plot_confusion_matrix(figsize=(8,8), dpi=60)"
      ],
      "execution_count": 0,
      "outputs": [
        {
          "output_type": "display_data",
          "data": {
            "text/html": [
              ""
            ],
            "text/plain": [
              "<IPython.core.display.HTML object>"
            ]
          },
          "metadata": {
            "tags": []
          }
        },
        {
          "output_type": "display_data",
          "data": {
            "image/png": "[encoded data removed]",
            "text/plain": [
              "<Figure size 480x480 with 1 Axes>"
            ]
          },
          "metadata": {
            "tags": []
          }
        }
      ]
    },
    {
      "cell_type": "code",
      "metadata": {
        "id": "fdq8BFrFsrjX",
        "colab_type": "code",
        "colab": {}
      },
      "source": [
        "from fastai.vision.models import densenet169"
      ],
      "execution_count": 0,
      "outputs": []
    },
    {
      "cell_type": "code",
      "metadata": {
        "id": "gk0DywBZszon",
        "colab_type": "code",
        "outputId": "5724e6e8-19e2-4239-dcd8-6243f33d4690",
        "colab": {
          "base_uri": "https://localhost:8080/",
          "height": 483,
          "referenced_widgets": [
            "e4b6ab2e9ef1498395643767e1ea699f",
            "fb291329ee5a46fca9db14133ec39386",
            "6175689261aa4b0c9a008fc1545d738b",
            "92516a0837374d529ddd0e2f6d267f06",
            "466bbbc477da4adc9054d36a3e2ed7fc",
            "1488fa6a505b476b89fe80db69af740d",
            "56cc5db7ca0445e2a502079f53fb60bd",
            "6b1cd8649d5c4dd0a940aa5f1bfc0102"
          ]
        }
      },
      "source": [
        "learn = cnn_learner(data,densenet169, metrics=[error_rate, accuracy], pretrained=True, ps=0.5, callback_fns=ShowGraph)\n",
        "learn.fit_one_cycle(4)"
      ],
      "execution_count": 0,
      "outputs": [
        {
          "output_type": "stream",
          "text": [
            "Downloading: \"https://download.pytorch.org/models/densenet169-b2777c0a.pth\" to /root/.cache/torch/checkpoints/densenet169-b2777c0a.pth\n"
          ],
          "name": "stderr"
        },
        {
          "output_type": "display_data",
          "data": {
            "application/vnd.jupyter.widget-view+json": {
              "model_id": "e4b6ab2e9ef1498395643767e1ea699f",
              "version_minor": 0,
              "version_major": 2
            },
            "text/plain": [
              "HBox(children=(IntProgress(value=0, max=57365526), HTML(value='')))"
            ]
          },
          "metadata": {
            "tags": []
          }
        },
        {
          "output_type": "stream",
          "text": [
            "\n"
          ],
          "name": "stdout"
        },
        {
          "output_type": "display_data",
          "data": {
            "text/html": [
              "<table border=\"1\" class=\"dataframe\">\n",
              "  <thead>\n",
              "    <tr style=\"text-align: left;\">\n",
              "      <th>epoch</th>\n",
              "      <th>train_loss</th>\n",
              "      <th>valid_loss</th>\n",
              "      <th>error_rate</th>\n",
              "      <th>accuracy</th>\n",
              "      <th>time</th>\n",
              "    </tr>\n",
              "  </thead>\n",
              "  <tbody>\n",
              "    <tr>\n",
              "      <td>0</td>\n",
              "      <td>1.402901</td>\n",
              "      <td>0.704534</td>\n",
              "      <td>0.239544</td>\n",
              "      <td>0.760456</td>\n",
              "      <td>03:46</td>\n",
              "    </tr>\n",
              "    <tr>\n",
              "      <td>1</td>\n",
              "      <td>1.053590</td>\n",
              "      <td>0.636271</td>\n",
              "      <td>0.250951</td>\n",
              "      <td>0.749049</td>\n",
              "      <td>01:19</td>\n",
              "    </tr>\n",
              "    <tr>\n",
              "      <td>2</td>\n",
              "      <td>0.830379</td>\n",
              "      <td>0.367537</td>\n",
              "      <td>0.136882</td>\n",
              "      <td>0.863118</td>\n",
              "      <td>01:19</td>\n",
              "    </tr>\n",
              "    <tr>\n",
              "      <td>3</td>\n",
              "      <td>0.622426</td>\n",
              "      <td>0.403743</td>\n",
              "      <td>0.159696</td>\n",
              "      <td>0.840304</td>\n",
              "      <td>01:18</td>\n",
              "    </tr>\n",
              "  </tbody>\n",
              "</table>"
            ],
            "text/plain": [
              "<IPython.core.display.HTML object>"
            ]
          },
          "metadata": {
            "tags": []
          }
        },
        {
          "output_type": "display_data",
          "data": {
            "image/png": "[encoded data removed]",
            "text/plain": [
              "<Figure size 432x288 with 1 Axes>"
            ]
          },
          "metadata": {
            "tags": []
          }
        }
      ]
    },
    {
      "cell_type": "code",
      "metadata": {
        "id": "E6_t4tE4tkxl",
        "colab_type": "code",
        "outputId": "667b4d5e-235a-422b-b857-4ba5982d3265",
        "colab": {
          "base_uri": "https://localhost:8080/",
          "height": 1000
        }
      },
      "source": [
        "from fastai.callbacks.tracker import *\n",
        "learn.unfreeze\n",
        "learn.fit_one_cycle(cyc_len=25,wd=0.01,callbacks=[SaveModelCallback(learn, monitor='accuracy', name='densenet169_1')])"
      ],
      "execution_count": 0,
      "outputs": [
        {
          "output_type": "display_data",
          "data": {
            "text/html": [
              "<table border=\"1\" class=\"dataframe\">\n",
              "  <thead>\n",
              "    <tr style=\"text-align: left;\">\n",
              "      <th>epoch</th>\n",
              "      <th>train_loss</th>\n",
              "      <th>valid_loss</th>\n",
              "      <th>error_rate</th>\n",
              "      <th>accuracy</th>\n",
              "      <th>time</th>\n",
              "    </tr>\n",
              "  </thead>\n",
              "  <tbody>\n",
              "    <tr>\n",
              "      <td>0</td>\n",
              "      <td>0.456215</td>\n",
              "      <td>0.388965</td>\n",
              "      <td>0.136882</td>\n",
              "      <td>0.863118</td>\n",
              "      <td>01:17</td>\n",
              "    </tr>\n",
              "    <tr>\n",
              "      <td>1</td>\n",
              "      <td>0.482286</td>\n",
              "      <td>0.371260</td>\n",
              "      <td>0.140684</td>\n",
              "      <td>0.859316</td>\n",
              "      <td>01:16</td>\n",
              "    </tr>\n",
              "    <tr>\n",
              "      <td>2</td>\n",
              "      <td>0.514379</td>\n",
              "      <td>0.376889</td>\n",
              "      <td>0.133080</td>\n",
              "      <td>0.866920</td>\n",
              "      <td>01:15</td>\n",
              "    </tr>\n",
              "    <tr>\n",
              "      <td>3</td>\n",
              "      <td>0.510310</td>\n",
              "      <td>0.439246</td>\n",
              "      <td>0.144487</td>\n",
              "      <td>0.855513</td>\n",
              "      <td>01:16</td>\n",
              "    </tr>\n",
              "    <tr>\n",
              "      <td>4</td>\n",
              "      <td>0.502850</td>\n",
              "      <td>0.401785</td>\n",
              "      <td>0.125475</td>\n",
              "      <td>0.874525</td>\n",
              "      <td>01:16</td>\n",
              "    </tr>\n",
              "    <tr>\n",
              "      <td>5</td>\n",
              "      <td>0.460560</td>\n",
              "      <td>0.428866</td>\n",
              "      <td>0.155894</td>\n",
              "      <td>0.844106</td>\n",
              "      <td>01:15</td>\n",
              "    </tr>\n",
              "    <tr>\n",
              "      <td>6</td>\n",
              "      <td>0.489479</td>\n",
              "      <td>0.561936</td>\n",
              "      <td>0.167300</td>\n",
              "      <td>0.832700</td>\n",
              "      <td>01:16</td>\n",
              "    </tr>\n",
              "    <tr>\n",
              "      <td>7</td>\n",
              "      <td>0.459236</td>\n",
              "      <td>0.401193</td>\n",
              "      <td>0.140684</td>\n",
              "      <td>0.859316</td>\n",
              "      <td>01:17</td>\n",
              "    </tr>\n",
              "    <tr>\n",
              "      <td>8</td>\n",
              "      <td>0.430707</td>\n",
              "      <td>0.570717</td>\n",
              "      <td>0.167300</td>\n",
              "      <td>0.832700</td>\n",
              "      <td>01:18</td>\n",
              "    </tr>\n",
              "    <tr>\n",
              "      <td>9</td>\n",
              "      <td>0.412199</td>\n",
              "      <td>0.355210</td>\n",
              "      <td>0.110266</td>\n",
              "      <td>0.889734</td>\n",
              "      <td>01:17</td>\n",
              "    </tr>\n",
              "    <tr>\n",
              "      <td>10</td>\n",
              "      <td>0.360120</td>\n",
              "      <td>0.344602</td>\n",
              "      <td>0.106464</td>\n",
              "      <td>0.893536</td>\n",
              "      <td>01:19</td>\n",
              "    </tr>\n",
              "    <tr>\n",
              "      <td>11</td>\n",
              "      <td>0.367889</td>\n",
              "      <td>0.682416</td>\n",
              "      <td>0.178707</td>\n",
              "      <td>0.821293</td>\n",
              "      <td>01:18</td>\n",
              "    </tr>\n",
              "    <tr>\n",
              "      <td>12</td>\n",
              "      <td>0.362017</td>\n",
              "      <td>0.371252</td>\n",
              "      <td>0.110266</td>\n",
              "      <td>0.889734</td>\n",
              "      <td>01:17</td>\n",
              "    </tr>\n",
              "    <tr>\n",
              "      <td>13</td>\n",
              "      <td>0.291210</td>\n",
              "      <td>0.408212</td>\n",
              "      <td>0.133080</td>\n",
              "      <td>0.866920</td>\n",
              "      <td>01:17</td>\n",
              "    </tr>\n",
              "    <tr>\n",
              "      <td>14</td>\n",
              "      <td>0.284313</td>\n",
              "      <td>0.396352</td>\n",
              "      <td>0.129278</td>\n",
              "      <td>0.870722</td>\n",
              "      <td>01:18</td>\n",
              "    </tr>\n",
              "    <tr>\n",
              "      <td>15</td>\n",
              "      <td>0.265372</td>\n",
              "      <td>0.363822</td>\n",
              "      <td>0.098859</td>\n",
              "      <td>0.901141</td>\n",
              "      <td>01:15</td>\n",
              "    </tr>\n",
              "    <tr>\n",
              "      <td>16</td>\n",
              "      <td>0.264433</td>\n",
              "      <td>0.361962</td>\n",
              "      <td>0.125475</td>\n",
              "      <td>0.874525</td>\n",
              "      <td>01:17</td>\n",
              "    </tr>\n",
              "    <tr>\n",
              "      <td>17</td>\n",
              "      <td>0.238603</td>\n",
              "      <td>0.334195</td>\n",
              "      <td>0.121673</td>\n",
              "      <td>0.878327</td>\n",
              "      <td>01:19</td>\n",
              "    </tr>\n",
              "    <tr>\n",
              "      <td>18</td>\n",
              "      <td>0.229455</td>\n",
              "      <td>0.322991</td>\n",
              "      <td>0.110266</td>\n",
              "      <td>0.889734</td>\n",
              "      <td>01:15</td>\n",
              "    </tr>\n",
              "    <tr>\n",
              "      <td>19</td>\n",
              "      <td>0.186547</td>\n",
              "      <td>0.347919</td>\n",
              "      <td>0.106464</td>\n",
              "      <td>0.893536</td>\n",
              "      <td>01:14</td>\n",
              "    </tr>\n",
              "    <tr>\n",
              "      <td>20</td>\n",
              "      <td>0.164512</td>\n",
              "      <td>0.342223</td>\n",
              "      <td>0.121673</td>\n",
              "      <td>0.878327</td>\n",
              "      <td>01:15</td>\n",
              "    </tr>\n",
              "    <tr>\n",
              "      <td>21</td>\n",
              "      <td>0.168179</td>\n",
              "      <td>0.318391</td>\n",
              "      <td>0.114068</td>\n",
              "      <td>0.885932</td>\n",
              "      <td>01:15</td>\n",
              "    </tr>\n",
              "    <tr>\n",
              "      <td>22</td>\n",
              "      <td>0.174289</td>\n",
              "      <td>0.325326</td>\n",
              "      <td>0.114068</td>\n",
              "      <td>0.885932</td>\n",
              "      <td>01:17</td>\n",
              "    </tr>\n",
              "    <tr>\n",
              "      <td>23</td>\n",
              "      <td>0.167808</td>\n",
              "      <td>0.328156</td>\n",
              "      <td>0.106464</td>\n",
              "      <td>0.893536</td>\n",
              "      <td>01:21</td>\n",
              "    </tr>\n",
              "    <tr>\n",
              "      <td>24</td>\n",
              "      <td>0.148390</td>\n",
              "      <td>0.316647</td>\n",
              "      <td>0.110266</td>\n",
              "      <td>0.889734</td>\n",
              "      <td>01:17</td>\n",
              "    </tr>\n",
              "  </tbody>\n",
              "</table>"
            ],
            "text/plain": [
              "<IPython.core.display.HTML object>"
            ]
          },
          "metadata": {
            "tags": []
          }
        },
        {
          "output_type": "display_data",
          "data": {
            "image/png": "[encoded data removed]",
            "text/plain": [
              "<Figure size 432x288 with 1 Axes>"
            ]
          },
          "metadata": {
            "tags": []
          }
        },
        {
          "output_type": "stream",
          "text": [
            "Better model found at epoch 0 with accuracy value: 0.8631178736686707.\n",
            "Better model found at epoch 2 with accuracy value: 0.8669201731681824.\n",
            "Better model found at epoch 4 with accuracy value: 0.874524712562561.\n",
            "Better model found at epoch 9 with accuracy value: 0.8897338509559631.\n",
            "Better model found at epoch 10 with accuracy value: 0.8935361504554749.\n",
            "Better model found at epoch 15 with accuracy value: 0.9011406898498535.\n"
          ],
          "name": "stdout"
        }
      ]
    },
    {
      "cell_type": "code",
      "metadata": {
        "id": "9Litq_trLJ4X",
        "colab_type": "code",
        "outputId": "2bdcae59-d2fc-4de1-c448-5d607024bce7",
        "colab": {
          "base_uri": "https://localhost:8080/",
          "height": 541
        }
      },
      "source": [
        "#learner_one_cycle.fit_one_cycle(cyc_len=35)\n",
        "learn.unfreeze\n",
        "learn.fit_one_cycle(cyc_len=7, max_lr=slice(1e-6), wd=0.01,callbacks=[SaveModelCallback(learn, monitor='accuracy', name='densenet169_2')])"
      ],
      "execution_count": 0,
      "outputs": [
        {
          "output_type": "display_data",
          "data": {
            "text/html": [
              "<table border=\"1\" class=\"dataframe\">\n",
              "  <thead>\n",
              "    <tr style=\"text-align: left;\">\n",
              "      <th>epoch</th>\n",
              "      <th>train_loss</th>\n",
              "      <th>valid_loss</th>\n",
              "      <th>error_rate</th>\n",
              "      <th>accuracy</th>\n",
              "      <th>time</th>\n",
              "    </tr>\n",
              "  </thead>\n",
              "  <tbody>\n",
              "    <tr>\n",
              "      <td>0</td>\n",
              "      <td>0.197170</td>\n",
              "      <td>0.336040</td>\n",
              "      <td>0.106464</td>\n",
              "      <td>0.893536</td>\n",
              "      <td>01:17</td>\n",
              "    </tr>\n",
              "    <tr>\n",
              "      <td>1</td>\n",
              "      <td>0.223335</td>\n",
              "      <td>0.338034</td>\n",
              "      <td>0.117871</td>\n",
              "      <td>0.882129</td>\n",
              "      <td>01:18</td>\n",
              "    </tr>\n",
              "    <tr>\n",
              "      <td>2</td>\n",
              "      <td>0.202554</td>\n",
              "      <td>0.333179</td>\n",
              "      <td>0.110266</td>\n",
              "      <td>0.889734</td>\n",
              "      <td>01:16</td>\n",
              "    </tr>\n",
              "    <tr>\n",
              "      <td>3</td>\n",
              "      <td>0.193889</td>\n",
              "      <td>0.333797</td>\n",
              "      <td>0.114068</td>\n",
              "      <td>0.885932</td>\n",
              "      <td>01:17</td>\n",
              "    </tr>\n",
              "    <tr>\n",
              "      <td>4</td>\n",
              "      <td>0.184758</td>\n",
              "      <td>0.340443</td>\n",
              "      <td>0.106464</td>\n",
              "      <td>0.893536</td>\n",
              "      <td>01:16</td>\n",
              "    </tr>\n",
              "    <tr>\n",
              "      <td>5</td>\n",
              "      <td>0.183835</td>\n",
              "      <td>0.342456</td>\n",
              "      <td>0.110266</td>\n",
              "      <td>0.889734</td>\n",
              "      <td>01:18</td>\n",
              "    </tr>\n",
              "    <tr>\n",
              "      <td>6</td>\n",
              "      <td>0.198349</td>\n",
              "      <td>0.330409</td>\n",
              "      <td>0.098859</td>\n",
              "      <td>0.901141</td>\n",
              "      <td>01:19</td>\n",
              "    </tr>\n",
              "  </tbody>\n",
              "</table>"
            ],
            "text/plain": [
              "<IPython.core.display.HTML object>"
            ]
          },
          "metadata": {
            "tags": []
          }
        },
        {
          "output_type": "display_data",
          "data": {
            "image/png": "[encoded data removed]",
            "text/plain": [
              "<Figure size 432x288 with 1 Axes>"
            ]
          },
          "metadata": {
            "tags": []
          }
        },
        {
          "output_type": "stream",
          "text": [
            "Better model found at epoch 0 with accuracy value: 0.8935361504554749.\n",
            "Better model found at epoch 6 with accuracy value: 0.9011406898498535.\n"
          ],
          "name": "stdout"
        }
      ]
    },
    {
      "cell_type": "code",
      "metadata": {
        "id": "gy9gfDGABuB9",
        "colab_type": "code",
        "outputId": "1755f904-e320-40a7-a5a8-6a0ef7e4458f",
        "colab": {
          "base_uri": "https://localhost:8080/",
          "height": 503
        }
      },
      "source": [
        "interp = ClassificationInterpretation.from_learner(learn)\n",
        "interp.plot_confusion_matrix(figsize=(8,8), dpi=60)"
      ],
      "execution_count": 0,
      "outputs": [
        {
          "output_type": "display_data",
          "data": {
            "text/html": [
              ""
            ],
            "text/plain": [
              "<IPython.core.display.HTML object>"
            ]
          },
          "metadata": {
            "tags": []
          }
        },
        {
          "output_type": "display_data",
          "data": {
            "image/png": "[encoded data removed]",
            "text/plain": [
              "<Figure size 480x480 with 1 Axes>"
            ]
          },
          "metadata": {
            "tags": []
          }
        }
      ]
    },
    {
      "cell_type": "code",
      "metadata": {
        "id": "MbaIUdNiB1iQ",
        "colab_type": "code",
        "colab": {}
      },
      "source": [
        "from fastai.vision.models import densenet201"
      ],
      "execution_count": 0,
      "outputs": []
    },
    {
      "cell_type": "code",
      "metadata": {
        "id": "9YfAtc5ECITI",
        "colab_type": "code",
        "outputId": "86f83fb6-ed01-4538-ff25-d2e3987f43cf",
        "colab": {
          "base_uri": "https://localhost:8080/",
          "height": 415
        }
      },
      "source": [
        "learn = cnn_learner(data,densenet201, metrics=[error_rate, accuracy], pretrained=True, ps=0.5, callback_fns=ShowGraph)\n",
        "learn.fit_one_cycle(4)"
      ],
      "execution_count": 0,
      "outputs": [
        {
          "output_type": "display_data",
          "data": {
            "text/html": [
              "<table border=\"1\" class=\"dataframe\">\n",
              "  <thead>\n",
              "    <tr style=\"text-align: left;\">\n",
              "      <th>epoch</th>\n",
              "      <th>train_loss</th>\n",
              "      <th>valid_loss</th>\n",
              "      <th>error_rate</th>\n",
              "      <th>accuracy</th>\n",
              "      <th>time</th>\n",
              "    </tr>\n",
              "  </thead>\n",
              "  <tbody>\n",
              "    <tr>\n",
              "      <td>0</td>\n",
              "      <td>1.532893</td>\n",
              "      <td>0.753417</td>\n",
              "      <td>0.220532</td>\n",
              "      <td>0.779468</td>\n",
              "      <td>01:19</td>\n",
              "    </tr>\n",
              "    <tr>\n",
              "      <td>1</td>\n",
              "      <td>1.169673</td>\n",
              "      <td>0.630566</td>\n",
              "      <td>0.220532</td>\n",
              "      <td>0.779468</td>\n",
              "      <td>01:17</td>\n",
              "    </tr>\n",
              "    <tr>\n",
              "      <td>2</td>\n",
              "      <td>0.851133</td>\n",
              "      <td>0.539095</td>\n",
              "      <td>0.167300</td>\n",
              "      <td>0.832700</td>\n",
              "      <td>01:15</td>\n",
              "    </tr>\n",
              "    <tr>\n",
              "      <td>3</td>\n",
              "      <td>0.705157</td>\n",
              "      <td>0.452547</td>\n",
              "      <td>0.152091</td>\n",
              "      <td>0.847909</td>\n",
              "      <td>01:16</td>\n",
              "    </tr>\n",
              "  </tbody>\n",
              "</table>"
            ],
            "text/plain": [
              "<IPython.core.display.HTML object>"
            ]
          },
          "metadata": {
            "tags": []
          }
        },
        {
          "output_type": "display_data",
          "data": {
            "image/png": "[encoded data removed]",
            "text/plain": [
              "<Figure size 432x288 with 1 Axes>"
            ]
          },
          "metadata": {
            "tags": []
          }
        }
      ]
    },
    {
      "cell_type": "code",
      "metadata": {
        "id": "U6p_3CkraZu_",
        "colab_type": "code",
        "outputId": "59d328fd-bc3e-4030-d7ac-4df240b6f061",
        "colab": {
          "base_uri": "https://localhost:8080/",
          "height": 1000
        }
      },
      "source": [
        "from fastai.callbacks.tracker import *\n",
        "learn.unfreeze\n",
        "learn.fit_one_cycle(cyc_len=25,wd=0.01,callbacks=[SaveModelCallback(learn, monitor='accuracy', name='densenet2o1_1')])"
      ],
      "execution_count": 0,
      "outputs": [
        {
          "output_type": "display_data",
          "data": {
            "text/html": [
              "<table border=\"1\" class=\"dataframe\">\n",
              "  <thead>\n",
              "    <tr style=\"text-align: left;\">\n",
              "      <th>epoch</th>\n",
              "      <th>train_loss</th>\n",
              "      <th>valid_loss</th>\n",
              "      <th>error_rate</th>\n",
              "      <th>accuracy</th>\n",
              "      <th>time</th>\n",
              "    </tr>\n",
              "  </thead>\n",
              "  <tbody>\n",
              "    <tr>\n",
              "      <td>0</td>\n",
              "      <td>0.446567</td>\n",
              "      <td>0.435351</td>\n",
              "      <td>0.148289</td>\n",
              "      <td>0.851711</td>\n",
              "      <td>01:16</td>\n",
              "    </tr>\n",
              "    <tr>\n",
              "      <td>1</td>\n",
              "      <td>0.432382</td>\n",
              "      <td>0.403999</td>\n",
              "      <td>0.129278</td>\n",
              "      <td>0.870722</td>\n",
              "      <td>01:17</td>\n",
              "    </tr>\n",
              "    <tr>\n",
              "      <td>2</td>\n",
              "      <td>0.401069</td>\n",
              "      <td>0.417783</td>\n",
              "      <td>0.159696</td>\n",
              "      <td>0.840304</td>\n",
              "      <td>01:17</td>\n",
              "    </tr>\n",
              "    <tr>\n",
              "      <td>3</td>\n",
              "      <td>0.453117</td>\n",
              "      <td>0.424567</td>\n",
              "      <td>0.167300</td>\n",
              "      <td>0.832700</td>\n",
              "      <td>01:17</td>\n",
              "    </tr>\n",
              "    <tr>\n",
              "      <td>4</td>\n",
              "      <td>0.473188</td>\n",
              "      <td>0.530455</td>\n",
              "      <td>0.174905</td>\n",
              "      <td>0.825095</td>\n",
              "      <td>01:17</td>\n",
              "    </tr>\n",
              "    <tr>\n",
              "      <td>5</td>\n",
              "      <td>0.483556</td>\n",
              "      <td>0.785028</td>\n",
              "      <td>0.231939</td>\n",
              "      <td>0.768061</td>\n",
              "      <td>01:16</td>\n",
              "    </tr>\n",
              "    <tr>\n",
              "      <td>6</td>\n",
              "      <td>0.480702</td>\n",
              "      <td>0.559874</td>\n",
              "      <td>0.159696</td>\n",
              "      <td>0.840304</td>\n",
              "      <td>01:16</td>\n",
              "    </tr>\n",
              "    <tr>\n",
              "      <td>7</td>\n",
              "      <td>0.460016</td>\n",
              "      <td>0.456203</td>\n",
              "      <td>0.133080</td>\n",
              "      <td>0.866920</td>\n",
              "      <td>01:19</td>\n",
              "    </tr>\n",
              "    <tr>\n",
              "      <td>8</td>\n",
              "      <td>0.446733</td>\n",
              "      <td>0.425950</td>\n",
              "      <td>0.129278</td>\n",
              "      <td>0.870722</td>\n",
              "      <td>01:17</td>\n",
              "    </tr>\n",
              "    <tr>\n",
              "      <td>9</td>\n",
              "      <td>0.390564</td>\n",
              "      <td>0.376546</td>\n",
              "      <td>0.117871</td>\n",
              "      <td>0.882129</td>\n",
              "      <td>01:19</td>\n",
              "    </tr>\n",
              "    <tr>\n",
              "      <td>10</td>\n",
              "      <td>0.363654</td>\n",
              "      <td>0.426841</td>\n",
              "      <td>0.144487</td>\n",
              "      <td>0.855513</td>\n",
              "      <td>01:19</td>\n",
              "    </tr>\n",
              "    <tr>\n",
              "      <td>11</td>\n",
              "      <td>0.320114</td>\n",
              "      <td>0.331014</td>\n",
              "      <td>0.125475</td>\n",
              "      <td>0.874525</td>\n",
              "      <td>01:19</td>\n",
              "    </tr>\n",
              "    <tr>\n",
              "      <td>12</td>\n",
              "      <td>0.325467</td>\n",
              "      <td>0.362048</td>\n",
              "      <td>0.133080</td>\n",
              "      <td>0.866920</td>\n",
              "      <td>01:19</td>\n",
              "    </tr>\n",
              "    <tr>\n",
              "      <td>13</td>\n",
              "      <td>0.272110</td>\n",
              "      <td>0.397487</td>\n",
              "      <td>0.098859</td>\n",
              "      <td>0.901141</td>\n",
              "      <td>01:18</td>\n",
              "    </tr>\n",
              "    <tr>\n",
              "      <td>14</td>\n",
              "      <td>0.225447</td>\n",
              "      <td>0.386625</td>\n",
              "      <td>0.117871</td>\n",
              "      <td>0.882129</td>\n",
              "      <td>01:20</td>\n",
              "    </tr>\n",
              "    <tr>\n",
              "      <td>15</td>\n",
              "      <td>0.225531</td>\n",
              "      <td>0.349315</td>\n",
              "      <td>0.098859</td>\n",
              "      <td>0.901141</td>\n",
              "      <td>01:16</td>\n",
              "    </tr>\n",
              "    <tr>\n",
              "      <td>16</td>\n",
              "      <td>0.215914</td>\n",
              "      <td>0.356257</td>\n",
              "      <td>0.114068</td>\n",
              "      <td>0.885932</td>\n",
              "      <td>01:18</td>\n",
              "    </tr>\n",
              "    <tr>\n",
              "      <td>17</td>\n",
              "      <td>0.217250</td>\n",
              "      <td>0.362703</td>\n",
              "      <td>0.114068</td>\n",
              "      <td>0.885932</td>\n",
              "      <td>01:19</td>\n",
              "    </tr>\n",
              "    <tr>\n",
              "      <td>18</td>\n",
              "      <td>0.207463</td>\n",
              "      <td>0.348718</td>\n",
              "      <td>0.117871</td>\n",
              "      <td>0.882129</td>\n",
              "      <td>01:20</td>\n",
              "    </tr>\n",
              "    <tr>\n",
              "      <td>19</td>\n",
              "      <td>0.190528</td>\n",
              "      <td>0.367891</td>\n",
              "      <td>0.110266</td>\n",
              "      <td>0.889734</td>\n",
              "      <td>01:18</td>\n",
              "    </tr>\n",
              "    <tr>\n",
              "      <td>20</td>\n",
              "      <td>0.171166</td>\n",
              "      <td>0.337340</td>\n",
              "      <td>0.102662</td>\n",
              "      <td>0.897338</td>\n",
              "      <td>01:16</td>\n",
              "    </tr>\n",
              "    <tr>\n",
              "      <td>21</td>\n",
              "      <td>0.149218</td>\n",
              "      <td>0.351946</td>\n",
              "      <td>0.110266</td>\n",
              "      <td>0.889734</td>\n",
              "      <td>01:17</td>\n",
              "    </tr>\n",
              "    <tr>\n",
              "      <td>22</td>\n",
              "      <td>0.129562</td>\n",
              "      <td>0.356039</td>\n",
              "      <td>0.106464</td>\n",
              "      <td>0.893536</td>\n",
              "      <td>01:17</td>\n",
              "    </tr>\n",
              "    <tr>\n",
              "      <td>23</td>\n",
              "      <td>0.119278</td>\n",
              "      <td>0.360635</td>\n",
              "      <td>0.110266</td>\n",
              "      <td>0.889734</td>\n",
              "      <td>01:17</td>\n",
              "    </tr>\n",
              "    <tr>\n",
              "      <td>24</td>\n",
              "      <td>0.117207</td>\n",
              "      <td>0.354253</td>\n",
              "      <td>0.095057</td>\n",
              "      <td>0.904943</td>\n",
              "      <td>01:19</td>\n",
              "    </tr>\n",
              "  </tbody>\n",
              "</table>"
            ],
            "text/plain": [
              "<IPython.core.display.HTML object>"
            ]
          },
          "metadata": {
            "tags": []
          }
        },
        {
          "output_type": "display_data",
          "data": {
            "image/png": "[encoded data removed]",
            "text/plain": [
              "<Figure size 432x288 with 1 Axes>"
            ]
          },
          "metadata": {
            "tags": []
          }
        },
        {
          "output_type": "stream",
          "text": [
            "Better model found at epoch 0 with accuracy value: 0.8517110347747803.\n",
            "Better model found at epoch 1 with accuracy value: 0.8707224130630493.\n",
            "Better model found at epoch 9 with accuracy value: 0.8821292519569397.\n",
            "Better model found at epoch 13 with accuracy value: 0.9011406898498535.\n",
            "Better model found at epoch 24 with accuracy value: 0.9049429893493652.\n"
          ],
          "name": "stdout"
        }
      ]
    },
    {
      "cell_type": "code",
      "metadata": {
        "id": "R67KoTepjZqg",
        "colab_type": "code",
        "outputId": "02f69b7e-8d3a-4a28-987f-e622b3a97b5e",
        "colab": {
          "base_uri": "https://localhost:8080/",
          "height": 481
        }
      },
      "source": [
        "#learner_one_cycle.fit_one_cycle(cyc_len=35)\n",
        "learn.unfreeze\n",
        "learn.fit_one_cycle(cyc_len=5, max_lr=slice(1e-6), wd=0.01,callbacks=[SaveModelCallback(learn, monitor='accuracy', name='densenet201_2')])"
      ],
      "execution_count": 0,
      "outputs": [
        {
          "output_type": "display_data",
          "data": {
            "text/html": [
              "<table border=\"1\" class=\"dataframe\">\n",
              "  <thead>\n",
              "    <tr style=\"text-align: left;\">\n",
              "      <th>epoch</th>\n",
              "      <th>train_loss</th>\n",
              "      <th>valid_loss</th>\n",
              "      <th>error_rate</th>\n",
              "      <th>accuracy</th>\n",
              "      <th>time</th>\n",
              "    </tr>\n",
              "  </thead>\n",
              "  <tbody>\n",
              "    <tr>\n",
              "      <td>0</td>\n",
              "      <td>0.149287</td>\n",
              "      <td>0.351139</td>\n",
              "      <td>0.102662</td>\n",
              "      <td>0.897338</td>\n",
              "      <td>01:19</td>\n",
              "    </tr>\n",
              "    <tr>\n",
              "      <td>1</td>\n",
              "      <td>0.132787</td>\n",
              "      <td>0.358132</td>\n",
              "      <td>0.091255</td>\n",
              "      <td>0.908745</td>\n",
              "      <td>01:18</td>\n",
              "    </tr>\n",
              "    <tr>\n",
              "      <td>2</td>\n",
              "      <td>0.131943</td>\n",
              "      <td>0.356025</td>\n",
              "      <td>0.102662</td>\n",
              "      <td>0.897338</td>\n",
              "      <td>01:18</td>\n",
              "    </tr>\n",
              "    <tr>\n",
              "      <td>3</td>\n",
              "      <td>0.123788</td>\n",
              "      <td>0.342361</td>\n",
              "      <td>0.098859</td>\n",
              "      <td>0.901141</td>\n",
              "      <td>01:16</td>\n",
              "    </tr>\n",
              "    <tr>\n",
              "      <td>4</td>\n",
              "      <td>0.114767</td>\n",
              "      <td>0.345045</td>\n",
              "      <td>0.117871</td>\n",
              "      <td>0.882129</td>\n",
              "      <td>01:20</td>\n",
              "    </tr>\n",
              "  </tbody>\n",
              "</table>"
            ],
            "text/plain": [
              "<IPython.core.display.HTML object>"
            ]
          },
          "metadata": {
            "tags": []
          }
        },
        {
          "output_type": "display_data",
          "data": {
            "image/png": "[encoded data removed]",
            "text/plain": [
              "<Figure size 432x288 with 1 Axes>"
            ]
          },
          "metadata": {
            "tags": []
          }
        },
        {
          "output_type": "stream",
          "text": [
            "Better model found at epoch 0 with accuracy value: 0.8973383903503418.\n",
            "Better model found at epoch 1 with accuracy value: 0.9087452292442322.\n"
          ],
          "name": "stdout"
        }
      ]
    },
    {
      "cell_type": "code",
      "metadata": {
        "id": "7VAM8i6Vvqlk",
        "colab_type": "code",
        "outputId": "13ed2688-597c-4a40-e8a2-6d85a9e34d78",
        "colab": {
          "base_uri": "https://localhost:8080/",
          "height": 503
        }
      },
      "source": [
        "interp = ClassificationInterpretation.from_learner(learn)\n",
        "interp.plot_confusion_matrix(figsize=(8,8), dpi=60)"
      ],
      "execution_count": 0,
      "outputs": [
        {
          "output_type": "display_data",
          "data": {
            "text/html": [
              ""
            ],
            "text/plain": [
              "<IPython.core.display.HTML object>"
            ]
          },
          "metadata": {
            "tags": []
          }
        },
        {
          "output_type": "display_data",
          "data": {
            "image/png": "[encoded data removed]",
            "text/plain": [
              "<Figure size 480x480 with 1 Axes>"
            ]
          },
          "metadata": {
            "tags": []
          }
        }
      ]
    },
    {
      "cell_type": "code",
      "metadata": {
        "id": "4ESTptVSUXRA",
        "colab_type": "code",
        "outputId": "532822a6-4caa-4cc6-baf6-dfbe1ac03198",
        "colab": {
          "base_uri": "https://localhost:8080/",
          "height": 197
        }
      },
      "source": [
        "import os\n",
        "submission = pd.DataFrame({'ID': [s.split('.')[0] for s in os.listdir('/content/drive/My Drive/crop/lot/test')  if s.split('.')[1] != 'jfif']})\n",
        "for i, c in enumerate(learn.data.classes):\n",
        "  submission[c] = preds_test[:,i]\n",
        "submission = submission[['ID', 'leaf_rust', 'stem_rust', 'healthy_wheat']] # Get same order as sample sub \n",
        "submission.head()"
      ],
      "execution_count": 0,
      "outputs": [
        {
          "output_type": "execute_result",
          "data": {
            "text/html": [
              "<div>\n",
              "<style scoped>\n",
              "    .dataframe tbody tr th:only-of-type {\n",
              "        vertical-align: middle;\n",
              "    }\n",
              "\n",
              "    .dataframe tbody tr th {\n",
              "        vertical-align: top;\n",
              "    }\n",
              "\n",
              "    .dataframe thead th {\n",
              "        text-align: right;\n",
              "    }\n",
              "</style>\n",
              "<table border=\"1\" class=\"dataframe\">\n",
              "  <thead>\n",
              "    <tr style=\"text-align: right;\">\n",
              "      <th></th>\n",
              "      <th>ID</th>\n",
              "      <th>leaf_rust</th>\n",
              "      <th>stem_rust</th>\n",
              "      <th>healthy_wheat</th>\n",
              "    </tr>\n",
              "  </thead>\n",
              "  <tbody>\n",
              "    <tr>\n",
              "      <th>0</th>\n",
              "      <td>AD54KD</td>\n",
              "      <td>0.735656</td>\n",
              "      <td>0.211893</td>\n",
              "      <td>0.052451</td>\n",
              "    </tr>\n",
              "    <tr>\n",
              "      <th>1</th>\n",
              "      <td>NN5F6I</td>\n",
              "      <td>0.998856</td>\n",
              "      <td>0.000605</td>\n",
              "      <td>0.000539</td>\n",
              "    </tr>\n",
              "    <tr>\n",
              "      <th>2</th>\n",
              "      <td>NGZ2X2</td>\n",
              "      <td>0.000130</td>\n",
              "      <td>0.998665</td>\n",
              "      <td>0.001205</td>\n",
              "    </tr>\n",
              "    <tr>\n",
              "      <th>3</th>\n",
              "      <td>OOALVQ</td>\n",
              "      <td>0.000797</td>\n",
              "      <td>0.997986</td>\n",
              "      <td>0.001217</td>\n",
              "    </tr>\n",
              "    <tr>\n",
              "      <th>4</th>\n",
              "      <td>3UZ447</td>\n",
              "      <td>0.001951</td>\n",
              "      <td>0.970782</td>\n",
              "      <td>0.027267</td>\n",
              "    </tr>\n",
              "  </tbody>\n",
              "</table>\n",
              "</div>"
            ],
            "text/plain": [
              "       ID  leaf_rust  stem_rust  healthy_wheat\n",
              "0  AD54KD   0.735656   0.211893       0.052451\n",
              "1  NN5F6I   0.998856   0.000605       0.000539\n",
              "2  NGZ2X2   0.000130   0.998665       0.001205\n",
              "3  OOALVQ   0.000797   0.997986       0.001217\n",
              "4  3UZ447   0.001951   0.970782       0.027267"
            ]
          },
          "metadata": {
            "tags": []
          },
          "execution_count": 10
        }
      ]
    },
    {
      "cell_type": "code",
      "metadata": {
        "id": "njcclEgMUfUa",
        "colab_type": "code",
        "colab": {}
      },
      "source": [
        "submission.to_csv('submission_go2.csv', index = False)"
      ],
      "execution_count": 0,
      "outputs": []
    }
  ]
}