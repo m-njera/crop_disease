{
  "nbformat": 4,
  "nbformat_minor": 0,
  "metadata": {
    "kernelspec": {
      "name": "python3",
      "display_name": "Python 3"
    },
    "language_info": {
      "codemirror_mode": {
        "name": "ipython",
        "version": 3
      },
      "file_extension": ".py",
      "mimetype": "text/x-python",
      "name": "python",
      "nbconvert_exporter": "python",
      "pygments_lexer": "ipython3",
      "version": "3.5.3"
    },
    "colab": {
      "name": "Xception_keras.ipynb",
      "provenance": [],
      "include_colab_link": true
    },
    "accelerator": "GPU"
  },
  "cells": [
    {
      "cell_type": "markdown",
      "metadata": {
        "id": "view-in-github",
        "colab_type": "text"
      },
      "source": [
        "<a href=\"https://colab.research.google.com/github/m-njera/crop_disease/blob/master/Xception_keras.ipynb\" target=\"_parent\"><img src=\"https://colab.research.google.com/assets/colab-badge.svg\" alt=\"Open In Colab\"/></a>"
      ]
    },
    {
      "cell_type": "code",
      "metadata": {
        "id": "aMBQelnkca1Z",
        "colab_type": "code",
        "colab": {}
      },
      "source": [
        "import os\n",
        "import random\n",
        "import numpy as np\n",
        "import pandas as pd \n",
        "from skimage import io\n",
        "from skimage import color\n",
        "from PIL import Image\n",
        "from IPython.display import display\n",
        "import matplotlib.pyplot as plt\n",
        "import seaborn as sns\n",
        "from dask.array.image import imread\n",
        "from dask import bag, threaded\n",
        "from dask.diagnostics import ProgressBar\n",
        "import cv2\n",
        "from sklearn.model_selection import train_test_split\n",
        "import warnings\n",
        "warnings.filterwarnings(\"ignore\")\n",
        "\n",
        "\n",
        "\n",
        "import keras\n",
        "from keras.models import Sequential\n",
        "from keras.layers import Dropout, Flatten, Dense,GlobalAveragePooling2D\n",
        "from keras.layers import Flatten,Dropout\n",
        "from keras.layers import Conv2D, MaxPooling2D\n",
        "from keras.utils import to_categorical\n",
        "from keras.preprocessing import image \n",
        "from tensorflow.keras.preprocessing.image import ImageDataGenerator\n",
        "from keras.layers.normalization import BatchNormalization\n",
        "from keras import optimizers\n",
        "from tensorflow.keras.callbacks import ModelCheckpoint,EarlyStopping,TensorBoard,CSVLogger\n",
        "from tensorflow.keras.callbacks import ReduceLROnPlateau,LearningRateScheduler\n"
      ],
      "execution_count": 0,
      "outputs": []
    },
    {
      "cell_type": "code",
      "metadata": {
        "id": "2tvuTDj7dSid",
        "colab_type": "code",
        "outputId": "7dafeea6-7881-40c0-9267-954010338403",
        "colab": {
          "base_uri": "https://localhost:8080/",
          "height": 125
        }
      },
      "source": [
        "from google.colab import drive\n",
        "drive.mount('/content/drive')"
      ],
      "execution_count": 0,
      "outputs": [
        {
          "output_type": "stream",
          "text": [
            "Go to this URL in a browser: https://accounts.google.com/o/oauth2/auth?client_id=947318989803-6bn6qk8qdgf4n4g3pfee6491hc0brc4i.apps.googleusercontent.com&redirect_uri=urn%3aietf%3awg%3aoauth%3a2.0%3aoob&response_type=code&scope=email%20https%3a%2f%2fwww.googleapis.com%2fauth%2fdocs.test%20https%3a%2f%2fwww.googleapis.com%2fauth%2fdrive%20https%3a%2f%2fwww.googleapis.com%2fauth%2fdrive.photos.readonly%20https%3a%2f%2fwww.googleapis.com%2fauth%2fpeopleapi.readonly\n",
            "\n",
            "Enter your authorization code:\n",
            "··········\n",
            "Mounted at /content/drive\n"
          ],
          "name": "stdout"
        }
      ]
    },
    {
      "cell_type": "code",
      "metadata": {
        "id": "g9UA79ffca1k",
        "colab_type": "code",
        "outputId": "91eb66ac-9e5c-4d98-cef4-c207cec8674e",
        "colab": {
          "base_uri": "https://localhost:8080/",
          "height": 52
        }
      },
      "source": [
        "base_dir = '/content/drive/My Drive/crop/'\n",
        "train_data_dir = os.path.join(base_dir,'train')\n",
        "\n",
        "image_width = 331\n",
        "image_height = 331\n",
        "batch_size=8\n",
        "\n",
        "datagen = ImageDataGenerator(rescale=1./255,                                    \n",
        "                                    \n",
        "                                    zoom_range = 0.3,\n",
        "                                    \n",
        "                                    validation_split=0.20)\n",
        "\n",
        "train_generator = datagen.flow_from_directory(\n",
        "    train_data_dir,\n",
        "    target_size=(image_width,image_height),\n",
        "    batch_size=batch_size,\n",
        "    shuffle=False,\n",
        "    class_mode = 'categorical',\n",
        "    subset='training'\n",
        ")\n",
        "validation_generator = datagen.flow_from_directory(\n",
        "    train_data_dir,\n",
        "    target_size=(image_width,image_height),\n",
        "    shuffle=False,\n",
        "    batch_size=batch_size,\n",
        "    class_mode = 'categorical',\n",
        "    subset='validation'\n",
        ")\n"
      ],
      "execution_count": 0,
      "outputs": [
        {
          "output_type": "stream",
          "text": [
            "Found 702 images belonging to 3 classes.\n",
            "Found 174 images belonging to 3 classes.\n"
          ],
          "name": "stdout"
        }
      ]
    },
    {
      "cell_type": "code",
      "metadata": {
        "id": "ecmop3WRca2y",
        "colab_type": "code",
        "colab": {}
      },
      "source": [
        "## Defining the input\n",
        "\n",
        "from keras.layers import Input\n",
        "xception_input = Input(shape = (331, 331, 3), name = 'Image_input')\n",
        "\n",
        "## The RESNET model\n",
        "\n",
        "from keras.applications.xception import preprocess_input, decode_predictions\n",
        "from keras.applications.xception import Xception\n",
        "\n",
        "\n",
        "#Get the RESNET weights and layers\n",
        "\n",
        "model_xception_conv = Xception(weights= 'imagenet', include_top=False, input_shape= (331,331,3))\n",
        "#model_xception_conv.summary()"
      ],
      "execution_count": 0,
      "outputs": []
    },
    {
      "cell_type": "code",
      "metadata": {
        "id": "SKyfyIzWca22",
        "colab_type": "code",
        "colab": {}
      },
      "source": [
        "#Use the generated model \n",
        "basic_model = Xception(include_top=False, weights='imagenet', pooling='avg')\n",
        "\n",
        "# for layer in basic_model.layers:\n",
        "#     layer.trainable = False\n",
        "\n",
        "input_tensor = basic_model.input\n",
        "# build top\n",
        "x = basic_model.output\n",
        "x = Dropout(.5)(x)\n",
        "x = Dense(3, activation='softmax')(x)\n",
        "\n",
        "xception_pretrained = Model(inputs=input_tensor, outputs=x)\n",
        "#xception_pretrained.compile(optimizer=optimizers.RMSprop(1e-3), loss='categorical_crossentropy', metrics=['accuracy'])\n",
        "\n",
        "\n",
        "# # Compile CNN model\n",
        "# adam = keras.optimizers.Adam(lr=0.001, beta_1=0.9, beta_2=0.999, epsilon=1e-8, decay=0.0)\n",
        "# sgd = optimizers.SGD(lr = 0.005)\n",
        "xception_pretrained.compile(loss='categorical_crossentropy',optimizer = sgd,metrics=['accuracy'])\n"
      ],
      "execution_count": 0,
      "outputs": []
    },
    {
      "cell_type": "code",
      "metadata": {
        "id": "5Z807jtBca28",
        "colab_type": "code",
        "outputId": "a0291265-1ce1-401c-e492-a2c053d4851a",
        "colab": {
          "base_uri": "https://localhost:8080/",
          "height": 692
        }
      },
      "source": [
        "from keras.preprocessing.image import ImageDataGenerator\n",
        "from keras.callbacks import ModelCheckpoint,EarlyStopping\n",
        "from keras.callbacks import ReduceLROnPlateau\n",
        "\n",
        "checkpointer = ModelCheckpoint('xception_weights_aug_extralayer_alltrained_sgd2_V2.hdf5', verbose=1, save_best_only=True)\n",
        "earlystopper = EarlyStopping(monitor='val_loss', patience=10, verbose=1)\n",
        "\n",
        "\n",
        "\n",
        "# Fits the model on batches with real-time data augmentation:\n",
        "xception_model = xception_pretrained.fit_generator(train_generator,steps_per_epoch = 614 / 8, callbacks=[checkpointer, earlystopper],\n",
        "                                                            epochs = 50, verbose = 1, validation_data = validation_generator,validation_steps = 174/8)\n"
      ],
      "execution_count": 0,
      "outputs": [
        {
          "output_type": "stream",
          "text": [
            "Epoch 1/50\n",
            "77/76 [==============================] - 116s 2s/step - loss: 1.1142 - acc: 0.3674 - val_loss: 1.0499 - val_acc: 0.4138\n",
            "\n",
            "Epoch 00001: val_loss improved from inf to 1.04994, saving model to xception_weights_aug_extralayer_alltrained_sgd2_V2.hdf5\n",
            "Epoch 2/50\n",
            "77/76 [==============================] - 85s 1s/step - loss: 1.1088 - acc: 0.3777 - val_loss: 1.0489 - val_acc: 0.3621\n",
            "\n",
            "Epoch 00002: val_loss improved from 1.04994 to 1.04893, saving model to xception_weights_aug_extralayer_alltrained_sgd2_V2.hdf5\n",
            "Epoch 3/50\n",
            "77/76 [==============================] - 91s 1s/step - loss: 1.0859 - acc: 0.4221 - val_loss: 1.0622 - val_acc: 0.3391\n",
            "\n",
            "Epoch 00003: val_loss did not improve from 1.04893\n",
            "Epoch 4/50\n",
            "77/76 [==============================] - 90s 1s/step - loss: 1.1121 - acc: 0.4578 - val_loss: 1.0566 - val_acc: 0.4023\n",
            "\n",
            "Epoch 00004: val_loss did not improve from 1.04893\n",
            "Epoch 5/50\n",
            "77/76 [==============================] - 90s 1s/step - loss: 1.0775 - acc: 0.4123 - val_loss: 1.0543 - val_acc: 0.4080\n",
            "\n",
            "Epoch 00005: val_loss did not improve from 1.04893\n",
            "Epoch 6/50\n",
            "77/76 [==============================] - 89s 1s/step - loss: 1.0774 - acc: 0.4437 - val_loss: 1.0536 - val_acc: 0.3908\n",
            "\n",
            "Epoch 00006: val_loss did not improve from 1.04893\n",
            "Epoch 7/50\n",
            "77/76 [==============================] - 92s 1s/step - loss: 1.0224 - acc: 0.4692 - val_loss: 1.0801 - val_acc: 0.4310\n",
            "\n",
            "Epoch 00007: val_loss did not improve from 1.04893\n",
            "Epoch 8/50\n",
            "77/76 [==============================] - 90s 1s/step - loss: 1.0331 - acc: 0.3820 - val_loss: 1.0209 - val_acc: 0.4368\n",
            "\n",
            "Epoch 00008: val_loss improved from 1.04893 to 1.02092, saving model to xception_weights_aug_extralayer_alltrained_sgd2_V2.hdf5\n",
            "Epoch 9/50\n",
            "77/76 [==============================] - 90s 1s/step - loss: 0.9464 - acc: 0.4399 - val_loss: 1.0321 - val_acc: 0.4540\n",
            "\n",
            "Epoch 00009: val_loss did not improve from 1.02092\n",
            "Epoch 10/50\n",
            "76/76 [============================>.] - ETA: 0s - loss: 0.9560 - acc: 0.4605"
          ],
          "name": "stdout"
        }
      ]
    },
    {
      "cell_type": "code",
      "metadata": {
        "id": "tuEH3buNca3A",
        "colab_type": "code",
        "outputId": "0a6a4f80-2052-41e2-99f4-89873f25c121",
        "colab": {
          "base_uri": "https://localhost:8080/",
          "height": 372
        }
      },
      "source": [
        "fig, axes = plt.subplots(1, 2, figsize = (10, 5))\n",
        "axes[0].plot(range(1, len(xception_pretrained.history.history['acc']) + 1), xception_pretrained.history.history['acc'], linestyle = 'solid', marker = 'o', color = 'crimson', label = 'Training Accuracy')\n",
        "axes[0].plot(range(1, len(xception_pretrained.history.history['val_acc']) + 1), xception_pretrained.history.history['val_acc'], linestyle = 'solid', marker = 'o', color = 'dodgerblue', label = 'Testing Accuracy')\n",
        "axes[0].set_xlabel('Epochs', fontsize = 14)\n",
        "axes[0].set_ylabel('Accuracy',fontsize = 14)\n",
        "axes[0].set_title('CNN Dropout Accuracy Trainig VS Testing', fontsize = 14)\n",
        "axes[0].legend(loc = 'best')\n",
        "axes[1].plot(range(1, len(xception_pretrained.history.history['loss']) + 1), xception_pretrained.history.history['loss'], linestyle = 'solid', marker = 'o', color = 'crimson', label = 'Training Loss')\n",
        "axes[1].plot(range(1, len(xception_pretrained.history.history['val_loss']) + 1), xception_pretrained.history.history['val_loss'], linestyle = 'solid', marker = 'o', color = 'dodgerblue', label = 'Testing Loss')\n",
        "axes[1].set_xlabel('Epochs', fontsize = 14)\n",
        "axes[1].set_ylabel('Loss',fontsize = 14)\n",
        "axes[1].set_title('CNN Dropout Loss Trainig VS Testing', fontsize = 14)\n",
        "axes[1].legend(loc = 'best')"
      ],
      "execution_count": 0,
      "outputs": [
        {
          "output_type": "execute_result",
          "data": {
            "text/plain": [
              "<matplotlib.legend.Legend at 0x7fee4beb3828>"
            ]
          },
          "metadata": {
            "tags": []
          },
          "execution_count": 30
        },
        {
          "output_type": "display_data",
          "data": {
            "image/png": "[encoded data removed]",
            "text/plain": [
              "<Figure size 720x360 with 2 Axes>"
            ]
          },
          "metadata": {
            "tags": []
          }
        }
      ]
    },
    {
      "cell_type": "code",
      "metadata": {
        "id": "QaT0lhP4HqA0",
        "colab_type": "code",
        "outputId": "38eb7586-746d-48c2-f896-4bb163d79b3d",
        "colab": {
          "base_uri": "https://localhost:8080/",
          "height": 1000
        }
      },
      "source": [
        "from keras.preprocessing.image import ImageDataGenerator\n",
        "from keras.callbacks import ModelCheckpoint,EarlyStopping\n",
        "from keras.callbacks import ReduceLROnPlateau\n",
        "\n",
        "checkpointer = ModelCheckpoint('xception_weights_no_shuffle.hdf5', verbose=1, save_best_only=True)\n",
        "earlystopper = EarlyStopping(monitor='val_loss', patience=5, verbose=1)\n",
        "#ReduceLROnPlateau = ReduceLROnPlateau(monitor='val_acc', factor=0.5, patience=2, verbose=1)\n",
        "\n",
        "\n",
        "\n",
        "# Fits the model on batches with real-time data augmentation:\n",
        "xception_model = xception_pretrained.fit_generator(train_generator,steps_per_epoch = 702 / 8, callbacks=[checkpointer, earlystopper],\n",
        "                                                            epochs = 30, verbose = 1, validation_data = validation_generator,validation_steps=174/8)\n"
      ],
      "execution_count": 0,
      "outputs": [
        {
          "output_type": "stream",
          "text": [
            "Epoch 1/30\n",
            "77/76 [==============================] - 156s 2s/step - loss: 1.2624 - acc: 0.3739 - val_loss: 1.2394 - val_acc: 0.4008\n",
            "\n",
            "Epoch 00001: val_loss improved from inf to 1.23935, saving model to xception_weights_no_shuffle.hdf5\n",
            "Epoch 2/30\n",
            "77/76 [==============================] - 132s 2s/step - loss: 1.1870 - acc: 0.4199 - val_loss: 1.1935 - val_acc: 0.3817\n",
            "\n",
            "Epoch 00002: val_loss improved from 1.23935 to 1.19353, saving model to xception_weights_no_shuffle.hdf5\n",
            "Epoch 3/30\n",
            "77/76 [==============================] - 138s 2s/step - loss: 1.1996 - acc: 0.3647 - val_loss: 1.0846 - val_acc: 0.4542\n",
            "\n",
            "Epoch 00003: val_loss improved from 1.19353 to 1.08457, saving model to xception_weights_no_shuffle.hdf5\n",
            "Epoch 4/30\n",
            "77/76 [==============================] - 136s 2s/step - loss: 1.1435 - acc: 0.4080 - val_loss: 1.0391 - val_acc: 0.4313\n",
            "\n",
            "Epoch 00004: val_loss improved from 1.08457 to 1.03907, saving model to xception_weights_no_shuffle.hdf5\n",
            "Epoch 5/30\n",
            "77/76 [==============================] - 134s 2s/step - loss: 1.1270 - acc: 0.4232 - val_loss: 1.0047 - val_acc: 0.4656\n",
            "\n",
            "Epoch 00005: val_loss improved from 1.03907 to 1.00465, saving model to xception_weights_no_shuffle.hdf5\n",
            "Epoch 6/30\n",
            "77/76 [==============================] - 135s 2s/step - loss: 1.0239 - acc: 0.4892 - val_loss: 1.0325 - val_acc: 0.5076\n",
            "\n",
            "Epoch 00006: val_loss did not improve from 1.00465\n",
            "Epoch 7/30\n",
            "77/76 [==============================] - 137s 2s/step - loss: 1.0157 - acc: 0.5081 - val_loss: 0.9411 - val_acc: 0.5611\n",
            "\n",
            "Epoch 00007: val_loss improved from 1.00465 to 0.94107, saving model to xception_weights_no_shuffle.hdf5\n",
            "Epoch 8/30\n",
            "77/76 [==============================] - 135s 2s/step - loss: 0.9697 - acc: 0.5276 - val_loss: 1.0371 - val_acc: 0.4885\n",
            "\n",
            "Epoch 00008: val_loss did not improve from 0.94107\n",
            "Epoch 9/30\n",
            "77/76 [==============================] - 135s 2s/step - loss: 0.9367 - acc: 0.5373 - val_loss: 0.9717 - val_acc: 0.5191\n",
            "\n",
            "Epoch 00009: val_loss did not improve from 0.94107\n",
            "Epoch 10/30\n",
            "77/76 [==============================] - 138s 2s/step - loss: 0.8589 - acc: 0.5952 - val_loss: 0.9183 - val_acc: 0.5458\n",
            "\n",
            "Epoch 00010: val_loss improved from 0.94107 to 0.91829, saving model to xception_weights_no_shuffle.hdf5\n",
            "Epoch 11/30\n",
            "77/76 [==============================] - 134s 2s/step - loss: 0.7511 - acc: 0.6602 - val_loss: 0.8712 - val_acc: 0.5763\n",
            "\n",
            "Epoch 00011: val_loss improved from 0.91829 to 0.87124, saving model to xception_weights_no_shuffle.hdf5\n",
            "Epoch 12/30\n",
            "77/76 [==============================] - 138s 2s/step - loss: 0.7195 - acc: 0.7094 - val_loss: 0.8193 - val_acc: 0.6450\n",
            "\n",
            "Epoch 00012: val_loss improved from 0.87124 to 0.81935, saving model to xception_weights_no_shuffle.hdf5\n",
            "Epoch 13/30\n",
            "77/76 [==============================] - 136s 2s/step - loss: 0.6450 - acc: 0.7322 - val_loss: 0.8274 - val_acc: 0.6260\n",
            "\n",
            "Epoch 00013: val_loss did not improve from 0.81935\n",
            "Epoch 14/30\n",
            "77/76 [==============================] - 138s 2s/step - loss: 0.5203 - acc: 0.8128 - val_loss: 0.7871 - val_acc: 0.6450\n",
            "\n",
            "Epoch 00014: val_loss improved from 0.81935 to 0.78714, saving model to xception_weights_no_shuffle.hdf5\n",
            "Epoch 15/30\n",
            "77/76 [==============================] - 138s 2s/step - loss: 0.4517 - acc: 0.8534 - val_loss: 0.8321 - val_acc: 0.6183\n",
            "\n",
            "Epoch 00015: val_loss did not improve from 0.78714\n",
            "Epoch 16/30\n",
            "77/76 [==============================] - 133s 2s/step - loss: 0.3815 - acc: 0.8782 - val_loss: 0.8292 - val_acc: 0.6069\n",
            "\n",
            "Epoch 00016: val_loss did not improve from 0.78714\n",
            "Epoch 17/30\n",
            "77/76 [==============================] - 137s 2s/step - loss: 0.3122 - acc: 0.9123 - val_loss: 0.7947 - val_acc: 0.6794\n",
            "\n",
            "Epoch 00017: val_loss did not improve from 0.78714\n",
            "Epoch 18/30\n",
            "77/76 [==============================] - 138s 2s/step - loss: 0.2728 - acc: 0.9215 - val_loss: 0.8615 - val_acc: 0.6450\n",
            "\n",
            "Epoch 00018: val_loss did not improve from 0.78714\n",
            "Epoch 19/30\n",
            "77/76 [==============================] - 132s 2s/step - loss: 0.2178 - acc: 0.9362 - val_loss: 0.7652 - val_acc: 0.6985\n",
            "\n",
            "Epoch 00019: val_loss improved from 0.78714 to 0.76520, saving model to xception_weights_no_shuffle.hdf5\n",
            "Epoch 20/30\n",
            "77/76 [==============================] - 137s 2s/step - loss: 0.2117 - acc: 0.9426 - val_loss: 0.7774 - val_acc: 0.6870\n",
            "\n",
            "Epoch 00020: val_loss did not improve from 0.76520\n",
            "Epoch 21/30\n",
            "77/76 [==============================] - 139s 2s/step - loss: 0.1586 - acc: 0.9594 - val_loss: 0.8116 - val_acc: 0.6870\n",
            "\n",
            "Epoch 00021: val_loss did not improve from 0.76520\n",
            "Epoch 22/30\n",
            "77/76 [==============================] - 134s 2s/step - loss: 0.1346 - acc: 0.9756 - val_loss: 0.8642 - val_acc: 0.6565\n",
            "\n",
            "Epoch 00022: val_loss did not improve from 0.76520\n",
            "Epoch 23/30\n",
            "77/76 [==============================] - 134s 2s/step - loss: 0.1040 - acc: 0.9805 - val_loss: 0.7648 - val_acc: 0.6985\n",
            "\n",
            "Epoch 00023: val_loss improved from 0.76520 to 0.76475, saving model to xception_weights_no_shuffle.hdf5\n",
            "Epoch 24/30\n",
            "77/76 [==============================] - 134s 2s/step - loss: 0.0900 - acc: 0.9854 - val_loss: 0.8683 - val_acc: 0.6489\n",
            "\n",
            "Epoch 00024: val_loss did not improve from 0.76475\n",
            "Epoch 25/30\n",
            "77/76 [==============================] - 134s 2s/step - loss: 0.0889 - acc: 0.9838 - val_loss: 0.8079 - val_acc: 0.6450\n",
            "\n",
            "Epoch 00025: val_loss did not improve from 0.76475\n",
            "Epoch 26/30\n",
            "77/76 [==============================] - 134s 2s/step - loss: 0.0771 - acc: 0.9789 - val_loss: 0.7774 - val_acc: 0.6679\n",
            "\n",
            "Epoch 00026: val_loss did not improve from 0.76475\n",
            "Epoch 27/30\n",
            "77/76 [==============================] - 134s 2s/step - loss: 0.0814 - acc: 0.9816 - val_loss: 0.8133 - val_acc: 0.7137\n",
            "\n",
            "Epoch 00027: val_loss did not improve from 0.76475\n",
            "Epoch 28/30\n",
            "77/76 [==============================] - 137s 2s/step - loss: 0.0674 - acc: 0.9886 - val_loss: 0.8127 - val_acc: 0.6794\n",
            "\n",
            "Epoch 00028: val_loss did not improve from 0.76475\n",
            "Epoch 00028: early stopping\n"
          ],
          "name": "stdout"
        }
      ]
    },
    {
      "cell_type": "code",
      "metadata": {
        "id": "mBG64lbDYSBJ",
        "colab_type": "code",
        "colab": {}
      },
      "source": [
        "for k in sample.ID:\n",
        "    ind=0\n",
        "    print(f'treatment for {k}')\n",
        "    testt=Image.open(glob.glob(f'./data/test/{k}.*')[0]).resize(IMAGE_SHAPE)\n",
        "    testt=np.array(testt)/225\n",
        "#     train_image_generator_all.fit(np.array(testt)[np.newaxis, ...])\n",
        "    predict=model.predict(testt[np.newaxis, ...]).reshape(-1,)\n",
        "#     predict=model.predict(next(train_image_generator_all.flow(np.array(testt)[np.newaxis, ...]))).reshape(-1,)\n",
        "#     while len([m for m in predict if m>0.49])==0 and ind<10:\n",
        "#         ind+=1\n",
        "#         print('retraitment')\n",
        "#         predict=model.predict(next(train_image_generator_all.flow(np.array(testt)[np.newaxis, ...]))).reshape(-1,)\n",
        "        \n",
        "     \n",
        "    sample.loc[sample.ID==k,'healthy_wheat']=predict[0]\n",
        "    sample.loc[sample.ID==k,'leaf_rust']=predict[1]\n",
        "    sample.loc[sample.ID==k,'stem_rust']=predict[2]\n",
        "sample"
      ],
      "execution_count": 0,
      "outputs": []
    }
  ]
}